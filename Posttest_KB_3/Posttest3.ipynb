{
 "cells": [
  {
   "cell_type": "markdown",
   "metadata": {},
   "source": [
    "# Satria Bagus Eka Chandra\n",
    "## 2009106035\n",
    "## Posttest 3 - Kecerdasan Buatan"
   ]
  },
  {
   "cell_type": "markdown",
   "metadata": {},
   "source": [
    "### Import Library"
   ]
  },
  {
   "cell_type": "code",
   "execution_count": 9,
   "metadata": {},
   "outputs": [],
   "source": [
    "import pandas as pd\n",
    "import matplotlib.pyplot as plt\n",
    "import plotly.express as px\n",
    "from plotly.subplots import make_subplots\n",
    "import seaborn as sns\n",
    "from datetime import datetime\n",
    "import numpy as np\n",
    "\n",
    "import plotly.graph_objects as go\n",
    "from plotly.subplots import make_subplots\n",
    "import warnings\n",
    "\n",
    "warnings.filterwarnings('ignore')"
   ]
  },
  {
   "cell_type": "markdown",
   "metadata": {},
   "source": [
    "### Penjelasan Netlix\n",
    "Netflix adalah salah satu platform streaming media dan video paling populer. Netflix memiliki lebih dari 8000 film atau acara tv yang tersedia di platform mereka, pada pertengahan 2021, Netflix memiliki lebih dari 200 juta Pelanggan secara global. Dataset tabular ini terdiri dari daftar semua film dan acara tv yang tersedia di Netflix, bersama dengan detail seperti - pemeran, sutradara, peringkat, tahun rilis, durasi, dll."
   ]
  },
  {
   "cell_type": "markdown",
   "metadata": {},
   "source": [
    "### Read Data"
   ]
  },
  {
   "cell_type": "code",
   "execution_count": 5,
   "metadata": {},
   "outputs": [
    {
     "data": {
      "text/html": [
       "<div>\n",
       "<style scoped>\n",
       "    .dataframe tbody tr th:only-of-type {\n",
       "        vertical-align: middle;\n",
       "    }\n",
       "\n",
       "    .dataframe tbody tr th {\n",
       "        vertical-align: top;\n",
       "    }\n",
       "\n",
       "    .dataframe thead th {\n",
       "        text-align: right;\n",
       "    }\n",
       "</style>\n",
       "<table border=\"1\" class=\"dataframe\">\n",
       "  <thead>\n",
       "    <tr style=\"text-align: right;\">\n",
       "      <th></th>\n",
       "      <th>show_id</th>\n",
       "      <th>type</th>\n",
       "      <th>title</th>\n",
       "      <th>director</th>\n",
       "      <th>cast</th>\n",
       "      <th>country</th>\n",
       "      <th>date_added</th>\n",
       "      <th>release_year</th>\n",
       "      <th>rating</th>\n",
       "      <th>duration</th>\n",
       "      <th>listed_in</th>\n",
       "      <th>description</th>\n",
       "    </tr>\n",
       "  </thead>\n",
       "  <tbody>\n",
       "    <tr>\n",
       "      <th>0</th>\n",
       "      <td>s1</td>\n",
       "      <td>Movie</td>\n",
       "      <td>Dick Johnson Is Dead</td>\n",
       "      <td>Kirsten Johnson</td>\n",
       "      <td>NaN</td>\n",
       "      <td>United States</td>\n",
       "      <td>September 25, 2021</td>\n",
       "      <td>2020</td>\n",
       "      <td>PG-13</td>\n",
       "      <td>90 min</td>\n",
       "      <td>Documentaries</td>\n",
       "      <td>As her father nears the end of his life, filmm...</td>\n",
       "    </tr>\n",
       "    <tr>\n",
       "      <th>1</th>\n",
       "      <td>s2</td>\n",
       "      <td>TV Show</td>\n",
       "      <td>Blood &amp; Water</td>\n",
       "      <td>NaN</td>\n",
       "      <td>Ama Qamata, Khosi Ngema, Gail Mabalane, Thaban...</td>\n",
       "      <td>South Africa</td>\n",
       "      <td>September 24, 2021</td>\n",
       "      <td>2021</td>\n",
       "      <td>TV-MA</td>\n",
       "      <td>2 Seasons</td>\n",
       "      <td>International TV Shows, TV Dramas, TV Mysteries</td>\n",
       "      <td>After crossing paths at a party, a Cape Town t...</td>\n",
       "    </tr>\n",
       "    <tr>\n",
       "      <th>2</th>\n",
       "      <td>s3</td>\n",
       "      <td>TV Show</td>\n",
       "      <td>Ganglands</td>\n",
       "      <td>Julien Leclercq</td>\n",
       "      <td>Sami Bouajila, Tracy Gotoas, Samuel Jouy, Nabi...</td>\n",
       "      <td>NaN</td>\n",
       "      <td>September 24, 2021</td>\n",
       "      <td>2021</td>\n",
       "      <td>TV-MA</td>\n",
       "      <td>1 Season</td>\n",
       "      <td>Crime TV Shows, International TV Shows, TV Act...</td>\n",
       "      <td>To protect his family from a powerful drug lor...</td>\n",
       "    </tr>\n",
       "    <tr>\n",
       "      <th>3</th>\n",
       "      <td>s4</td>\n",
       "      <td>TV Show</td>\n",
       "      <td>Jailbirds New Orleans</td>\n",
       "      <td>NaN</td>\n",
       "      <td>NaN</td>\n",
       "      <td>NaN</td>\n",
       "      <td>September 24, 2021</td>\n",
       "      <td>2021</td>\n",
       "      <td>TV-MA</td>\n",
       "      <td>1 Season</td>\n",
       "      <td>Docuseries, Reality TV</td>\n",
       "      <td>Feuds, flirtations and toilet talk go down amo...</td>\n",
       "    </tr>\n",
       "    <tr>\n",
       "      <th>4</th>\n",
       "      <td>s5</td>\n",
       "      <td>TV Show</td>\n",
       "      <td>Kota Factory</td>\n",
       "      <td>NaN</td>\n",
       "      <td>Mayur More, Jitendra Kumar, Ranjan Raj, Alam K...</td>\n",
       "      <td>India</td>\n",
       "      <td>September 24, 2021</td>\n",
       "      <td>2021</td>\n",
       "      <td>TV-MA</td>\n",
       "      <td>2 Seasons</td>\n",
       "      <td>International TV Shows, Romantic TV Shows, TV ...</td>\n",
       "      <td>In a city of coaching centers known to train I...</td>\n",
       "    </tr>\n",
       "  </tbody>\n",
       "</table>\n",
       "</div>"
      ],
      "text/plain": [
       "  show_id     type                  title         director  \\\n",
       "0      s1    Movie   Dick Johnson Is Dead  Kirsten Johnson   \n",
       "1      s2  TV Show          Blood & Water              NaN   \n",
       "2      s3  TV Show              Ganglands  Julien Leclercq   \n",
       "3      s4  TV Show  Jailbirds New Orleans              NaN   \n",
       "4      s5  TV Show           Kota Factory              NaN   \n",
       "\n",
       "                                                cast        country  \\\n",
       "0                                                NaN  United States   \n",
       "1  Ama Qamata, Khosi Ngema, Gail Mabalane, Thaban...   South Africa   \n",
       "2  Sami Bouajila, Tracy Gotoas, Samuel Jouy, Nabi...            NaN   \n",
       "3                                                NaN            NaN   \n",
       "4  Mayur More, Jitendra Kumar, Ranjan Raj, Alam K...          India   \n",
       "\n",
       "           date_added  release_year rating   duration  \\\n",
       "0  September 25, 2021          2020  PG-13     90 min   \n",
       "1  September 24, 2021          2021  TV-MA  2 Seasons   \n",
       "2  September 24, 2021          2021  TV-MA   1 Season   \n",
       "3  September 24, 2021          2021  TV-MA   1 Season   \n",
       "4  September 24, 2021          2021  TV-MA  2 Seasons   \n",
       "\n",
       "                                           listed_in  \\\n",
       "0                                      Documentaries   \n",
       "1    International TV Shows, TV Dramas, TV Mysteries   \n",
       "2  Crime TV Shows, International TV Shows, TV Act...   \n",
       "3                             Docuseries, Reality TV   \n",
       "4  International TV Shows, Romantic TV Shows, TV ...   \n",
       "\n",
       "                                         description  \n",
       "0  As her father nears the end of his life, filmm...  \n",
       "1  After crossing paths at a party, a Cape Town t...  \n",
       "2  To protect his family from a powerful drug lor...  \n",
       "3  Feuds, flirtations and toilet talk go down amo...  \n",
       "4  In a city of coaching centers known to train I...  "
      ]
     },
     "execution_count": 5,
     "metadata": {},
     "output_type": "execute_result"
    }
   ],
   "source": [
    "df = pd.read_csv(\"netflix_titles.csv\")\n",
    "df.head()\n"
   ]
  },
  {
   "cell_type": "markdown",
   "metadata": {},
   "source": [
    "Karena kita tidak akan menggunakan atribut director dan cast maka kita akan menghapus atribut tersebut"
   ]
  },
  {
   "cell_type": "code",
   "execution_count": 6,
   "metadata": {},
   "outputs": [
    {
     "data": {
      "text/plain": [
       "Index(['show_id', 'type', 'title', 'country', 'date_added', 'release_year',\n",
       "       'rating', 'duration', 'listed_in', 'description'],\n",
       "      dtype='object')"
      ]
     },
     "execution_count": 6,
     "metadata": {},
     "output_type": "execute_result"
    }
   ],
   "source": [
    "df = df.drop(['director', 'cast'], axis=1)\n",
    "df.dropna(inplace=True)\n",
    "df.columns"
   ]
  },
  {
   "cell_type": "markdown",
   "metadata": {},
   "source": [
    "Mengubah nilai dari atribut rating agar lebih mudah dimengerti"
   ]
  },
  {
   "cell_type": "code",
   "execution_count": 22,
   "metadata": {},
   "outputs": [],
   "source": [
    "df['rating'] = df['rating'].replace({\n",
    "                'PG-13': 'Remaja - Umur diatas 13',\n",
    "                'TV-MA': 'Dewasa',\n",
    "                'PG': 'Anak-Anak - Dengan Pengawasan Orang Tua',\n",
    "                'TV-14': 'Remaja - Umur diatas 14',\n",
    "                'TV-PG': 'Anak-Anak - Dengan Pengawasan Orang Tua',\n",
    "                'TV-Y': 'Anak-Anak',\n",
    "                'TV-Y7': 'Anak-Anak - Umur Diatas 7',\n",
    "                'R': 'Dewasa',\n",
    "                'TV-G': 'Anak-Anak',\n",
    "                 'G': 'Anak-Anak',\n",
    "                'NC-17': 'Dewasa',\n",
    "                'NR': 'NR',\n",
    "                'UR' : 'UR'\n",
    "                \n",
    "})\n"
   ]
  },
  {
   "cell_type": "code",
   "execution_count": 23,
   "metadata": {},
   "outputs": [],
   "source": [
    "df['year_added'] = df['date_added'].apply(lambda x: x.split(\" \")[-1])\n",
    "df['month_added'] = df['date_added'].apply(lambda x: x.split(\" \")[0])\n",
    "df['principal_country'] = df['country'].apply(lambda x: x.split(\",\")[0])\n",
    "df['year_added'] = pd.to_numeric(df['year_added'])\n",
    "df['genre'] = df['listed_in'].apply(lambda x :  x.replace(' ,',',').replace(', ',',').split(','))"
   ]
  },
  {
   "cell_type": "markdown",
   "metadata": {},
   "source": [
    "### Grafik 1 : Perbandingan Jenis Konten di Netflix (Bar Chart & Pie Chart)"
   ]
  },
  {
   "cell_type": "code",
   "execution_count": 29,
   "metadata": {},
   "outputs": [
    {
     "data": {
      "application/vnd.plotly.v1+json": {
       "config": {
        "plotlyServerURL": "https://plot.ly"
       },
       "data": [
        {
         "marker": {
          "color": [
           "#F76E11",
           "#FFBC80"
          ]
         },
         "showlegend": false,
         "type": "bar",
         "x": [
          "Movie",
          "TV Show"
         ],
         "xaxis": "x",
         "y": [
          5687,
          2274
         ],
         "yaxis": "y"
        },
        {
         "domain": {
          "x": [
           0.55,
           1
          ],
          "y": [
           0,
           1
          ]
         },
         "insidetextorientation": "auto",
         "labels": [
          "Movie",
          "TV Show"
         ],
         "marker": {
          "colors": [
           "#F76E11",
           "FFBC80"
          ]
         },
         "textinfo": "label+percent",
         "type": "pie",
         "values": [
          5687,
          2274
         ]
        }
       ],
       "layout": {
        "height": 650,
        "template": {
         "data": {
          "bar": [
           {
            "error_x": {
             "color": "#2a3f5f"
            },
            "error_y": {
             "color": "#2a3f5f"
            },
            "marker": {
             "line": {
              "color": "#E5ECF6",
              "width": 0.5
             },
             "pattern": {
              "fillmode": "overlay",
              "size": 10,
              "solidity": 0.2
             }
            },
            "type": "bar"
           }
          ],
          "barpolar": [
           {
            "marker": {
             "line": {
              "color": "#E5ECF6",
              "width": 0.5
             },
             "pattern": {
              "fillmode": "overlay",
              "size": 10,
              "solidity": 0.2
             }
            },
            "type": "barpolar"
           }
          ],
          "carpet": [
           {
            "aaxis": {
             "endlinecolor": "#2a3f5f",
             "gridcolor": "white",
             "linecolor": "white",
             "minorgridcolor": "white",
             "startlinecolor": "#2a3f5f"
            },
            "baxis": {
             "endlinecolor": "#2a3f5f",
             "gridcolor": "white",
             "linecolor": "white",
             "minorgridcolor": "white",
             "startlinecolor": "#2a3f5f"
            },
            "type": "carpet"
           }
          ],
          "choropleth": [
           {
            "colorbar": {
             "outlinewidth": 0,
             "ticks": ""
            },
            "type": "choropleth"
           }
          ],
          "contour": [
           {
            "colorbar": {
             "outlinewidth": 0,
             "ticks": ""
            },
            "colorscale": [
             [
              0,
              "#0d0887"
             ],
             [
              0.1111111111111111,
              "#46039f"
             ],
             [
              0.2222222222222222,
              "#7201a8"
             ],
             [
              0.3333333333333333,
              "#9c179e"
             ],
             [
              0.4444444444444444,
              "#bd3786"
             ],
             [
              0.5555555555555556,
              "#d8576b"
             ],
             [
              0.6666666666666666,
              "#ed7953"
             ],
             [
              0.7777777777777778,
              "#fb9f3a"
             ],
             [
              0.8888888888888888,
              "#fdca26"
             ],
             [
              1,
              "#f0f921"
             ]
            ],
            "type": "contour"
           }
          ],
          "contourcarpet": [
           {
            "colorbar": {
             "outlinewidth": 0,
             "ticks": ""
            },
            "type": "contourcarpet"
           }
          ],
          "heatmap": [
           {
            "colorbar": {
             "outlinewidth": 0,
             "ticks": ""
            },
            "colorscale": [
             [
              0,
              "#0d0887"
             ],
             [
              0.1111111111111111,
              "#46039f"
             ],
             [
              0.2222222222222222,
              "#7201a8"
             ],
             [
              0.3333333333333333,
              "#9c179e"
             ],
             [
              0.4444444444444444,
              "#bd3786"
             ],
             [
              0.5555555555555556,
              "#d8576b"
             ],
             [
              0.6666666666666666,
              "#ed7953"
             ],
             [
              0.7777777777777778,
              "#fb9f3a"
             ],
             [
              0.8888888888888888,
              "#fdca26"
             ],
             [
              1,
              "#f0f921"
             ]
            ],
            "type": "heatmap"
           }
          ],
          "heatmapgl": [
           {
            "colorbar": {
             "outlinewidth": 0,
             "ticks": ""
            },
            "colorscale": [
             [
              0,
              "#0d0887"
             ],
             [
              0.1111111111111111,
              "#46039f"
             ],
             [
              0.2222222222222222,
              "#7201a8"
             ],
             [
              0.3333333333333333,
              "#9c179e"
             ],
             [
              0.4444444444444444,
              "#bd3786"
             ],
             [
              0.5555555555555556,
              "#d8576b"
             ],
             [
              0.6666666666666666,
              "#ed7953"
             ],
             [
              0.7777777777777778,
              "#fb9f3a"
             ],
             [
              0.8888888888888888,
              "#fdca26"
             ],
             [
              1,
              "#f0f921"
             ]
            ],
            "type": "heatmapgl"
           }
          ],
          "histogram": [
           {
            "marker": {
             "pattern": {
              "fillmode": "overlay",
              "size": 10,
              "solidity": 0.2
             }
            },
            "type": "histogram"
           }
          ],
          "histogram2d": [
           {
            "colorbar": {
             "outlinewidth": 0,
             "ticks": ""
            },
            "colorscale": [
             [
              0,
              "#0d0887"
             ],
             [
              0.1111111111111111,
              "#46039f"
             ],
             [
              0.2222222222222222,
              "#7201a8"
             ],
             [
              0.3333333333333333,
              "#9c179e"
             ],
             [
              0.4444444444444444,
              "#bd3786"
             ],
             [
              0.5555555555555556,
              "#d8576b"
             ],
             [
              0.6666666666666666,
              "#ed7953"
             ],
             [
              0.7777777777777778,
              "#fb9f3a"
             ],
             [
              0.8888888888888888,
              "#fdca26"
             ],
             [
              1,
              "#f0f921"
             ]
            ],
            "type": "histogram2d"
           }
          ],
          "histogram2dcontour": [
           {
            "colorbar": {
             "outlinewidth": 0,
             "ticks": ""
            },
            "colorscale": [
             [
              0,
              "#0d0887"
             ],
             [
              0.1111111111111111,
              "#46039f"
             ],
             [
              0.2222222222222222,
              "#7201a8"
             ],
             [
              0.3333333333333333,
              "#9c179e"
             ],
             [
              0.4444444444444444,
              "#bd3786"
             ],
             [
              0.5555555555555556,
              "#d8576b"
             ],
             [
              0.6666666666666666,
              "#ed7953"
             ],
             [
              0.7777777777777778,
              "#fb9f3a"
             ],
             [
              0.8888888888888888,
              "#fdca26"
             ],
             [
              1,
              "#f0f921"
             ]
            ],
            "type": "histogram2dcontour"
           }
          ],
          "mesh3d": [
           {
            "colorbar": {
             "outlinewidth": 0,
             "ticks": ""
            },
            "type": "mesh3d"
           }
          ],
          "parcoords": [
           {
            "line": {
             "colorbar": {
              "outlinewidth": 0,
              "ticks": ""
             }
            },
            "type": "parcoords"
           }
          ],
          "pie": [
           {
            "automargin": true,
            "type": "pie"
           }
          ],
          "scatter": [
           {
            "fillpattern": {
             "fillmode": "overlay",
             "size": 10,
             "solidity": 0.2
            },
            "type": "scatter"
           }
          ],
          "scatter3d": [
           {
            "line": {
             "colorbar": {
              "outlinewidth": 0,
              "ticks": ""
             }
            },
            "marker": {
             "colorbar": {
              "outlinewidth": 0,
              "ticks": ""
             }
            },
            "type": "scatter3d"
           }
          ],
          "scattercarpet": [
           {
            "marker": {
             "colorbar": {
              "outlinewidth": 0,
              "ticks": ""
             }
            },
            "type": "scattercarpet"
           }
          ],
          "scattergeo": [
           {
            "marker": {
             "colorbar": {
              "outlinewidth": 0,
              "ticks": ""
             }
            },
            "type": "scattergeo"
           }
          ],
          "scattergl": [
           {
            "marker": {
             "colorbar": {
              "outlinewidth": 0,
              "ticks": ""
             }
            },
            "type": "scattergl"
           }
          ],
          "scattermapbox": [
           {
            "marker": {
             "colorbar": {
              "outlinewidth": 0,
              "ticks": ""
             }
            },
            "type": "scattermapbox"
           }
          ],
          "scatterpolar": [
           {
            "marker": {
             "colorbar": {
              "outlinewidth": 0,
              "ticks": ""
             }
            },
            "type": "scatterpolar"
           }
          ],
          "scatterpolargl": [
           {
            "marker": {
             "colorbar": {
              "outlinewidth": 0,
              "ticks": ""
             }
            },
            "type": "scatterpolargl"
           }
          ],
          "scatterternary": [
           {
            "marker": {
             "colorbar": {
              "outlinewidth": 0,
              "ticks": ""
             }
            },
            "type": "scatterternary"
           }
          ],
          "surface": [
           {
            "colorbar": {
             "outlinewidth": 0,
             "ticks": ""
            },
            "colorscale": [
             [
              0,
              "#0d0887"
             ],
             [
              0.1111111111111111,
              "#46039f"
             ],
             [
              0.2222222222222222,
              "#7201a8"
             ],
             [
              0.3333333333333333,
              "#9c179e"
             ],
             [
              0.4444444444444444,
              "#bd3786"
             ],
             [
              0.5555555555555556,
              "#d8576b"
             ],
             [
              0.6666666666666666,
              "#ed7953"
             ],
             [
              0.7777777777777778,
              "#fb9f3a"
             ],
             [
              0.8888888888888888,
              "#fdca26"
             ],
             [
              1,
              "#f0f921"
             ]
            ],
            "type": "surface"
           }
          ],
          "table": [
           {
            "cells": {
             "fill": {
              "color": "#EBF0F8"
             },
             "line": {
              "color": "white"
             }
            },
            "header": {
             "fill": {
              "color": "#C8D4E3"
             },
             "line": {
              "color": "white"
             }
            },
            "type": "table"
           }
          ]
         },
         "layout": {
          "annotationdefaults": {
           "arrowcolor": "#2a3f5f",
           "arrowhead": 0,
           "arrowwidth": 1
          },
          "autotypenumbers": "strict",
          "coloraxis": {
           "colorbar": {
            "outlinewidth": 0,
            "ticks": ""
           }
          },
          "colorscale": {
           "diverging": [
            [
             0,
             "#8e0152"
            ],
            [
             0.1,
             "#c51b7d"
            ],
            [
             0.2,
             "#de77ae"
            ],
            [
             0.3,
             "#f1b6da"
            ],
            [
             0.4,
             "#fde0ef"
            ],
            [
             0.5,
             "#f7f7f7"
            ],
            [
             0.6,
             "#e6f5d0"
            ],
            [
             0.7,
             "#b8e186"
            ],
            [
             0.8,
             "#7fbc41"
            ],
            [
             0.9,
             "#4d9221"
            ],
            [
             1,
             "#276419"
            ]
           ],
           "sequential": [
            [
             0,
             "#0d0887"
            ],
            [
             0.1111111111111111,
             "#46039f"
            ],
            [
             0.2222222222222222,
             "#7201a8"
            ],
            [
             0.3333333333333333,
             "#9c179e"
            ],
            [
             0.4444444444444444,
             "#bd3786"
            ],
            [
             0.5555555555555556,
             "#d8576b"
            ],
            [
             0.6666666666666666,
             "#ed7953"
            ],
            [
             0.7777777777777778,
             "#fb9f3a"
            ],
            [
             0.8888888888888888,
             "#fdca26"
            ],
            [
             1,
             "#f0f921"
            ]
           ],
           "sequentialminus": [
            [
             0,
             "#0d0887"
            ],
            [
             0.1111111111111111,
             "#46039f"
            ],
            [
             0.2222222222222222,
             "#7201a8"
            ],
            [
             0.3333333333333333,
             "#9c179e"
            ],
            [
             0.4444444444444444,
             "#bd3786"
            ],
            [
             0.5555555555555556,
             "#d8576b"
            ],
            [
             0.6666666666666666,
             "#ed7953"
            ],
            [
             0.7777777777777778,
             "#fb9f3a"
            ],
            [
             0.8888888888888888,
             "#fdca26"
            ],
            [
             1,
             "#f0f921"
            ]
           ]
          },
          "colorway": [
           "#636efa",
           "#EF553B",
           "#00cc96",
           "#ab63fa",
           "#FFA15A",
           "#19d3f3",
           "#FF6692",
           "#B6E880",
           "#FF97FF",
           "#FECB52"
          ],
          "font": {
           "color": "#2a3f5f"
          },
          "geo": {
           "bgcolor": "white",
           "lakecolor": "white",
           "landcolor": "#E5ECF6",
           "showlakes": true,
           "showland": true,
           "subunitcolor": "white"
          },
          "hoverlabel": {
           "align": "left"
          },
          "hovermode": "closest",
          "mapbox": {
           "style": "light"
          },
          "paper_bgcolor": "white",
          "plot_bgcolor": "#E5ECF6",
          "polar": {
           "angularaxis": {
            "gridcolor": "white",
            "linecolor": "white",
            "ticks": ""
           },
           "bgcolor": "#E5ECF6",
           "radialaxis": {
            "gridcolor": "white",
            "linecolor": "white",
            "ticks": ""
           }
          },
          "scene": {
           "xaxis": {
            "backgroundcolor": "#E5ECF6",
            "gridcolor": "white",
            "gridwidth": 2,
            "linecolor": "white",
            "showbackground": true,
            "ticks": "",
            "zerolinecolor": "white"
           },
           "yaxis": {
            "backgroundcolor": "#E5ECF6",
            "gridcolor": "white",
            "gridwidth": 2,
            "linecolor": "white",
            "showbackground": true,
            "ticks": "",
            "zerolinecolor": "white"
           },
           "zaxis": {
            "backgroundcolor": "#E5ECF6",
            "gridcolor": "white",
            "gridwidth": 2,
            "linecolor": "white",
            "showbackground": true,
            "ticks": "",
            "zerolinecolor": "white"
           }
          },
          "shapedefaults": {
           "line": {
            "color": "#2a3f5f"
           }
          },
          "ternary": {
           "aaxis": {
            "gridcolor": "white",
            "linecolor": "white",
            "ticks": ""
           },
           "baxis": {
            "gridcolor": "white",
            "linecolor": "white",
            "ticks": ""
           },
           "bgcolor": "#E5ECF6",
           "caxis": {
            "gridcolor": "white",
            "linecolor": "white",
            "ticks": ""
           }
          },
          "title": {
           "x": 0.05
          },
          "xaxis": {
           "automargin": true,
           "gridcolor": "white",
           "linecolor": "white",
           "ticks": "",
           "title": {
            "standoff": 15
           },
           "zerolinecolor": "white",
           "zerolinewidth": 2
          },
          "yaxis": {
           "automargin": true,
           "gridcolor": "white",
           "linecolor": "white",
           "ticks": "",
           "title": {
            "standoff": 15
           },
           "zerolinecolor": "white",
           "zerolinewidth": 2
          }
         }
        },
        "title": {
         "text": "Perbandingan Jumlah Konten di Netflix",
         "x": 0.5
        },
        "width": 650,
        "xaxis": {
         "anchor": "y",
         "domain": [
          0,
          0.45
         ]
        },
        "yaxis": {
         "anchor": "x",
         "domain": [
          0,
          1
         ]
        }
       }
      }
     },
     "metadata": {},
     "output_type": "display_data"
    }
   ],
   "source": [
    "df2 = df['type'].value_counts().reset_index()\n",
    "\n",
    "fig = make_subplots(rows=1, cols=2, specs=[[{'type':'bar'}, {'type':'pie'}]])\n",
    "fig.add_trace(go.Bar(x = df2['index'],y=df2['type'], showlegend=False,marker_color=['#F76E11','#FFBC80']),1,1)\n",
    "fig.add_trace(go.Pie(labels=['Movie','TV Show'],values = df2['type'],marker_colors=['#F76E11','FFBC80'],insidetextorientation='auto',textinfo='label+percent'),1,2)\n",
    "fig.update_layout(title_text = 'Perbandingan Jumlah Konten di Netflix',title_x=0.5,width=650,height=650)\n"
   ]
  },
  {
   "cell_type": "markdown",
   "metadata": {},
   "source": [
    "### Kesimpulan:\n",
    "- Movie : Movie/Film merupakan kreasi satu kali dari suatu konsep (Beberapa memiliki sekuel). Contoh : Toy Story, Star Wars\n",
    "- TV Series : Tayangan yang biasanya memiliki beberapa episode dari durasi yang sudah tetap dan dirilis per season.Contoh : Game Of Thrones\n",
    "\n",
    "Perbandingan jumlah konten Movie terlihat lebih mendominasi dibanding dengan TV Show namun jumlah ini bisa saja salah karena setiap TV Series dihitung per judul bukan per episode"
   ]
  },
  {
   "cell_type": "markdown",
   "metadata": {},
   "source": [
    "### Grafik 2 : Perbandingan Jumlah Genre di Netflix (Pie Chart)"
   ]
  },
  {
   "cell_type": "code",
   "execution_count": 28,
   "metadata": {},
   "outputs": [
    {
     "data": {
      "application/vnd.plotly.v1+json": {
       "config": {
        "plotlyServerURL": "https://plot.ly"
       },
       "data": [
        {
         "domain": {
          "x": [
           0,
           0.45
          ],
          "y": [
           0,
           1
          ]
         },
         "hole": 0.4,
         "hoverinfo": "label+percent+name",
         "labels": [
          "Dewasa",
          "Remaja - Umur diatas 14",
          "Anak-Anak - Dengan Pengawasan Orang Tua",
          "Remaja - Umur diatas 13",
          "Anak-Anak",
          "Anak-Anak - Umur Diatas 7",
          "NR",
          "TV-Y7-FV",
          "UR"
         ],
         "name": "Movie",
         "textposition": "inside",
         "type": "pie",
         "values": [
          2714,
          1307,
          785,
          482,
          234,
          83,
          75,
          4,
          3
         ]
        },
        {
         "domain": {
          "x": [
           0.55,
           1
          ],
          "y": [
           0,
           1
          ]
         },
         "hole": 0.4,
         "hoverinfo": "label+percent+name",
         "labels": [
          "Dewasa",
          "Remaja - Umur diatas 14",
          "Anak-Anak - Dengan Pengawasan Orang Tua",
          "Anak-Anak",
          "Anak-Anak - Umur Diatas 7",
          "NR",
          "TV-Y7-FV"
         ],
         "name": "TV Show",
         "textposition": "inside",
         "type": "pie",
         "values": [
          1006,
          620,
          267,
          224,
          152,
          4,
          1
         ]
        }
       ],
       "layout": {
        "annotations": [
         {
          "font": {
           "size": 15
          },
          "showarrow": false,
          "text": "    Movie",
          "x": 0.17,
          "y": 0.5
         },
         {
          "font": {
           "size": 15
          },
          "showarrow": false,
          "text": "TV_Show",
          "x": 0.82,
          "y": 0.5
         }
        ],
        "font": {
         "size": 12
        },
        "template": {
         "data": {
          "bar": [
           {
            "error_x": {
             "color": "#2a3f5f"
            },
            "error_y": {
             "color": "#2a3f5f"
            },
            "marker": {
             "line": {
              "color": "#E5ECF6",
              "width": 0.5
             },
             "pattern": {
              "fillmode": "overlay",
              "size": 10,
              "solidity": 0.2
             }
            },
            "type": "bar"
           }
          ],
          "barpolar": [
           {
            "marker": {
             "line": {
              "color": "#E5ECF6",
              "width": 0.5
             },
             "pattern": {
              "fillmode": "overlay",
              "size": 10,
              "solidity": 0.2
             }
            },
            "type": "barpolar"
           }
          ],
          "carpet": [
           {
            "aaxis": {
             "endlinecolor": "#2a3f5f",
             "gridcolor": "white",
             "linecolor": "white",
             "minorgridcolor": "white",
             "startlinecolor": "#2a3f5f"
            },
            "baxis": {
             "endlinecolor": "#2a3f5f",
             "gridcolor": "white",
             "linecolor": "white",
             "minorgridcolor": "white",
             "startlinecolor": "#2a3f5f"
            },
            "type": "carpet"
           }
          ],
          "choropleth": [
           {
            "colorbar": {
             "outlinewidth": 0,
             "ticks": ""
            },
            "type": "choropleth"
           }
          ],
          "contour": [
           {
            "colorbar": {
             "outlinewidth": 0,
             "ticks": ""
            },
            "colorscale": [
             [
              0,
              "#0d0887"
             ],
             [
              0.1111111111111111,
              "#46039f"
             ],
             [
              0.2222222222222222,
              "#7201a8"
             ],
             [
              0.3333333333333333,
              "#9c179e"
             ],
             [
              0.4444444444444444,
              "#bd3786"
             ],
             [
              0.5555555555555556,
              "#d8576b"
             ],
             [
              0.6666666666666666,
              "#ed7953"
             ],
             [
              0.7777777777777778,
              "#fb9f3a"
             ],
             [
              0.8888888888888888,
              "#fdca26"
             ],
             [
              1,
              "#f0f921"
             ]
            ],
            "type": "contour"
           }
          ],
          "contourcarpet": [
           {
            "colorbar": {
             "outlinewidth": 0,
             "ticks": ""
            },
            "type": "contourcarpet"
           }
          ],
          "heatmap": [
           {
            "colorbar": {
             "outlinewidth": 0,
             "ticks": ""
            },
            "colorscale": [
             [
              0,
              "#0d0887"
             ],
             [
              0.1111111111111111,
              "#46039f"
             ],
             [
              0.2222222222222222,
              "#7201a8"
             ],
             [
              0.3333333333333333,
              "#9c179e"
             ],
             [
              0.4444444444444444,
              "#bd3786"
             ],
             [
              0.5555555555555556,
              "#d8576b"
             ],
             [
              0.6666666666666666,
              "#ed7953"
             ],
             [
              0.7777777777777778,
              "#fb9f3a"
             ],
             [
              0.8888888888888888,
              "#fdca26"
             ],
             [
              1,
              "#f0f921"
             ]
            ],
            "type": "heatmap"
           }
          ],
          "heatmapgl": [
           {
            "colorbar": {
             "outlinewidth": 0,
             "ticks": ""
            },
            "colorscale": [
             [
              0,
              "#0d0887"
             ],
             [
              0.1111111111111111,
              "#46039f"
             ],
             [
              0.2222222222222222,
              "#7201a8"
             ],
             [
              0.3333333333333333,
              "#9c179e"
             ],
             [
              0.4444444444444444,
              "#bd3786"
             ],
             [
              0.5555555555555556,
              "#d8576b"
             ],
             [
              0.6666666666666666,
              "#ed7953"
             ],
             [
              0.7777777777777778,
              "#fb9f3a"
             ],
             [
              0.8888888888888888,
              "#fdca26"
             ],
             [
              1,
              "#f0f921"
             ]
            ],
            "type": "heatmapgl"
           }
          ],
          "histogram": [
           {
            "marker": {
             "pattern": {
              "fillmode": "overlay",
              "size": 10,
              "solidity": 0.2
             }
            },
            "type": "histogram"
           }
          ],
          "histogram2d": [
           {
            "colorbar": {
             "outlinewidth": 0,
             "ticks": ""
            },
            "colorscale": [
             [
              0,
              "#0d0887"
             ],
             [
              0.1111111111111111,
              "#46039f"
             ],
             [
              0.2222222222222222,
              "#7201a8"
             ],
             [
              0.3333333333333333,
              "#9c179e"
             ],
             [
              0.4444444444444444,
              "#bd3786"
             ],
             [
              0.5555555555555556,
              "#d8576b"
             ],
             [
              0.6666666666666666,
              "#ed7953"
             ],
             [
              0.7777777777777778,
              "#fb9f3a"
             ],
             [
              0.8888888888888888,
              "#fdca26"
             ],
             [
              1,
              "#f0f921"
             ]
            ],
            "type": "histogram2d"
           }
          ],
          "histogram2dcontour": [
           {
            "colorbar": {
             "outlinewidth": 0,
             "ticks": ""
            },
            "colorscale": [
             [
              0,
              "#0d0887"
             ],
             [
              0.1111111111111111,
              "#46039f"
             ],
             [
              0.2222222222222222,
              "#7201a8"
             ],
             [
              0.3333333333333333,
              "#9c179e"
             ],
             [
              0.4444444444444444,
              "#bd3786"
             ],
             [
              0.5555555555555556,
              "#d8576b"
             ],
             [
              0.6666666666666666,
              "#ed7953"
             ],
             [
              0.7777777777777778,
              "#fb9f3a"
             ],
             [
              0.8888888888888888,
              "#fdca26"
             ],
             [
              1,
              "#f0f921"
             ]
            ],
            "type": "histogram2dcontour"
           }
          ],
          "mesh3d": [
           {
            "colorbar": {
             "outlinewidth": 0,
             "ticks": ""
            },
            "type": "mesh3d"
           }
          ],
          "parcoords": [
           {
            "line": {
             "colorbar": {
              "outlinewidth": 0,
              "ticks": ""
             }
            },
            "type": "parcoords"
           }
          ],
          "pie": [
           {
            "automargin": true,
            "type": "pie"
           }
          ],
          "scatter": [
           {
            "fillpattern": {
             "fillmode": "overlay",
             "size": 10,
             "solidity": 0.2
            },
            "type": "scatter"
           }
          ],
          "scatter3d": [
           {
            "line": {
             "colorbar": {
              "outlinewidth": 0,
              "ticks": ""
             }
            },
            "marker": {
             "colorbar": {
              "outlinewidth": 0,
              "ticks": ""
             }
            },
            "type": "scatter3d"
           }
          ],
          "scattercarpet": [
           {
            "marker": {
             "colorbar": {
              "outlinewidth": 0,
              "ticks": ""
             }
            },
            "type": "scattercarpet"
           }
          ],
          "scattergeo": [
           {
            "marker": {
             "colorbar": {
              "outlinewidth": 0,
              "ticks": ""
             }
            },
            "type": "scattergeo"
           }
          ],
          "scattergl": [
           {
            "marker": {
             "colorbar": {
              "outlinewidth": 0,
              "ticks": ""
             }
            },
            "type": "scattergl"
           }
          ],
          "scattermapbox": [
           {
            "marker": {
             "colorbar": {
              "outlinewidth": 0,
              "ticks": ""
             }
            },
            "type": "scattermapbox"
           }
          ],
          "scatterpolar": [
           {
            "marker": {
             "colorbar": {
              "outlinewidth": 0,
              "ticks": ""
             }
            },
            "type": "scatterpolar"
           }
          ],
          "scatterpolargl": [
           {
            "marker": {
             "colorbar": {
              "outlinewidth": 0,
              "ticks": ""
             }
            },
            "type": "scatterpolargl"
           }
          ],
          "scatterternary": [
           {
            "marker": {
             "colorbar": {
              "outlinewidth": 0,
              "ticks": ""
             }
            },
            "type": "scatterternary"
           }
          ],
          "surface": [
           {
            "colorbar": {
             "outlinewidth": 0,
             "ticks": ""
            },
            "colorscale": [
             [
              0,
              "#0d0887"
             ],
             [
              0.1111111111111111,
              "#46039f"
             ],
             [
              0.2222222222222222,
              "#7201a8"
             ],
             [
              0.3333333333333333,
              "#9c179e"
             ],
             [
              0.4444444444444444,
              "#bd3786"
             ],
             [
              0.5555555555555556,
              "#d8576b"
             ],
             [
              0.6666666666666666,
              "#ed7953"
             ],
             [
              0.7777777777777778,
              "#fb9f3a"
             ],
             [
              0.8888888888888888,
              "#fdca26"
             ],
             [
              1,
              "#f0f921"
             ]
            ],
            "type": "surface"
           }
          ],
          "table": [
           {
            "cells": {
             "fill": {
              "color": "#EBF0F8"
             },
             "line": {
              "color": "white"
             }
            },
            "header": {
             "fill": {
              "color": "#C8D4E3"
             },
             "line": {
              "color": "white"
             }
            },
            "type": "table"
           }
          ]
         },
         "layout": {
          "annotationdefaults": {
           "arrowcolor": "#2a3f5f",
           "arrowhead": 0,
           "arrowwidth": 1
          },
          "autotypenumbers": "strict",
          "coloraxis": {
           "colorbar": {
            "outlinewidth": 0,
            "ticks": ""
           }
          },
          "colorscale": {
           "diverging": [
            [
             0,
             "#8e0152"
            ],
            [
             0.1,
             "#c51b7d"
            ],
            [
             0.2,
             "#de77ae"
            ],
            [
             0.3,
             "#f1b6da"
            ],
            [
             0.4,
             "#fde0ef"
            ],
            [
             0.5,
             "#f7f7f7"
            ],
            [
             0.6,
             "#e6f5d0"
            ],
            [
             0.7,
             "#b8e186"
            ],
            [
             0.8,
             "#7fbc41"
            ],
            [
             0.9,
             "#4d9221"
            ],
            [
             1,
             "#276419"
            ]
           ],
           "sequential": [
            [
             0,
             "#0d0887"
            ],
            [
             0.1111111111111111,
             "#46039f"
            ],
            [
             0.2222222222222222,
             "#7201a8"
            ],
            [
             0.3333333333333333,
             "#9c179e"
            ],
            [
             0.4444444444444444,
             "#bd3786"
            ],
            [
             0.5555555555555556,
             "#d8576b"
            ],
            [
             0.6666666666666666,
             "#ed7953"
            ],
            [
             0.7777777777777778,
             "#fb9f3a"
            ],
            [
             0.8888888888888888,
             "#fdca26"
            ],
            [
             1,
             "#f0f921"
            ]
           ],
           "sequentialminus": [
            [
             0,
             "#0d0887"
            ],
            [
             0.1111111111111111,
             "#46039f"
            ],
            [
             0.2222222222222222,
             "#7201a8"
            ],
            [
             0.3333333333333333,
             "#9c179e"
            ],
            [
             0.4444444444444444,
             "#bd3786"
            ],
            [
             0.5555555555555556,
             "#d8576b"
            ],
            [
             0.6666666666666666,
             "#ed7953"
            ],
            [
             0.7777777777777778,
             "#fb9f3a"
            ],
            [
             0.8888888888888888,
             "#fdca26"
            ],
            [
             1,
             "#f0f921"
            ]
           ]
          },
          "colorway": [
           "#636efa",
           "#EF553B",
           "#00cc96",
           "#ab63fa",
           "#FFA15A",
           "#19d3f3",
           "#FF6692",
           "#B6E880",
           "#FF97FF",
           "#FECB52"
          ],
          "font": {
           "color": "#2a3f5f"
          },
          "geo": {
           "bgcolor": "white",
           "lakecolor": "white",
           "landcolor": "#E5ECF6",
           "showlakes": true,
           "showland": true,
           "subunitcolor": "white"
          },
          "hoverlabel": {
           "align": "left"
          },
          "hovermode": "closest",
          "mapbox": {
           "style": "light"
          },
          "paper_bgcolor": "white",
          "plot_bgcolor": "#E5ECF6",
          "polar": {
           "angularaxis": {
            "gridcolor": "white",
            "linecolor": "white",
            "ticks": ""
           },
           "bgcolor": "#E5ECF6",
           "radialaxis": {
            "gridcolor": "white",
            "linecolor": "white",
            "ticks": ""
           }
          },
          "scene": {
           "xaxis": {
            "backgroundcolor": "#E5ECF6",
            "gridcolor": "white",
            "gridwidth": 2,
            "linecolor": "white",
            "showbackground": true,
            "ticks": "",
            "zerolinecolor": "white"
           },
           "yaxis": {
            "backgroundcolor": "#E5ECF6",
            "gridcolor": "white",
            "gridwidth": 2,
            "linecolor": "white",
            "showbackground": true,
            "ticks": "",
            "zerolinecolor": "white"
           },
           "zaxis": {
            "backgroundcolor": "#E5ECF6",
            "gridcolor": "white",
            "gridwidth": 2,
            "linecolor": "white",
            "showbackground": true,
            "ticks": "",
            "zerolinecolor": "white"
           }
          },
          "shapedefaults": {
           "line": {
            "color": "#2a3f5f"
           }
          },
          "ternary": {
           "aaxis": {
            "gridcolor": "white",
            "linecolor": "white",
            "ticks": ""
           },
           "baxis": {
            "gridcolor": "white",
            "linecolor": "white",
            "ticks": ""
           },
           "bgcolor": "#E5ECF6",
           "caxis": {
            "gridcolor": "white",
            "linecolor": "white",
            "ticks": ""
           }
          },
          "title": {
           "x": 0.05
          },
          "xaxis": {
           "automargin": true,
           "gridcolor": "white",
           "linecolor": "white",
           "ticks": "",
           "title": {
            "standoff": 15
           },
           "zerolinecolor": "white",
           "zerolinewidth": 2
          },
          "yaxis": {
           "automargin": true,
           "gridcolor": "white",
           "linecolor": "white",
           "ticks": "",
           "title": {
            "standoff": 15
           },
           "zerolinecolor": "white",
           "zerolinewidth": 2
          }
         }
        },
        "title": {
         "text": "Genre Pada Netflix",
         "x": 0.45
        },
        "xaxis": {
         "title": {
          "text": "Tahun"
         }
        },
        "yaxis": {
         "title": {
          "text": "Jumlah"
         }
        }
       }
      }
     },
     "metadata": {},
     "output_type": "display_data"
    }
   ],
   "source": [
    "dfmovies = df[df['type'] == \"Movie\"]\n",
    "dfmovies = dfmovies['rating'].value_counts().reset_index()\n",
    "a = list(dfmovies['index'])\n",
    "\n",
    "\n",
    "dfTV = df[df['type'] == \"TV Show\"]\n",
    "dfTV = dfTV['rating'].value_counts().reset_index()\n",
    "b = list(dfTV['index'])\n",
    "\n",
    "fig = make_subplots(rows=1, cols=2, specs=[[{'type':'domain'}, {'type':'domain'}]])\n",
    "fig.add_trace(go.Pie(values=list(dfmovies['rating']),name = \"Movie\",labels = a),1, 1)\n",
    "fig.add_trace(go.Pie(values=list(dfTV['rating']),name = \"TV Show\",labels = b),1, 2)\n",
    "\n",
    "\n",
    "fig.update_traces(hole=.4, hoverinfo=\"label+percent+name\",textposition='inside')\n",
    "fig.update_layout(margin=dict(),annotations=[dict(text='    Movie', x=0.17, y=0.5, font_size=15, showarrow=False),\n",
    "                 dict(text='TV_Show', x=0.82, y=0.5, font_size=15, showarrow=False)],\n",
    "                 title_text='Genre Pada Netflix',title_x = 0.45,yaxis_title=\"Jumlah\",xaxis_title=\"Tahun\",font = {'size':12})"
   ]
  },
  {
   "cell_type": "markdown",
   "metadata": {},
   "source": [
    "#### Kesimpulan\n",
    "- Konten di Netflix didominasi oleh konten dewasa\n",
    "- Seperempat pelanggan dari Netflix berasal dari negara Amerika, ini bisa menjadi alasan banyaknya konten dewasa di Netflix dikarenakan bebasnya negara tersebut dalam menyebar suatu konten"
   ]
  },
  {
   "cell_type": "markdown",
   "metadata": {},
   "source": [
    "### Grafik 3 : Distribusi durasi \"Movie\" (Histogram)"
   ]
  },
  {
   "cell_type": "code",
   "execution_count": 17,
   "metadata": {},
   "outputs": [
    {
     "data": {
      "application/vnd.plotly.v1+json": {
       "config": {
        "plotlyServerURL": "https://plot.ly"
       },
       "data": [
        {
         "marker": {
          "color": "#F76E11"
         },
         "nbinsx": 20,
         "opacity": 0.75,
         "type": "histogram",
         "x": [
          90,
          125,
          104,
          127,
          166,
          103,
          97,
          106,
          96,
          124,
          116,
          98,
          91,
          115,
          122,
          99,
          99,
          88,
          100,
          102,
          93,
          96,
          95,
          85,
          97,
          95,
          83,
          182,
          106,
          147,
          95,
          92,
          90,
          97,
          80,
          128,
          90,
          143,
          119,
          114,
          94,
          106,
          118,
          115,
          95,
          108,
          117,
          121,
          142,
          113,
          154,
          95,
          108,
          120,
          100,
          82,
          124,
          114,
          104,
          94,
          94,
          93,
          97,
          109,
          88,
          101,
          105,
          102,
          101,
          103,
          106,
          118,
          86,
          121,
          229,
          76,
          95,
          98,
          89,
          120,
          110,
          83,
          121,
          105,
          94,
          156,
          112,
          95,
          114,
          129,
          97,
          125,
          107,
          127,
          128,
          135,
          124,
          136,
          165,
          124,
          136,
          150,
          112,
          119,
          133,
          142,
          93,
          113,
          116,
          106,
          145,
          95,
          108,
          90,
          92,
          82,
          110,
          91,
          135,
          82,
          94,
          121,
          110,
          64,
          59,
          101,
          127,
          90,
          114,
          108,
          70,
          98,
          86,
          111,
          115,
          102,
          100,
          135,
          69,
          95,
          97,
          124,
          118,
          115,
          115,
          104,
          106,
          102,
          87,
          88,
          114,
          90,
          142,
          90,
          105,
          103,
          116,
          113,
          99,
          148,
          189,
          97,
          102,
          99,
          85,
          112,
          91,
          91,
          141,
          130,
          98,
          105,
          101,
          105,
          118,
          97,
          102,
          114,
          111,
          125,
          103,
          94,
          92,
          81,
          143,
          117,
          165,
          91,
          111,
          64,
          68,
          99,
          105,
          102,
          91,
          88,
          101,
          94,
          105,
          117,
          115,
          124,
          131,
          122,
          113,
          93,
          86,
          96,
          95,
          87,
          93,
          96,
          94,
          104,
          97,
          91,
          106,
          90,
          104,
          92,
          95,
          105,
          116,
          124,
          101,
          95,
          128,
          143,
          136,
          136,
          126,
          116,
          100,
          115,
          125,
          94,
          90,
          95,
          155,
          98,
          108,
          96,
          117,
          103,
          94,
          93,
          115,
          120,
          145,
          126,
          101,
          118,
          109,
          89,
          106,
          101,
          123,
          106,
          89,
          128,
          85,
          89,
          108,
          105,
          133,
          129,
          127,
          113,
          112,
          130,
          100,
          103,
          85,
          124,
          103,
          121,
          89,
          92,
          112,
          114,
          116,
          98,
          100,
          97,
          83,
          101,
          109,
          87,
          96,
          84,
          125,
          119,
          105,
          111,
          119,
          13,
          101,
          96,
          122,
          89,
          98,
          119,
          104,
          101,
          99,
          84,
          82,
          97,
          89,
          113,
          110,
          102,
          86,
          91,
          117,
          99,
          77,
          97,
          106,
          97,
          104,
          110,
          61,
          98,
          74,
          103,
          94,
          112,
          49,
          111,
          58,
          72,
          78,
          101,
          110,
          94,
          70,
          118,
          103,
          95,
          93,
          101,
          101,
          89,
          109,
          104,
          90,
          109,
          145,
          88,
          132,
          109,
          133,
          85,
          104,
          99,
          93,
          98,
          101,
          94,
          99,
          108,
          128,
          104,
          127,
          136,
          97,
          88,
          97,
          97,
          88,
          97,
          97,
          118,
          70,
          91,
          92,
          94,
          131,
          148,
          92,
          91,
          88,
          109,
          92,
          87,
          101,
          140,
          89,
          81,
          99,
          107,
          107,
          90,
          104,
          100,
          102,
          105,
          107,
          99,
          102,
          119,
          86,
          122,
          95,
          104,
          118,
          85,
          98,
          99,
          107,
          97,
          112,
          118,
          109,
          109,
          88,
          97,
          97,
          95,
          91,
          115,
          93,
          109,
          96,
          138,
          113,
          94,
          89,
          121,
          127,
          94,
          89,
          136,
          89,
          99,
          93,
          85,
          102,
          101,
          128,
          85,
          95,
          121,
          116,
          91,
          149,
          113,
          33,
          127,
          101,
          102,
          102,
          107,
          123,
          98,
          95,
          101,
          104,
          104,
          111,
          102,
          15,
          120,
          106,
          116,
          58,
          116,
          86,
          97,
          76,
          132,
          126,
          101,
          102,
          147,
          224,
          141,
          109,
          162,
          142,
          93,
          60,
          119,
          96,
          116,
          102,
          123,
          102,
          127,
          88,
          106,
          65,
          96,
          88,
          143,
          137,
          75,
          103,
          130,
          145,
          84,
          118,
          102,
          132,
          108,
          133,
          107,
          32,
          78,
          86,
          140,
          143,
          88,
          89,
          93,
          97,
          94,
          112,
          100,
          120,
          91,
          98,
          113,
          98,
          91,
          158,
          164,
          133,
          75,
          103,
          90,
          116,
          96,
          121,
          101,
          173,
          89,
          181,
          99,
          88,
          107,
          114,
          96,
          149,
          102,
          83,
          98,
          83,
          104,
          111,
          98,
          93,
          73,
          141,
          116,
          21,
          98,
          87,
          95,
          87,
          93,
          97,
          114,
          100,
          105,
          90,
          60,
          98,
          108,
          90,
          102,
          120,
          106,
          115,
          98,
          60,
          113,
          101,
          24,
          80,
          100,
          139,
          74,
          131,
          131,
          118,
          87,
          97,
          92,
          136,
          97,
          110,
          105,
          90,
          107,
          92,
          94,
          99,
          97,
          151,
          108,
          113,
          81,
          116,
          119,
          116,
          112,
          121,
          115,
          98,
          181,
          100,
          22,
          134,
          94,
          88,
          119,
          107,
          112,
          103,
          90,
          120,
          97,
          102,
          106,
          119,
          58,
          90,
          109,
          143,
          112,
          134,
          123,
          36,
          123,
          118,
          91,
          76,
          97,
          85,
          92,
          139,
          162,
          92,
          86,
          107,
          85,
          83,
          104,
          116,
          87,
          91,
          119,
          102,
          86,
          102,
          98,
          99,
          108,
          114,
          104,
          88,
          104,
          123,
          106,
          138,
          113,
          107,
          133,
          97,
          116,
          123,
          89,
          93,
          139,
          112,
          101,
          113,
          89,
          107,
          123,
          113,
          90,
          52,
          127,
          95,
          121,
          95,
          133,
          127,
          95,
          101,
          123,
          89,
          100,
          108,
          94,
          103,
          105,
          116,
          92,
          65,
          115,
          96,
          32,
          102,
          102,
          101,
          71,
          81,
          90,
          112,
          161,
          129,
          85,
          14,
          148,
          99,
          97,
          101,
          89,
          128,
          99,
          126,
          106,
          101,
          87,
          111,
          90,
          91,
          101,
          96,
          96,
          148,
          96,
          98,
          104,
          53,
          54,
          113,
          102,
          118,
          83,
          116,
          116,
          106,
          105,
          8,
          110,
          71,
          91,
          46,
          109,
          102,
          101,
          94,
          110,
          117,
          85,
          119,
          115,
          105,
          68,
          57,
          28,
          98,
          95,
          96,
          66,
          112,
          84,
          94,
          98,
          85,
          120,
          83,
          94,
          102,
          111,
          90,
          110,
          87,
          132,
          117,
          50,
          106,
          125,
          107,
          59,
          9,
          91,
          132,
          133,
          109,
          107,
          111,
          108,
          105,
          119,
          104,
          83,
          90,
          79,
          115,
          97,
          26,
          46,
          106,
          113,
          133,
          93,
          108,
          96,
          101,
          106,
          54,
          118,
          58,
          117,
          48,
          139,
          115,
          109,
          91,
          60,
          102,
          120,
          149,
          91,
          99,
          106,
          108,
          45,
          93,
          22,
          81,
          98,
          100,
          112,
          114,
          68,
          103,
          121,
          95,
          87,
          115,
          171,
          46,
          117,
          84,
          98,
          83,
          97,
          99,
          108,
          93,
          42,
          13,
          64,
          162,
          130,
          108,
          129,
          105,
          133,
          142,
          128,
          97,
          107,
          135,
          84,
          70,
          124,
          102,
          84,
          95,
          84,
          120,
          87,
          75,
          124,
          92,
          95,
          107,
          123,
          85,
          150,
          97,
          88,
          74,
          93,
          151,
          82,
          148,
          95,
          90,
          103,
          87,
          102,
          96,
          87,
          86,
          136,
          60,
          127,
          100,
          87,
          28,
          27,
          90,
          102,
          94,
          81,
          134,
          114,
          107,
          107,
          130,
          87,
          93,
          114,
          91,
          116,
          93,
          106,
          105,
          93,
          103,
          114,
          95,
          50,
          150,
          100,
          117,
          87,
          100,
          86,
          102,
          87,
          103,
          112,
          120,
          111,
          78,
          51,
          123,
          46,
          102,
          106,
          112,
          101,
          96,
          103,
          94,
          69,
          81,
          76,
          108,
          94,
          106,
          98,
          93,
          99,
          93,
          82,
          107,
          104,
          130,
          83,
          99,
          77,
          94,
          118,
          87,
          42,
          101,
          80,
          110,
          117,
          47,
          165,
          134,
          140,
          150,
          156,
          86,
          126,
          100,
          25,
          124,
          100,
          106,
          104,
          96,
          90,
          33,
          81,
          84,
          44,
          115,
          94,
          107,
          115,
          93,
          107,
          86,
          112,
          102,
          91,
          83,
          73,
          139,
          95,
          101,
          75,
          87,
          120,
          123,
          95,
          84,
          29,
          28,
          122,
          28,
          98,
          59,
          80,
          103,
          104,
          146,
          135,
          129,
          115,
          143,
          173,
          129,
          149,
          98,
          127,
          124,
          85,
          20,
          102,
          129,
          124,
          118,
          111,
          94,
          130,
          117,
          137,
          139,
          111,
          103,
          120,
          98,
          130,
          96,
          61,
          90,
          139,
          94,
          92,
          80,
          63,
          88,
          105,
          140,
          103,
          102,
          93,
          133,
          157,
          116,
          112,
          96,
          127,
          130,
          93,
          138,
          138,
          92,
          110,
          102,
          113,
          96,
          108,
          94,
          99,
          86,
          98,
          111,
          97,
          135,
          93,
          94,
          117,
          63,
          73,
          91,
          93,
          101,
          93,
          96,
          112,
          72,
          112,
          72,
          92,
          109,
          155,
          109,
          115,
          97,
          103,
          24,
          110,
          97,
          94,
          107,
          97,
          103,
          88,
          111,
          94,
          33,
          107,
          110,
          98,
          81,
          104,
          17,
          121,
          100,
          97,
          75,
          102,
          88,
          158,
          102,
          203,
          92,
          104,
          72,
          113,
          93,
          119,
          105,
          113,
          93,
          44,
          110,
          90,
          82,
          69,
          46,
          94,
          72,
          95,
          71,
          64,
          92,
          80,
          104,
          25,
          111,
          99,
          83,
          150,
          108,
          44,
          102,
          137,
          112,
          102,
          103,
          136,
          41,
          88,
          84,
          114,
          110,
          103,
          106,
          46,
          115,
          140,
          124,
          133,
          91,
          30,
          67,
          105,
          58,
          87,
          100,
          95,
          90,
          102,
          98,
          104,
          89,
          62,
          86,
          104,
          101,
          17,
          126,
          89,
          96,
          91,
          86,
          89,
          151,
          116,
          110,
          123,
          139,
          95,
          121,
          127,
          162,
          128,
          112,
          125,
          128,
          120,
          86,
          107,
          129,
          135,
          97,
          125,
          162,
          136,
          138,
          126,
          137,
          114,
          96,
          107,
          89,
          94,
          148,
          82,
          95,
          120,
          115,
          107,
          105,
          134,
          128,
          103,
          96,
          114,
          102,
          52,
          86,
          104,
          76,
          99,
          124,
          117,
          107,
          111,
          135,
          126,
          164,
          166,
          104,
          94,
          92,
          52,
          112,
          90,
          101,
          84,
          112,
          136,
          108,
          110,
          93,
          90,
          130,
          128,
          104,
          131,
          109,
          129,
          73,
          104,
          114,
          86,
          194,
          76,
          116,
          130,
          85,
          108,
          81,
          76,
          92,
          85,
          85,
          108,
          120,
          117,
          100,
          101,
          156,
          55,
          96,
          104,
          101,
          113,
          126,
          98,
          114,
          132,
          92,
          90,
          86,
          103,
          114,
          115,
          149,
          102,
          105,
          114,
          94,
          83,
          106,
          116,
          109,
          100,
          116,
          111,
          24,
          95,
          135,
          95,
          92,
          100,
          80,
          98,
          104,
          98,
          104,
          99,
          68,
          106,
          71,
          80,
          116,
          112,
          73,
          110,
          135,
          128,
          93,
          149,
          54,
          87,
          102,
          177,
          98,
          237,
          195,
          253,
          157,
          97,
          85,
          94,
          80,
          94,
          92,
          105,
          120,
          96,
          107,
          93,
          101,
          110,
          112,
          93,
          109,
          105,
          97,
          91,
          88,
          109,
          118,
          109,
          131,
          152,
          67,
          72,
          83,
          90,
          106,
          190,
          129,
          160,
          86,
          92,
          114,
          90,
          94,
          86,
          89,
          61,
          93,
          81,
          120,
          94,
          91,
          104,
          76,
          90,
          103,
          122,
          97,
          98,
          42,
          90,
          91,
          94,
          107,
          143,
          105,
          116,
          105,
          97,
          105,
          83,
          109,
          111,
          97,
          132,
          102,
          107,
          100,
          115,
          104,
          110,
          100,
          108,
          104,
          116,
          106,
          96,
          140,
          107,
          138,
          132,
          208,
          105,
          101,
          124,
          93,
          110,
          115,
          107,
          72,
          107,
          95,
          180,
          135,
          87,
          94,
          105,
          93,
          92,
          144,
          101,
          81,
          95,
          119,
          121,
          88,
          106,
          119,
          63,
          82,
          95,
          93,
          120,
          147,
          55,
          107,
          92,
          85,
          98,
          92,
          101,
          112,
          103,
          91,
          96,
          104,
          66,
          83,
          111,
          90,
          121,
          121,
          88,
          57,
          107,
          5,
          91,
          174,
          155,
          87,
          77,
          142,
          170,
          165,
          161,
          144,
          149,
          135,
          131,
          126,
          192,
          209,
          187,
          138,
          185,
          143,
          97,
          172,
          103,
          83,
          107,
          114,
          93,
          85,
          85,
          131,
          101,
          107,
          84,
          104,
          160,
          103,
          46,
          112,
          83,
          72,
          24,
          104,
          72,
          113,
          21,
          100,
          108,
          99,
          104,
          70,
          93,
          95,
          109,
          91,
          75,
          100,
          95,
          113,
          91,
          62,
          93,
          135,
          101,
          98,
          103,
          106,
          95,
          132,
          82,
          71,
          16,
          79,
          120,
          82,
          115,
          111,
          110,
          121,
          108,
          186,
          116,
          154,
          105,
          71,
          61,
          133,
          98,
          119,
          61,
          130,
          87,
          127,
          87,
          88,
          158,
          93,
          90,
          109,
          72,
          162,
          98,
          103,
          97,
          94,
          101,
          109,
          50,
          110,
          92,
          120,
          101,
          116,
          117,
          95,
          93,
          122,
          102,
          96,
          93,
          93,
          87,
          95,
          33,
          113,
          118,
          171,
          100,
          103,
          86,
          102,
          81,
          101,
          73,
          96,
          106,
          88,
          103,
          139,
          89,
          104,
          124,
          112,
          70,
          106,
          97,
          106,
          60,
          148,
          122,
          86,
          193,
          92,
          94,
          82,
          59,
          89,
          176,
          116,
          86,
          93,
          85,
          62,
          112,
          121,
          133,
          76,
          82,
          156,
          90,
          97,
          51,
          98,
          61,
          116,
          132,
          17,
          91,
          121,
          78,
          95,
          86,
          132,
          107,
          122,
          95,
          108,
          99,
          103,
          66,
          132,
          56,
          128,
          119,
          97,
          92,
          102,
          90,
          129,
          106,
          105,
          78,
          79,
          78,
          145,
          71,
          83,
          119,
          98,
          102,
          97,
          110,
          85,
          90,
          89,
          120,
          102,
          73,
          79,
          97,
          91,
          96,
          103,
          95,
          83,
          117,
          70,
          90,
          86,
          86,
          113,
          141,
          126,
          25,
          63,
          136,
          120,
          134,
          185,
          174,
          169,
          148,
          135,
          135,
          119,
          98,
          135,
          185,
          156,
          104,
          139,
          140,
          154,
          129,
          99,
          100,
          110,
          95,
          65,
          143,
          101,
          60,
          29,
          92,
          172,
          97,
          108,
          137,
          106,
          115,
          46,
          92,
          93,
          85,
          24,
          56,
          86,
          127,
          93,
          94,
          120,
          108,
          135,
          111,
          134,
          137,
          103,
          133,
          95,
          126,
          67,
          135,
          106,
          107,
          81,
          107,
          110,
          104,
          93,
          94,
          137,
          134,
          106,
          209,
          86,
          24,
          117,
          87,
          121,
          97,
          121,
          56,
          119,
          93,
          86,
          134,
          28,
          131,
          78,
          93,
          84,
          107,
          101,
          107,
          74,
          60,
          143,
          105,
          110,
          98,
          74,
          46,
          54,
          59,
          100,
          88,
          93,
          94,
          121,
          78,
          116,
          87,
          61,
          98,
          123,
          85,
          78,
          103,
          44,
          68,
          68,
          69,
          81,
          69,
          68,
          68,
          86,
          40,
          94,
          90,
          112,
          101,
          119,
          40,
          86,
          92,
          91,
          141,
          107,
          97,
          24,
          89,
          65,
          126,
          63,
          14,
          28,
          20,
          106,
          118,
          127,
          86,
          94,
          82,
          92,
          52,
          108,
          67,
          91,
          118,
          87,
          98,
          95,
          100,
          101,
          86,
          96,
          99,
          112,
          127,
          22,
          78,
          63,
          97,
          86,
          62,
          96,
          104,
          123,
          100,
          99,
          151,
          102,
          106,
          87,
          70,
          46,
          101,
          109,
          100,
          110,
          102,
          102,
          24,
          98,
          76,
          90,
          59,
          64,
          79,
          81,
          81,
          64,
          90,
          102,
          116,
          42,
          133,
          108,
          38,
          106,
          58,
          152,
          87,
          121,
          83,
          111,
          24,
          171,
          88,
          76,
          64,
          94,
          157,
          83,
          65,
          105,
          107,
          103,
          67,
          96,
          125,
          142,
          133,
          100,
          10,
          128,
          93,
          81,
          82,
          47,
          95,
          91,
          102,
          100,
          98,
          110,
          85,
          66,
          92,
          133,
          135,
          120,
          118,
          110,
          98,
          104,
          63,
          52,
          72,
          117,
          100,
          24,
          86,
          69,
          119,
          123,
          93,
          109,
          107,
          46,
          117,
          67,
          114,
          67,
          77,
          105,
          63,
          59,
          102,
          81,
          101,
          116,
          177,
          130,
          111,
          100,
          77,
          93,
          114,
          58,
          56,
          110,
          98,
          106,
          102,
          81,
          98,
          136,
          161,
          32,
          105,
          106,
          90,
          87,
          91,
          106,
          65,
          105,
          40,
          66,
          61,
          122,
          141,
          176,
          73,
          87,
          15,
          55,
          141,
          122,
          109,
          63,
          96,
          113,
          69,
          87,
          116,
          116,
          110,
          122,
          59,
          88,
          91,
          40,
          113,
          90,
          95,
          98,
          61,
          117,
          60,
          142,
          74,
          119,
          114,
          125,
          71,
          110,
          127,
          118,
          90,
          130,
          12,
          62,
          3,
          114,
          128,
          109,
          109,
          101,
          103,
          98,
          123,
          38,
          101,
          99,
          91,
          30,
          137,
          66,
          70,
          87,
          88,
          90,
          53,
          87,
          90,
          96,
          94,
          108,
          102,
          61,
          94,
          70,
          88,
          100,
          111,
          128,
          98,
          104,
          126,
          86,
          125,
          40,
          79,
          110,
          128,
          110,
          116,
          119,
          90,
          88,
          104,
          140,
          92,
          64,
          119,
          91,
          122,
          125,
          49,
          168,
          102,
          92,
          111,
          113,
          54,
          123,
          102,
          141,
          95,
          111,
          131,
          116,
          119,
          146,
          101,
          87,
          94,
          133,
          135,
          61,
          91,
          59,
          91,
          131,
          88,
          170,
          92,
          126,
          120,
          76,
          60,
          103,
          124,
          91,
          88,
          81,
          124,
          102,
          132,
          87,
          75,
          126,
          61,
          126,
          108,
          100,
          129,
          71,
          108,
          105,
          115,
          118,
          130,
          115,
          69,
          97,
          61,
          92,
          108,
          104,
          65,
          106,
          69,
          97,
          80,
          85,
          98,
          115,
          117,
          132,
          127,
          125,
          128,
          126,
          116,
          90,
          111,
          100,
          99,
          105,
          128,
          91,
          127,
          94,
          124,
          103,
          118,
          89,
          89,
          108,
          103,
          87,
          93,
          90,
          114,
          107,
          97,
          103,
          125,
          130,
          119,
          110,
          120,
          102,
          125,
          127,
          121,
          113,
          118,
          132,
          61,
          80,
          110,
          70,
          117,
          89,
          84,
          131,
          139,
          42,
          79,
          96,
          114,
          99,
          111,
          112,
          96,
          103,
          104,
          102,
          97,
          132,
          120,
          137,
          82,
          115,
          130,
          62,
          26,
          91,
          63,
          74,
          136,
          59,
          91,
          93,
          84,
          100,
          51,
          22,
          22,
          22,
          24,
          113,
          110,
          120,
          127,
          74,
          137,
          86,
          125,
          114,
          143,
          121,
          119,
          150,
          88,
          105,
          119,
          96,
          95,
          98,
          96,
          96,
          90,
          97,
          90,
          88,
          105,
          127,
          125,
          116,
          102,
          65,
          106,
          117,
          136,
          104,
          65,
          91,
          99,
          91,
          117,
          95,
          101,
          102,
          95,
          92,
          111,
          115,
          61,
          97,
          120,
          148,
          48,
          28,
          61,
          56,
          81,
          58,
          100,
          50,
          49,
          71,
          29,
          108,
          100,
          30,
          30,
          146,
          127,
          46,
          57,
          122,
          312,
          109,
          96,
          105,
          124,
          105,
          78,
          22,
          95,
          82,
          89,
          90,
          85,
          29,
          137,
          27,
          112,
          112,
          153,
          123,
          90,
          84,
          78,
          79,
          73,
          83,
          83,
          145,
          135,
          35,
          68,
          96,
          110,
          105,
          98,
          155,
          122,
          87,
          73,
          98,
          130,
          105,
          110,
          81,
          115,
          113,
          146,
          118,
          109,
          117,
          95,
          124,
          90,
          96,
          96,
          93,
          30,
          82,
          127,
          114,
          119,
          101,
          96,
          44,
          104,
          91,
          91,
          114,
          91,
          64,
          89,
          95,
          94,
          133,
          102,
          122,
          86,
          111,
          111,
          136,
          121,
          119,
          115,
          128,
          99,
          106,
          122,
          129,
          90,
          116,
          59,
          95,
          122,
          98,
          117,
          95,
          146,
          136,
          91,
          123,
          144,
          121,
          91,
          158,
          157,
          124,
          106,
          92,
          80,
          126,
          129,
          133,
          109,
          143,
          140,
          150,
          128,
          120,
          154,
          45,
          132,
          126,
          95,
          135,
          139,
          131,
          118,
          129,
          131,
          146,
          123,
          141,
          93,
          91,
          106,
          131,
          95,
          104,
          126,
          118,
          94,
          126,
          90,
          87,
          97,
          115,
          93,
          74,
          102,
          104,
          51,
          86,
          140,
          122,
          95,
          121,
          131,
          63,
          150,
          159,
          131,
          130,
          99,
          86,
          106,
          57,
          97,
          144,
          110,
          57,
          119,
          94,
          89,
          124,
          121,
          88,
          111,
          81,
          137,
          56,
          58,
          80,
          94,
          94,
          72,
          60,
          140,
          91,
          97,
          146,
          118,
          128,
          137,
          145,
          106,
          137,
          129,
          99,
          155,
          142,
          214,
          137,
          128,
          151,
          121,
          101,
          145,
          147,
          90,
          129,
          129,
          136,
          117,
          150,
          134,
          100,
          44,
          44,
          111,
          147,
          115,
          121,
          103,
          73,
          129,
          102,
          122,
          155,
          139,
          131,
          127,
          156,
          132,
          130,
          137,
          156,
          132,
          119,
          140,
          126,
          107,
          111,
          130,
          126,
          24,
          108,
          117,
          101,
          124,
          63,
          114,
          98,
          100,
          100,
          123,
          77,
          106,
          106,
          102,
          146,
          96,
          104,
          109,
          110,
          110,
          101,
          94,
          101,
          141,
          120,
          140,
          50,
          31,
          90,
          110,
          162,
          139,
          130,
          145,
          33,
          114,
          100,
          54,
          150,
          105,
          124,
          95,
          12,
          104,
          143,
          127,
          100,
          74,
          104,
          148,
          127,
          158,
          124,
          163,
          121,
          154,
          127,
          128,
          98,
          109,
          168,
          162,
          159,
          137,
          133,
          127,
          131,
          90,
          88,
          87,
          82,
          86,
          100,
          57,
          95,
          101,
          124,
          72,
          93,
          92,
          95,
          133,
          85,
          105,
          101,
          88,
          113,
          71,
          75,
          66,
          83,
          110,
          88,
          77,
          58,
          69,
          61,
          88,
          122,
          60,
          166,
          107,
          94,
          87,
          92,
          130,
          88,
          128,
          96,
          94,
          69,
          90,
          101,
          77,
          89,
          90,
          98,
          66,
          103,
          95,
          89,
          74,
          119,
          70,
          121,
          106,
          74,
          106,
          113,
          119,
          100,
          110,
          66,
          126,
          130,
          110,
          85,
          117,
          63,
          94,
          74,
          58,
          117,
          89,
          66,
          158,
          100,
          64,
          92,
          63,
          105,
          67,
          91,
          92,
          87,
          100,
          113,
          40,
          105,
          94,
          109,
          99,
          89,
          92,
          105,
          130,
          69,
          98,
          90,
          65,
          92,
          25,
          40,
          101,
          90,
          96,
          115,
          92,
          93,
          95,
          105,
          117,
          66,
          97,
          78,
          102,
          62,
          97,
          105,
          79,
          90,
          107,
          105,
          99,
          108,
          66,
          75,
          96,
          95,
          32,
          70,
          94,
          78,
          91,
          75,
          105,
          96,
          132,
          60,
          171,
          116,
          169,
          134,
          159,
          87,
          103,
          78,
          62,
          97,
          102,
          95,
          115,
          102,
          99,
          74,
          100,
          150,
          87,
          88,
          129,
          91,
          115,
          140,
          79,
          104,
          121,
          40,
          94,
          58,
          51,
          69,
          104,
          59,
          94,
          166,
          155,
          145,
          106,
          94,
          127,
          87,
          185,
          75,
          89,
          81,
          47,
          46,
          125,
          160,
          110,
          69,
          67,
          105,
          127,
          109,
          134,
          60,
          96,
          65,
          133,
          96,
          95,
          24,
          97,
          102,
          116,
          102,
          86,
          117,
          96,
          69,
          108,
          102,
          61,
          57,
          49,
          87,
          59,
          63,
          62,
          108,
          95,
          99,
          62,
          60,
          147,
          153,
          87,
          124,
          94,
          100,
          71,
          60,
          135,
          97,
          86,
          91,
          82,
          102,
          105,
          106,
          91,
          61,
          80,
          118,
          94,
          84,
          103,
          69,
          105,
          128,
          86,
          109,
          70,
          89,
          162,
          163,
          91,
          27,
          67,
          142,
          78,
          26,
          46,
          81,
          119,
          99,
          96,
          128,
          114,
          101,
          109,
          51,
          61,
          73,
          92,
          94,
          135,
          66,
          126,
          54,
          100,
          81,
          123,
          144,
          153,
          141,
          104,
          97,
          82,
          98,
          84,
          76,
          75,
          93,
          98,
          91,
          168,
          68,
          103,
          95,
          82,
          94,
          66,
          135,
          144,
          90,
          158,
          83,
          102,
          52,
          110,
          85,
          113,
          88,
          89,
          59,
          106,
          66,
          135,
          93,
          79,
          107,
          47,
          118,
          81,
          103,
          40,
          103,
          104,
          82,
          112,
          102,
          101,
          119,
          62,
          64,
          137,
          108,
          78,
          40,
          71,
          99,
          60,
          98,
          70,
          148,
          92,
          107,
          90,
          135,
          151,
          132,
          95,
          162,
          163,
          89,
          28,
          103,
          160,
          113,
          86,
          83,
          113,
          86,
          57,
          98,
          116,
          100,
          51,
          113,
          124,
          63,
          56,
          94,
          90,
          71,
          97,
          83,
          92,
          165,
          159,
          22,
          105,
          54,
          121,
          103,
          129,
          95,
          80,
          84,
          97,
          86,
          114,
          84,
          67,
          91,
          63,
          116,
          104,
          14,
          89,
          108,
          59,
          74,
          84,
          97,
          95,
          116,
          86,
          153,
          104,
          163,
          106,
          148,
          105,
          121,
          66,
          102,
          96,
          89,
          161,
          24,
          66,
          91,
          92,
          104,
          73,
          47,
          102,
          87,
          117,
          119,
          130,
          102,
          154,
          44,
          96,
          47,
          44,
          109,
          89,
          92,
          122,
          19,
          154,
          152,
          161,
          123,
          44,
          80,
          71,
          153,
          79,
          143,
          123,
          80,
          106,
          101,
          59,
          164,
          151,
          84,
          51,
          142,
          110,
          86,
          101,
          88,
          86,
          61,
          81,
          72,
          98,
          64,
          111,
          148,
          163,
          95,
          99,
          44,
          93,
          89,
          83,
          104,
          81,
          53,
          95,
          149,
          106,
          108,
          66,
          113,
          83,
          50,
          97,
          105,
          107,
          99,
          101,
          81,
          92,
          131,
          101,
          96,
          85,
          110,
          89,
          88,
          88,
          143,
          83,
          107,
          99,
          134,
          78,
          81,
          106,
          51,
          102,
          63,
          91,
          93,
          93,
          97,
          92,
          137,
          143,
          168,
          117,
          87,
          160,
          62,
          109,
          102,
          118,
          57,
          94,
          71,
          123,
          97,
          99,
          97,
          67,
          105,
          78,
          99,
          119,
          109,
          107,
          92,
          88,
          71,
          64,
          97,
          96,
          150,
          54,
          78,
          86,
          154,
          179,
          93,
          97,
          108,
          92,
          78,
          87,
          99,
          91,
          102,
          67,
          57,
          130,
          80,
          66,
          105,
          98,
          91,
          123,
          82,
          104,
          109,
          74,
          84,
          98,
          22,
          100,
          75,
          69,
          97,
          92,
          92,
          146,
          97,
          93,
          62,
          22,
          88,
          105,
          88,
          93,
          98,
          88,
          31,
          83,
          38,
          108,
          97,
          81,
          70,
          62,
          99,
          112,
          90,
          56,
          89,
          24,
          100,
          116,
          92,
          79,
          72,
          92,
          61,
          88,
          113,
          67,
          65,
          62,
          107,
          69,
          77,
          98,
          71,
          64,
          112,
          59,
          91,
          107,
          92,
          89,
          107,
          94,
          110,
          81,
          77,
          64,
          97,
          77,
          94,
          94,
          91,
          80,
          95,
          90,
          101,
          73,
          108,
          25,
          86,
          105,
          100,
          96,
          97,
          73,
          132,
          96,
          92,
          99,
          92,
          99,
          78,
          89,
          60,
          41,
          83,
          25,
          94,
          52,
          75,
          92,
          80,
          46,
          72,
          71,
          77,
          70,
          73,
          81,
          63,
          45,
          46,
          112,
          101,
          117,
          114,
          96,
          87,
          105,
          80,
          97,
          105,
          60,
          109,
          60,
          101,
          91,
          66,
          127,
          82,
          70,
          23,
          97,
          62,
          84,
          90,
          101,
          74,
          68,
          92,
          107,
          108,
          74,
          29,
          60,
          120,
          74,
          57,
          91,
          62,
          85,
          90,
          105,
          59,
          137,
          86,
          99,
          64,
          82,
          90,
          80,
          62,
          92,
          78,
          92,
          69,
          103,
          92,
          143,
          83,
          78,
          84,
          84,
          58,
          82,
          83,
          29,
          26,
          81,
          75,
          100,
          90,
          68,
          71,
          100,
          94,
          80,
          35,
          93,
          105,
          130,
          100,
          80,
          76,
          95,
          96,
          94,
          94,
          93,
          96,
          94,
          94,
          93,
          95,
          93,
          75,
          103,
          29,
          104,
          81,
          80,
          123,
          119,
          118,
          143,
          149,
          144,
          124,
          87,
          128,
          117,
          100,
          84,
          90,
          105,
          106,
          99,
          93,
          89,
          105,
          109,
          93,
          75,
          90,
          90,
          93,
          113,
          89,
          102,
          102,
          90,
          94,
          91,
          107,
          95,
          119,
          93,
          101,
          93,
          82,
          70,
          104,
          92,
          124,
          53,
          91,
          83,
          93,
          81,
          86,
          97,
          99,
          100,
          126,
          94,
          103,
          96,
          137,
          104,
          104,
          94,
          176,
          137,
          101,
          111,
          110,
          142,
          86,
          93,
          86,
          80,
          92,
          96,
          87,
          125,
          91,
          76,
          82,
          111,
          92,
          94,
          91,
          44,
          108,
          123,
          106,
          89,
          98,
          108,
          92,
          102,
          103,
          91,
          110,
          77,
          99,
          122,
          150,
          126,
          164,
          115,
          133,
          127,
          100,
          131,
          44,
          101,
          90,
          89,
          88,
          133,
          110,
          112,
          87,
          91,
          111,
          99,
          86,
          93,
          87,
          107,
          89,
          92,
          122,
          91,
          127,
          153,
          94,
          106,
          102,
          112,
          63,
          90,
          89,
          101,
          85,
          83,
          92,
          84,
          91,
          100,
          103,
          103,
          45,
          45,
          90,
          98,
          92,
          172,
          125,
          81,
          112,
          122,
          101,
          53,
          53,
          99,
          95,
          119,
          163,
          55,
          102,
          106,
          128,
          80,
          80,
          75,
          75,
          79,
          87,
          97,
          85,
          111,
          113,
          90,
          103,
          105,
          104,
          127,
          92,
          72,
          118,
          110,
          90,
          134,
          89,
          86,
          87,
          107,
          79,
          87,
          113,
          110,
          98,
          93,
          139,
          94,
          133,
          81,
          91,
          122,
          102,
          88,
          49,
          110,
          150,
          97,
          129,
          99,
          112,
          143,
          61,
          95,
          92,
          97,
          90,
          119,
          147,
          83,
          83,
          91,
          117,
          78,
          75,
          78,
          149,
          103,
          94,
          95,
          122,
          107,
          126,
          122,
          95,
          101,
          74,
          74,
          74,
          83,
          79,
          72,
          80,
          75,
          75,
          72,
          99,
          91,
          166,
          103,
          128,
          87,
          125,
          121,
          110,
          88,
          52,
          89,
          52,
          81,
          73,
          75,
          99,
          121,
          100,
          97,
          105,
          100,
          115,
          99,
          91,
          90,
          100,
          25,
          99,
          120,
          104,
          149,
          112,
          98,
          120,
          151,
          148,
          114,
          123,
          87,
          93,
          88,
          126,
          90,
          95,
          108,
          65,
          110,
          66,
          127,
          131,
          88,
          97,
          116,
          117,
          79,
          144,
          79,
          135,
          88,
          116,
          91,
          83,
          90,
          129,
          120,
          91,
          85,
          88,
          123,
          180,
          98,
          90,
          90,
          94,
          112,
          85,
          97,
          47,
          99,
          168,
          99,
          106,
          92,
          99,
          89,
          88,
          111,
          79,
          86,
          74,
          84,
          80,
          86,
          90,
          102,
          92,
          81,
          116,
          110,
          95,
          133,
          120,
          91,
          90,
          90,
          103,
          73,
          98,
          119,
          76,
          148,
          94,
          108,
          114,
          98,
          151,
          78,
          125,
          126,
          104,
          104,
          117,
          101,
          99,
          103,
          126,
          92,
          131,
          119,
          98,
          85,
          84,
          145,
          125,
          108,
          108,
          74,
          82,
          75,
          77,
          156,
          116,
          126,
          129,
          132,
          118,
          87,
          95,
          86,
          106,
          115,
          106,
          94,
          121,
          113,
          129,
          99,
          116,
          88,
          112,
          113,
          82,
          98,
          87,
          111,
          105,
          146,
          96,
          80,
          99,
          87,
          88,
          99,
          104,
          104,
          118,
          127,
          109,
          130,
          110,
          88,
          106,
          91,
          103,
          89,
          108,
          124,
          96,
          172,
          124,
          85,
          137,
          91,
          120,
          118,
          110,
          114,
          112,
          92,
          137,
          84,
          52,
          96,
          112,
          90,
          106,
          116,
          127,
          96,
          101,
          88,
          75,
          112,
          110,
          120,
          90,
          82,
          118,
          153,
          117,
          93,
          82,
          115,
          151,
          103,
          117,
          100,
          70,
          103,
          108,
          100,
          91,
          93,
          113,
          116,
          121,
          112,
          76,
          81,
          110,
          90,
          97,
          86,
          94,
          83,
          43,
          92,
          93,
          88,
          53,
          156,
          79,
          96,
          99,
          140,
          62,
          76,
          99,
          97,
          87,
          108,
          94,
          123,
          128,
          132,
          93,
          113,
          96,
          133,
          176,
          115,
          90,
          111,
          87,
          112,
          200,
          93,
          90,
          107,
          89,
          83,
          96,
          99,
          95,
          88,
          94,
          93,
          93,
          92,
          127,
          105,
          94,
          104,
          94,
          82,
          86,
          103,
          97,
          84,
          98,
          42,
          92,
          89,
          99,
          93,
          162,
          85,
          52,
          91,
          106,
          92,
          140,
          69,
          153,
          124,
          120,
          134,
          105,
          119,
          106,
          196,
          90,
          109,
          93,
          102,
          82,
          74,
          94,
          87,
          108,
          151,
          109,
          91,
          93,
          85,
          103,
          102,
          107,
          88,
          95,
          100,
          91,
          110,
          96,
          96,
          98,
          133,
          102,
          108,
          133,
          58,
          79,
          101,
          81,
          99,
          106,
          103,
          92,
          89,
          150,
          80,
          124,
          99,
          29,
          91,
          102,
          94,
          118,
          70,
          181,
          101,
          29,
          92,
          94,
          118,
          98,
          90,
          93,
          114,
          99,
          96,
          102,
          90,
          61,
          60,
          104,
          119,
          102,
          83,
          88,
          86,
          90,
          134,
          92,
          145,
          95,
          93,
          84,
          81,
          98,
          74,
          87,
          96,
          88,
          118,
          113,
          86,
          91,
          115,
          112,
          103,
          116,
          72,
          104,
          97,
          92,
          93,
          93,
          99,
          47,
          52,
          97,
          88,
          106,
          97,
          88,
          88,
          132,
          108,
          111,
          167,
          96,
          95,
          107,
          118,
          130,
          90,
          87,
          109,
          103,
          110,
          85,
          163,
          100,
          58,
          110,
          58,
          56,
          161,
          141,
          115,
          90,
          103,
          77,
          111,
          103,
          129,
          113,
          106,
          105,
          137,
          22,
          130,
          89,
          110,
          148,
          100,
          90,
          103,
          75,
          99,
          93,
          90,
          145,
          95,
          92,
          90,
          137,
          98,
          109,
          117,
          93,
          57,
          110,
          95,
          102,
          97,
          82,
          90,
          57,
          91,
          100,
          101,
          138,
          95,
          116,
          117,
          65,
          158,
          110,
          79,
          99,
          86,
          138,
          91,
          79,
          79,
          96,
          101,
          88,
          95,
          87,
          83,
          90,
          151,
          89,
          99,
          86,
          85,
          93,
          89,
          89,
          90,
          104,
          107,
          124,
          87,
          94,
          86,
          102,
          122,
          126,
          87,
          156,
          97,
          89,
          88,
          96,
          104,
          80,
          95,
          97,
          118,
          118,
          44,
          54,
          170,
          118,
          128,
          106,
          103,
          92,
          102,
          126,
          111,
          100,
          86,
          95,
          79,
          81,
          120,
          85,
          96,
          134,
          93,
          82,
          88,
          96,
          97,
          101,
          88,
          84,
          110,
          105,
          116,
          94,
          110,
          116,
          51,
          103,
          83,
          176,
          149,
          79,
          97,
          91,
          85,
          85,
          117,
          84,
          106,
          107,
          98,
          54,
          139,
          88,
          93,
          91,
          89,
          116,
          100,
          96,
          119,
          108,
          104,
          124,
          87,
          75,
          108,
          103,
          103,
          89,
          103,
          89,
          119,
          106,
          90,
          118,
          95,
          123,
          127,
          116,
          119,
          99,
          90,
          90,
          153,
          106,
          141,
          122,
          87,
          102,
          88,
          99,
          99,
          134,
          91,
          88,
          127,
          137,
          77,
          71,
          130,
          140,
          101,
          91,
          84,
          88,
          163,
          93,
          86,
          154,
          92,
          132,
          132,
          94,
          132,
          105,
          97,
          109,
          134,
          53,
          84,
          102,
          79,
          90,
          79,
          133,
          125,
          101,
          135,
          133,
          91,
          123,
          113,
          107,
          128,
          94,
          95,
          106,
          138,
          139,
          132,
          173,
          105,
          148,
          120,
          85,
          113,
          99,
          41,
          110,
          137,
          118,
          140,
          85,
          116,
          133,
          89,
          75,
          67,
          90,
          170,
          124,
          120,
          157,
          124,
          110,
          90,
          97,
          108,
          95,
          111,
          137,
          100,
          53,
          87,
          106,
          86,
          100,
          103,
          109,
          81,
          98,
          114,
          87,
          132,
          116,
          92,
          99,
          63,
          121,
          56,
          96,
          115,
          117,
          65,
          81,
          85,
          93,
          126,
          99,
          79,
          26,
          107,
          95,
          100,
          149,
          52,
          165,
          104,
          114,
          109,
          88,
          143,
          112,
          101,
          110,
          83,
          145,
          87,
          86,
          115,
          93,
          121,
          54,
          100,
          37,
          33,
          35,
          147,
          110,
          97,
          108,
          101,
          100,
          44,
          78,
          103,
          58,
          90,
          89,
          83,
          84,
          104,
          99,
          105,
          94,
          150,
          111,
          92,
          23,
          25,
          85,
          90,
          91,
          87,
          98,
          108,
          85,
          95,
          103,
          118,
          153,
          96,
          88,
          116,
          155,
          92,
          98,
          103,
          163,
          93,
          77,
          97,
          115,
          103,
          82,
          77,
          79,
          98,
          131,
          110,
          100,
          117,
          107,
          76,
          118,
          93,
          99,
          84,
          102,
          134,
          78,
          95,
          73,
          110,
          75,
          119,
          92,
          137,
          192,
          132,
          91,
          105,
          88,
          155,
          103,
          97,
          92,
          98,
          89,
          112,
          75,
          89,
          99,
          107,
          94,
          90,
          104,
          55,
          83,
          72,
          103,
          131,
          138,
          143,
          80,
          132,
          84,
          99,
          93,
          114,
          100,
          132,
          83,
          105,
          112,
          94,
          90,
          48,
          110,
          84,
          118,
          86,
          98,
          88,
          81,
          112,
          106,
          148,
          105,
          92,
          112,
          128,
          128,
          136,
          106,
          129,
          90,
          130,
          85,
          90,
          94,
          86,
          100,
          107,
          93,
          109,
          109,
          92,
          93,
          100,
          141,
          119,
          84,
          96,
          83,
          117,
          93,
          73,
          72,
          46,
          74,
          46,
          46,
          74,
          71,
          72,
          76,
          23,
          60,
          46,
          101,
          97,
          111,
          96,
          135,
          91,
          84,
          121,
          109,
          74,
          94,
          105,
          97,
          102,
          86,
          88,
          90,
          131,
          158,
          85,
          110,
          79,
          185,
          80,
          116,
          95,
          99,
          77,
          91,
          68,
          72,
          73,
          90,
          99,
          109,
          108,
          99,
          88,
          92,
          73,
          85,
          91,
          171,
          80,
          102,
          76,
          92,
          42,
          131,
          165,
          91,
          101,
          53,
          59,
          108,
          89,
          91,
          84,
          96,
          124,
          87,
          113,
          118,
          97,
          161,
          116,
          104,
          89,
          92,
          90,
          50,
          53,
          113,
          53,
          54,
          53,
          54,
          113,
          53,
          53,
          53,
          54,
          54,
          52,
          54,
          54,
          53,
          53,
          53,
          113,
          53,
          86,
          102,
          114,
          99,
          55,
          91,
          117,
          124,
          122,
          84,
          84,
          120,
          127,
          122,
          125,
          107,
          91,
          103,
          103,
          102,
          97,
          89,
          92,
          107,
          86,
          70,
          66,
          72,
          111,
          166,
          135,
          92,
          87,
          92,
          89,
          93,
          90,
          76,
          86,
          111,
          124,
          139,
          91,
          86,
          122,
          96,
          88,
          93,
          90,
          103,
          102,
          105,
          117,
          126,
          89,
          82,
          82,
          98,
          96,
          108,
          91,
          163,
          112,
          137,
          89,
          86,
          187,
          109,
          77,
          84,
          140,
          68,
          117,
          105,
          91,
          104,
          114,
          112,
          48,
          95,
          89,
          108,
          72,
          109,
          105,
          92,
          95,
          85,
          126,
          118,
          125,
          112,
          96,
          81,
          81,
          92,
          127,
          81,
          133,
          81,
          108,
          120,
          149,
          92,
          96,
          114,
          77,
          90,
          24,
          46,
          24,
          55,
          24,
          23,
          24,
          24,
          106,
          52,
          127,
          86,
          131,
          93,
          97,
          84,
          83,
          165,
          154,
          158,
          89,
          149,
          96,
          106,
          128,
          98,
          99,
          113,
          71,
          83,
          129,
          117,
          93,
          124,
          177,
          104,
          113,
          178,
          90,
          154,
          122,
          115,
          126,
          88,
          99,
          144,
          111,
          73,
          81,
          114,
          112,
          80,
          100,
          96,
          88,
          95,
          112,
          112,
          97,
          97,
          94,
          97,
          118,
          95,
          120,
          84,
          101,
          103,
          83,
          107,
          136,
          96,
          45,
          92,
          120,
          119,
          100,
          92,
          104,
          93,
          98,
          80,
          79,
          122,
          118,
          89,
          26,
          137,
          121,
          103,
          92,
          89,
          97,
          134,
          116,
          110,
          88,
          93,
          72,
          141,
          82,
          117,
          118,
          91,
          105,
          94,
          137,
          61,
          86,
          118,
          173,
          152,
          99,
          110,
          116,
          107,
          109,
          32,
          122,
          228,
          86,
          72,
          102,
          140,
          145,
          126,
          133,
          141,
          78,
          150,
          153,
          83,
          95,
          93,
          126,
          95,
          99,
          93,
          93,
          88,
          88,
          195,
          120,
          77,
          112,
          121,
          117,
          90,
          110,
          86,
          95,
          101,
          111,
          54,
          54,
          54,
          55,
          54,
          55,
          55,
          55,
          55,
          55,
          102,
          106,
          69,
          85,
          146,
          145,
          103,
          111,
          125,
          115,
          168,
          109,
          148,
          92,
          91,
          135,
          71,
          112,
          128,
          168,
          45,
          75,
          71,
          122,
          97,
          89,
          98,
          115,
          96,
          119,
          105,
          88,
          94,
          77,
          143,
          127,
          92,
          87,
          83,
          95,
          96,
          107,
          100,
          49,
          94,
          101,
          89,
          135,
          107,
          84,
          110,
          95,
          66,
          83,
          86,
          137,
          87,
          142,
          94,
          135,
          135,
          104,
          97,
          128,
          109,
          73,
          106,
          94,
          85,
          98,
          96,
          75,
          139,
          117,
          95,
          129,
          94,
          112,
          88,
          100,
          83,
          93,
          103,
          88,
          86,
          88,
          152,
          106,
          52,
          98,
          89,
          86,
          106,
          100,
          91,
          113,
          100,
          132,
          96,
          96,
          113,
          95,
          85,
          106,
          117,
          123,
          78,
          95,
          135,
          130,
          115,
          114,
          107,
          93,
          94,
          85,
          63,
          104,
          127,
          113,
          91,
          154,
          82,
          98,
          103,
          86,
          92,
          123,
          116,
          93,
          97,
          108,
          101,
          177,
          95,
          97,
          111,
          81,
          89,
          72,
          112,
          48,
          81,
          137,
          89,
          87,
          88,
          125,
          67,
          108,
          102,
          109,
          115,
          98,
          84,
          133,
          121,
          100,
          117,
          78,
          87,
          88,
          93,
          107,
          99,
          140,
          113,
          89,
          97,
          97,
          108,
          80,
          90,
          117,
          95,
          86,
          100,
          87,
          101,
          83,
          89,
          18,
          72,
          95,
          95,
          98,
          59,
          118,
          98,
          111,
          116,
          97,
          95,
          122,
          95,
          93,
          107,
          119,
          119,
          97,
          103,
          96,
          106,
          109,
          112,
          96,
          60,
          113,
          126,
          109,
          93,
          101,
          111,
          107,
          100,
          92,
          103,
          105,
          103,
          101,
          123,
          114,
          101,
          99,
          102,
          66,
          112,
          101,
          99,
          105,
          93,
          121,
          75,
          95,
          100,
          151,
          78,
          85,
          69,
          84,
          88,
          86,
          121,
          99,
          110,
          104,
          95,
          96,
          106,
          112,
          85,
          107,
          76,
          95,
          88,
          116,
          121,
          82,
          87,
          46,
          103,
          97,
          91,
          91,
          101,
          104,
          92,
          113,
          89,
          115,
          84,
          106,
          124,
          83,
          107,
          158,
          95,
          97,
          97,
          89,
          161,
          205,
          136,
          161,
          133,
          119,
          94,
          85,
          108,
          71,
          147,
          88,
          99,
          96,
          97,
          92,
          79,
          53,
          94,
          123,
          103,
          111,
          123,
          100,
          75,
          118,
          96,
          108,
          99,
          103,
          99,
          100,
          105,
          52,
          106,
          90,
          95,
          118,
          98,
          86,
          84,
          93,
          88,
          131,
          44,
          96,
          70,
          88,
          87,
          118,
          89,
          85,
          107,
          138,
          119,
          93,
          87,
          121,
          95,
          103,
          201,
          179,
          87,
          98,
          82,
          85,
          90,
          68,
          138,
          136,
          138,
          129,
          116,
          130,
          40,
          94,
          104,
          91,
          70,
          104,
          115,
          85,
          138,
          40,
          82,
          90,
          99,
          91,
          106,
          108,
          94,
          87,
          124,
          141,
          103,
          141,
          155,
          93,
          78,
          118,
          88,
          140,
          124,
          110,
          100,
          96,
          116,
          91,
          111,
          98,
          125,
          76,
          117,
          90,
          119,
          136,
          52,
          81,
          77,
          120,
          102,
          90,
          92,
          93,
          116,
          107,
          87,
          111,
          101,
          91,
          103,
          120,
          90,
          92,
          99,
          124,
          111,
          32,
          86,
          104,
          123,
          105,
          97,
          97,
          90,
          163,
          121,
          120,
          95,
          84,
          94,
          94,
          122,
          90,
          91,
          89,
          98,
          106,
          139,
          83,
          96,
          94,
          58,
          96,
          107,
          104,
          94,
          108,
          91,
          58,
          99,
          96,
          93,
          106,
          103,
          91,
          98,
          111,
          112,
          90,
          101,
          98,
          92,
          88,
          47,
          100,
          114,
          128,
          53,
          89,
          83,
          85,
          94,
          104,
          89,
          86,
          107,
          77,
          123,
          122,
          131,
          77,
          125,
          125,
          88,
          93,
          42,
          108,
          151,
          125,
          78,
          97,
          84,
          108,
          89,
          119,
          87,
          104,
          94,
          94,
          130,
          88,
          118,
          94,
          114,
          119,
          114,
          94,
          82,
          82,
          96,
          104,
          101,
          99,
          98,
          100,
          134,
          173,
          113,
          91,
          110,
          90,
          128,
          108,
          124,
          89,
          162,
          76,
          96,
          102,
          53,
          86,
          89,
          80,
          95,
          78,
          90,
          125,
          94,
          90,
          104,
          40,
          108,
          94,
          61,
          94,
          105,
          83,
          110,
          121,
          95,
          130,
          132,
          90,
          117,
          130,
          78,
          106,
          110,
          91,
          113,
          101,
          125,
          116,
          106,
          113,
          99,
          130,
          120,
          94,
          94,
          109,
          94,
          96,
          103,
          109,
          147,
          98,
          73,
          92,
          78,
          68,
          96,
          83,
          91,
          93,
          38,
          94,
          91,
          95,
          124,
          73,
          108,
          84,
          93,
          102,
          130,
          52,
          91,
          110,
          75,
          103,
          89,
          86,
          97,
          89,
          91,
          78,
          90,
          50,
          84,
          82,
          106,
          105,
          105,
          100,
          85,
          86,
          100,
          106,
          108,
          74,
          109,
          97,
          129,
          93,
          133,
          140,
          45,
          191,
          81,
          124,
          101,
          106,
          137,
          171,
          132,
          147,
          151,
          97,
          90,
          111,
          112,
          107,
          96,
          88,
          78,
          87,
          85,
          157,
          116,
          113,
          94,
          81,
          88,
          98,
          131,
          120,
          96,
          158,
          88,
          88,
          111
         ]
        }
       ],
       "layout": {
        "barmode": "overlay",
        "font": {
         "size": 16
        },
        "template": {
         "data": {
          "bar": [
           {
            "error_x": {
             "color": "#2a3f5f"
            },
            "error_y": {
             "color": "#2a3f5f"
            },
            "marker": {
             "line": {
              "color": "#E5ECF6",
              "width": 0.5
             },
             "pattern": {
              "fillmode": "overlay",
              "size": 10,
              "solidity": 0.2
             }
            },
            "type": "bar"
           }
          ],
          "barpolar": [
           {
            "marker": {
             "line": {
              "color": "#E5ECF6",
              "width": 0.5
             },
             "pattern": {
              "fillmode": "overlay",
              "size": 10,
              "solidity": 0.2
             }
            },
            "type": "barpolar"
           }
          ],
          "carpet": [
           {
            "aaxis": {
             "endlinecolor": "#2a3f5f",
             "gridcolor": "white",
             "linecolor": "white",
             "minorgridcolor": "white",
             "startlinecolor": "#2a3f5f"
            },
            "baxis": {
             "endlinecolor": "#2a3f5f",
             "gridcolor": "white",
             "linecolor": "white",
             "minorgridcolor": "white",
             "startlinecolor": "#2a3f5f"
            },
            "type": "carpet"
           }
          ],
          "choropleth": [
           {
            "colorbar": {
             "outlinewidth": 0,
             "ticks": ""
            },
            "type": "choropleth"
           }
          ],
          "contour": [
           {
            "colorbar": {
             "outlinewidth": 0,
             "ticks": ""
            },
            "colorscale": [
             [
              0,
              "#0d0887"
             ],
             [
              0.1111111111111111,
              "#46039f"
             ],
             [
              0.2222222222222222,
              "#7201a8"
             ],
             [
              0.3333333333333333,
              "#9c179e"
             ],
             [
              0.4444444444444444,
              "#bd3786"
             ],
             [
              0.5555555555555556,
              "#d8576b"
             ],
             [
              0.6666666666666666,
              "#ed7953"
             ],
             [
              0.7777777777777778,
              "#fb9f3a"
             ],
             [
              0.8888888888888888,
              "#fdca26"
             ],
             [
              1,
              "#f0f921"
             ]
            ],
            "type": "contour"
           }
          ],
          "contourcarpet": [
           {
            "colorbar": {
             "outlinewidth": 0,
             "ticks": ""
            },
            "type": "contourcarpet"
           }
          ],
          "heatmap": [
           {
            "colorbar": {
             "outlinewidth": 0,
             "ticks": ""
            },
            "colorscale": [
             [
              0,
              "#0d0887"
             ],
             [
              0.1111111111111111,
              "#46039f"
             ],
             [
              0.2222222222222222,
              "#7201a8"
             ],
             [
              0.3333333333333333,
              "#9c179e"
             ],
             [
              0.4444444444444444,
              "#bd3786"
             ],
             [
              0.5555555555555556,
              "#d8576b"
             ],
             [
              0.6666666666666666,
              "#ed7953"
             ],
             [
              0.7777777777777778,
              "#fb9f3a"
             ],
             [
              0.8888888888888888,
              "#fdca26"
             ],
             [
              1,
              "#f0f921"
             ]
            ],
            "type": "heatmap"
           }
          ],
          "heatmapgl": [
           {
            "colorbar": {
             "outlinewidth": 0,
             "ticks": ""
            },
            "colorscale": [
             [
              0,
              "#0d0887"
             ],
             [
              0.1111111111111111,
              "#46039f"
             ],
             [
              0.2222222222222222,
              "#7201a8"
             ],
             [
              0.3333333333333333,
              "#9c179e"
             ],
             [
              0.4444444444444444,
              "#bd3786"
             ],
             [
              0.5555555555555556,
              "#d8576b"
             ],
             [
              0.6666666666666666,
              "#ed7953"
             ],
             [
              0.7777777777777778,
              "#fb9f3a"
             ],
             [
              0.8888888888888888,
              "#fdca26"
             ],
             [
              1,
              "#f0f921"
             ]
            ],
            "type": "heatmapgl"
           }
          ],
          "histogram": [
           {
            "marker": {
             "pattern": {
              "fillmode": "overlay",
              "size": 10,
              "solidity": 0.2
             }
            },
            "type": "histogram"
           }
          ],
          "histogram2d": [
           {
            "colorbar": {
             "outlinewidth": 0,
             "ticks": ""
            },
            "colorscale": [
             [
              0,
              "#0d0887"
             ],
             [
              0.1111111111111111,
              "#46039f"
             ],
             [
              0.2222222222222222,
              "#7201a8"
             ],
             [
              0.3333333333333333,
              "#9c179e"
             ],
             [
              0.4444444444444444,
              "#bd3786"
             ],
             [
              0.5555555555555556,
              "#d8576b"
             ],
             [
              0.6666666666666666,
              "#ed7953"
             ],
             [
              0.7777777777777778,
              "#fb9f3a"
             ],
             [
              0.8888888888888888,
              "#fdca26"
             ],
             [
              1,
              "#f0f921"
             ]
            ],
            "type": "histogram2d"
           }
          ],
          "histogram2dcontour": [
           {
            "colorbar": {
             "outlinewidth": 0,
             "ticks": ""
            },
            "colorscale": [
             [
              0,
              "#0d0887"
             ],
             [
              0.1111111111111111,
              "#46039f"
             ],
             [
              0.2222222222222222,
              "#7201a8"
             ],
             [
              0.3333333333333333,
              "#9c179e"
             ],
             [
              0.4444444444444444,
              "#bd3786"
             ],
             [
              0.5555555555555556,
              "#d8576b"
             ],
             [
              0.6666666666666666,
              "#ed7953"
             ],
             [
              0.7777777777777778,
              "#fb9f3a"
             ],
             [
              0.8888888888888888,
              "#fdca26"
             ],
             [
              1,
              "#f0f921"
             ]
            ],
            "type": "histogram2dcontour"
           }
          ],
          "mesh3d": [
           {
            "colorbar": {
             "outlinewidth": 0,
             "ticks": ""
            },
            "type": "mesh3d"
           }
          ],
          "parcoords": [
           {
            "line": {
             "colorbar": {
              "outlinewidth": 0,
              "ticks": ""
             }
            },
            "type": "parcoords"
           }
          ],
          "pie": [
           {
            "automargin": true,
            "type": "pie"
           }
          ],
          "scatter": [
           {
            "fillpattern": {
             "fillmode": "overlay",
             "size": 10,
             "solidity": 0.2
            },
            "type": "scatter"
           }
          ],
          "scatter3d": [
           {
            "line": {
             "colorbar": {
              "outlinewidth": 0,
              "ticks": ""
             }
            },
            "marker": {
             "colorbar": {
              "outlinewidth": 0,
              "ticks": ""
             }
            },
            "type": "scatter3d"
           }
          ],
          "scattercarpet": [
           {
            "marker": {
             "colorbar": {
              "outlinewidth": 0,
              "ticks": ""
             }
            },
            "type": "scattercarpet"
           }
          ],
          "scattergeo": [
           {
            "marker": {
             "colorbar": {
              "outlinewidth": 0,
              "ticks": ""
             }
            },
            "type": "scattergeo"
           }
          ],
          "scattergl": [
           {
            "marker": {
             "colorbar": {
              "outlinewidth": 0,
              "ticks": ""
             }
            },
            "type": "scattergl"
           }
          ],
          "scattermapbox": [
           {
            "marker": {
             "colorbar": {
              "outlinewidth": 0,
              "ticks": ""
             }
            },
            "type": "scattermapbox"
           }
          ],
          "scatterpolar": [
           {
            "marker": {
             "colorbar": {
              "outlinewidth": 0,
              "ticks": ""
             }
            },
            "type": "scatterpolar"
           }
          ],
          "scatterpolargl": [
           {
            "marker": {
             "colorbar": {
              "outlinewidth": 0,
              "ticks": ""
             }
            },
            "type": "scatterpolargl"
           }
          ],
          "scatterternary": [
           {
            "marker": {
             "colorbar": {
              "outlinewidth": 0,
              "ticks": ""
             }
            },
            "type": "scatterternary"
           }
          ],
          "surface": [
           {
            "colorbar": {
             "outlinewidth": 0,
             "ticks": ""
            },
            "colorscale": [
             [
              0,
              "#0d0887"
             ],
             [
              0.1111111111111111,
              "#46039f"
             ],
             [
              0.2222222222222222,
              "#7201a8"
             ],
             [
              0.3333333333333333,
              "#9c179e"
             ],
             [
              0.4444444444444444,
              "#bd3786"
             ],
             [
              0.5555555555555556,
              "#d8576b"
             ],
             [
              0.6666666666666666,
              "#ed7953"
             ],
             [
              0.7777777777777778,
              "#fb9f3a"
             ],
             [
              0.8888888888888888,
              "#fdca26"
             ],
             [
              1,
              "#f0f921"
             ]
            ],
            "type": "surface"
           }
          ],
          "table": [
           {
            "cells": {
             "fill": {
              "color": "#EBF0F8"
             },
             "line": {
              "color": "white"
             }
            },
            "header": {
             "fill": {
              "color": "#C8D4E3"
             },
             "line": {
              "color": "white"
             }
            },
            "type": "table"
           }
          ]
         },
         "layout": {
          "annotationdefaults": {
           "arrowcolor": "#2a3f5f",
           "arrowhead": 0,
           "arrowwidth": 1
          },
          "autotypenumbers": "strict",
          "coloraxis": {
           "colorbar": {
            "outlinewidth": 0,
            "ticks": ""
           }
          },
          "colorscale": {
           "diverging": [
            [
             0,
             "#8e0152"
            ],
            [
             0.1,
             "#c51b7d"
            ],
            [
             0.2,
             "#de77ae"
            ],
            [
             0.3,
             "#f1b6da"
            ],
            [
             0.4,
             "#fde0ef"
            ],
            [
             0.5,
             "#f7f7f7"
            ],
            [
             0.6,
             "#e6f5d0"
            ],
            [
             0.7,
             "#b8e186"
            ],
            [
             0.8,
             "#7fbc41"
            ],
            [
             0.9,
             "#4d9221"
            ],
            [
             1,
             "#276419"
            ]
           ],
           "sequential": [
            [
             0,
             "#0d0887"
            ],
            [
             0.1111111111111111,
             "#46039f"
            ],
            [
             0.2222222222222222,
             "#7201a8"
            ],
            [
             0.3333333333333333,
             "#9c179e"
            ],
            [
             0.4444444444444444,
             "#bd3786"
            ],
            [
             0.5555555555555556,
             "#d8576b"
            ],
            [
             0.6666666666666666,
             "#ed7953"
            ],
            [
             0.7777777777777778,
             "#fb9f3a"
            ],
            [
             0.8888888888888888,
             "#fdca26"
            ],
            [
             1,
             "#f0f921"
            ]
           ],
           "sequentialminus": [
            [
             0,
             "#0d0887"
            ],
            [
             0.1111111111111111,
             "#46039f"
            ],
            [
             0.2222222222222222,
             "#7201a8"
            ],
            [
             0.3333333333333333,
             "#9c179e"
            ],
            [
             0.4444444444444444,
             "#bd3786"
            ],
            [
             0.5555555555555556,
             "#d8576b"
            ],
            [
             0.6666666666666666,
             "#ed7953"
            ],
            [
             0.7777777777777778,
             "#fb9f3a"
            ],
            [
             0.8888888888888888,
             "#fdca26"
            ],
            [
             1,
             "#f0f921"
            ]
           ]
          },
          "colorway": [
           "#636efa",
           "#EF553B",
           "#00cc96",
           "#ab63fa",
           "#FFA15A",
           "#19d3f3",
           "#FF6692",
           "#B6E880",
           "#FF97FF",
           "#FECB52"
          ],
          "font": {
           "color": "#2a3f5f"
          },
          "geo": {
           "bgcolor": "white",
           "lakecolor": "white",
           "landcolor": "#E5ECF6",
           "showlakes": true,
           "showland": true,
           "subunitcolor": "white"
          },
          "hoverlabel": {
           "align": "left"
          },
          "hovermode": "closest",
          "mapbox": {
           "style": "light"
          },
          "paper_bgcolor": "white",
          "plot_bgcolor": "#E5ECF6",
          "polar": {
           "angularaxis": {
            "gridcolor": "white",
            "linecolor": "white",
            "ticks": ""
           },
           "bgcolor": "#E5ECF6",
           "radialaxis": {
            "gridcolor": "white",
            "linecolor": "white",
            "ticks": ""
           }
          },
          "scene": {
           "xaxis": {
            "backgroundcolor": "#E5ECF6",
            "gridcolor": "white",
            "gridwidth": 2,
            "linecolor": "white",
            "showbackground": true,
            "ticks": "",
            "zerolinecolor": "white"
           },
           "yaxis": {
            "backgroundcolor": "#E5ECF6",
            "gridcolor": "white",
            "gridwidth": 2,
            "linecolor": "white",
            "showbackground": true,
            "ticks": "",
            "zerolinecolor": "white"
           },
           "zaxis": {
            "backgroundcolor": "#E5ECF6",
            "gridcolor": "white",
            "gridwidth": 2,
            "linecolor": "white",
            "showbackground": true,
            "ticks": "",
            "zerolinecolor": "white"
           }
          },
          "shapedefaults": {
           "line": {
            "color": "#2a3f5f"
           }
          },
          "ternary": {
           "aaxis": {
            "gridcolor": "white",
            "linecolor": "white",
            "ticks": ""
           },
           "baxis": {
            "gridcolor": "white",
            "linecolor": "white",
            "ticks": ""
           },
           "bgcolor": "#E5ECF6",
           "caxis": {
            "gridcolor": "white",
            "linecolor": "white",
            "ticks": ""
           }
          },
          "title": {
           "x": 0.05
          },
          "xaxis": {
           "automargin": true,
           "gridcolor": "white",
           "linecolor": "white",
           "ticks": "",
           "title": {
            "standoff": 15
           },
           "zerolinecolor": "white",
           "zerolinewidth": 2
          },
          "yaxis": {
           "automargin": true,
           "gridcolor": "white",
           "linecolor": "white",
           "ticks": "",
           "title": {
            "standoff": 15
           },
           "zerolinecolor": "white",
           "zerolinewidth": 2
          }
         }
        },
        "title": {
         "text": "Durasi Film",
         "x": 0.5
        },
        "xaxis": {
         "title": {
          "text": "Durasi (Menit)"
         }
        },
        "yaxis": {
         "title": {
          "text": "Jumlah"
         }
        }
       }
      }
     },
     "metadata": {},
     "output_type": "display_data"
    }
   ],
   "source": [
    "df_10 = df.query(\"type == 'Movie'\")\n",
    "df_10['duration'] = df_10['duration'].fillna(\"0\")\n",
    "df_10['duration'] = df_10['duration'].str.split(\" \").str[0].astype(int)\n",
    "a = df_10['duration']\n",
    "\n",
    "fig = go.Figure()\n",
    "fig.add_trace(go.Histogram(x=a,nbinsx=20,marker_color='#F76E11'))\n",
    "fig.update_layout(barmode='overlay',title_text='Durasi Film',title_x = 0.5,yaxis_title=\"Jumlah\",xaxis_title=\"Durasi (Menit)\",font = {'size':16})\n",
    "# Reduce opacity to see both histograms\n",
    "fig.update_traces(opacity=0.75)\n",
    "fig.show()"
   ]
  },
  {
   "cell_type": "markdown",
   "metadata": {},
   "source": [
    "### Kesimpulan:\n",
    "- Terlihat rata - rata durasi film terdapat pada durasi 80 - 120 menit yang merupakan standar \"Screentime\" dari sebuah film"
   ]
  },
  {
   "cell_type": "markdown",
   "metadata": {},
   "source": [
    "### Grafik 4 : Perbandingan Jumlah \"season\" untuk TV Show (Bar Chat)"
   ]
  },
  {
   "cell_type": "code",
   "execution_count": 18,
   "metadata": {},
   "outputs": [
    {
     "data": {
      "application/vnd.plotly.v1+json": {
       "config": {
        "plotlyServerURL": "https://plot.ly"
       },
       "data": [
        {
         "alignmentgroup": "True",
         "hovertemplate": "Seasons=%{x}<br>TV Shows=%{y}<extra></extra>",
         "legendgroup": "",
         "marker": {
          "color": "#FFBC80",
          "pattern": {
           "shape": ""
          }
         },
         "name": "",
         "offsetgroup": "",
         "orientation": "v",
         "showlegend": false,
         "textposition": "auto",
         "type": "bar",
         "x": [
          "1 Season",
          "2 Seasons",
          "3 Seasons",
          "4 Seasons",
          "5 Seasons",
          "6 Seasons",
          "7 Seasons",
          "8 Seasons",
          "9 Seasons",
          "10 Seasons",
          "12 Seasons",
          "13 Seasons",
          "15 Seasons",
          "11 Seasons",
          "17 Seasons"
         ],
         "xaxis": "x",
         "y": [
          1456,
          383,
          187,
          92,
          63,
          33,
          22,
          16,
          8,
          6,
          2,
          2,
          2,
          1,
          1
         ],
         "yaxis": "y"
        }
       ],
       "layout": {
        "barmode": "relative",
        "font": {
         "size": 13
        },
        "legend": {
         "tracegroupgap": 0
        },
        "margin": {
         "t": 60
        },
        "template": {
         "data": {
          "bar": [
           {
            "error_x": {
             "color": "#2a3f5f"
            },
            "error_y": {
             "color": "#2a3f5f"
            },
            "marker": {
             "line": {
              "color": "#E5ECF6",
              "width": 0.5
             },
             "pattern": {
              "fillmode": "overlay",
              "size": 10,
              "solidity": 0.2
             }
            },
            "type": "bar"
           }
          ],
          "barpolar": [
           {
            "marker": {
             "line": {
              "color": "#E5ECF6",
              "width": 0.5
             },
             "pattern": {
              "fillmode": "overlay",
              "size": 10,
              "solidity": 0.2
             }
            },
            "type": "barpolar"
           }
          ],
          "carpet": [
           {
            "aaxis": {
             "endlinecolor": "#2a3f5f",
             "gridcolor": "white",
             "linecolor": "white",
             "minorgridcolor": "white",
             "startlinecolor": "#2a3f5f"
            },
            "baxis": {
             "endlinecolor": "#2a3f5f",
             "gridcolor": "white",
             "linecolor": "white",
             "minorgridcolor": "white",
             "startlinecolor": "#2a3f5f"
            },
            "type": "carpet"
           }
          ],
          "choropleth": [
           {
            "colorbar": {
             "outlinewidth": 0,
             "ticks": ""
            },
            "type": "choropleth"
           }
          ],
          "contour": [
           {
            "colorbar": {
             "outlinewidth": 0,
             "ticks": ""
            },
            "colorscale": [
             [
              0,
              "#0d0887"
             ],
             [
              0.1111111111111111,
              "#46039f"
             ],
             [
              0.2222222222222222,
              "#7201a8"
             ],
             [
              0.3333333333333333,
              "#9c179e"
             ],
             [
              0.4444444444444444,
              "#bd3786"
             ],
             [
              0.5555555555555556,
              "#d8576b"
             ],
             [
              0.6666666666666666,
              "#ed7953"
             ],
             [
              0.7777777777777778,
              "#fb9f3a"
             ],
             [
              0.8888888888888888,
              "#fdca26"
             ],
             [
              1,
              "#f0f921"
             ]
            ],
            "type": "contour"
           }
          ],
          "contourcarpet": [
           {
            "colorbar": {
             "outlinewidth": 0,
             "ticks": ""
            },
            "type": "contourcarpet"
           }
          ],
          "heatmap": [
           {
            "colorbar": {
             "outlinewidth": 0,
             "ticks": ""
            },
            "colorscale": [
             [
              0,
              "#0d0887"
             ],
             [
              0.1111111111111111,
              "#46039f"
             ],
             [
              0.2222222222222222,
              "#7201a8"
             ],
             [
              0.3333333333333333,
              "#9c179e"
             ],
             [
              0.4444444444444444,
              "#bd3786"
             ],
             [
              0.5555555555555556,
              "#d8576b"
             ],
             [
              0.6666666666666666,
              "#ed7953"
             ],
             [
              0.7777777777777778,
              "#fb9f3a"
             ],
             [
              0.8888888888888888,
              "#fdca26"
             ],
             [
              1,
              "#f0f921"
             ]
            ],
            "type": "heatmap"
           }
          ],
          "heatmapgl": [
           {
            "colorbar": {
             "outlinewidth": 0,
             "ticks": ""
            },
            "colorscale": [
             [
              0,
              "#0d0887"
             ],
             [
              0.1111111111111111,
              "#46039f"
             ],
             [
              0.2222222222222222,
              "#7201a8"
             ],
             [
              0.3333333333333333,
              "#9c179e"
             ],
             [
              0.4444444444444444,
              "#bd3786"
             ],
             [
              0.5555555555555556,
              "#d8576b"
             ],
             [
              0.6666666666666666,
              "#ed7953"
             ],
             [
              0.7777777777777778,
              "#fb9f3a"
             ],
             [
              0.8888888888888888,
              "#fdca26"
             ],
             [
              1,
              "#f0f921"
             ]
            ],
            "type": "heatmapgl"
           }
          ],
          "histogram": [
           {
            "marker": {
             "pattern": {
              "fillmode": "overlay",
              "size": 10,
              "solidity": 0.2
             }
            },
            "type": "histogram"
           }
          ],
          "histogram2d": [
           {
            "colorbar": {
             "outlinewidth": 0,
             "ticks": ""
            },
            "colorscale": [
             [
              0,
              "#0d0887"
             ],
             [
              0.1111111111111111,
              "#46039f"
             ],
             [
              0.2222222222222222,
              "#7201a8"
             ],
             [
              0.3333333333333333,
              "#9c179e"
             ],
             [
              0.4444444444444444,
              "#bd3786"
             ],
             [
              0.5555555555555556,
              "#d8576b"
             ],
             [
              0.6666666666666666,
              "#ed7953"
             ],
             [
              0.7777777777777778,
              "#fb9f3a"
             ],
             [
              0.8888888888888888,
              "#fdca26"
             ],
             [
              1,
              "#f0f921"
             ]
            ],
            "type": "histogram2d"
           }
          ],
          "histogram2dcontour": [
           {
            "colorbar": {
             "outlinewidth": 0,
             "ticks": ""
            },
            "colorscale": [
             [
              0,
              "#0d0887"
             ],
             [
              0.1111111111111111,
              "#46039f"
             ],
             [
              0.2222222222222222,
              "#7201a8"
             ],
             [
              0.3333333333333333,
              "#9c179e"
             ],
             [
              0.4444444444444444,
              "#bd3786"
             ],
             [
              0.5555555555555556,
              "#d8576b"
             ],
             [
              0.6666666666666666,
              "#ed7953"
             ],
             [
              0.7777777777777778,
              "#fb9f3a"
             ],
             [
              0.8888888888888888,
              "#fdca26"
             ],
             [
              1,
              "#f0f921"
             ]
            ],
            "type": "histogram2dcontour"
           }
          ],
          "mesh3d": [
           {
            "colorbar": {
             "outlinewidth": 0,
             "ticks": ""
            },
            "type": "mesh3d"
           }
          ],
          "parcoords": [
           {
            "line": {
             "colorbar": {
              "outlinewidth": 0,
              "ticks": ""
             }
            },
            "type": "parcoords"
           }
          ],
          "pie": [
           {
            "automargin": true,
            "type": "pie"
           }
          ],
          "scatter": [
           {
            "fillpattern": {
             "fillmode": "overlay",
             "size": 10,
             "solidity": 0.2
            },
            "type": "scatter"
           }
          ],
          "scatter3d": [
           {
            "line": {
             "colorbar": {
              "outlinewidth": 0,
              "ticks": ""
             }
            },
            "marker": {
             "colorbar": {
              "outlinewidth": 0,
              "ticks": ""
             }
            },
            "type": "scatter3d"
           }
          ],
          "scattercarpet": [
           {
            "marker": {
             "colorbar": {
              "outlinewidth": 0,
              "ticks": ""
             }
            },
            "type": "scattercarpet"
           }
          ],
          "scattergeo": [
           {
            "marker": {
             "colorbar": {
              "outlinewidth": 0,
              "ticks": ""
             }
            },
            "type": "scattergeo"
           }
          ],
          "scattergl": [
           {
            "marker": {
             "colorbar": {
              "outlinewidth": 0,
              "ticks": ""
             }
            },
            "type": "scattergl"
           }
          ],
          "scattermapbox": [
           {
            "marker": {
             "colorbar": {
              "outlinewidth": 0,
              "ticks": ""
             }
            },
            "type": "scattermapbox"
           }
          ],
          "scatterpolar": [
           {
            "marker": {
             "colorbar": {
              "outlinewidth": 0,
              "ticks": ""
             }
            },
            "type": "scatterpolar"
           }
          ],
          "scatterpolargl": [
           {
            "marker": {
             "colorbar": {
              "outlinewidth": 0,
              "ticks": ""
             }
            },
            "type": "scatterpolargl"
           }
          ],
          "scatterternary": [
           {
            "marker": {
             "colorbar": {
              "outlinewidth": 0,
              "ticks": ""
             }
            },
            "type": "scatterternary"
           }
          ],
          "surface": [
           {
            "colorbar": {
             "outlinewidth": 0,
             "ticks": ""
            },
            "colorscale": [
             [
              0,
              "#0d0887"
             ],
             [
              0.1111111111111111,
              "#46039f"
             ],
             [
              0.2222222222222222,
              "#7201a8"
             ],
             [
              0.3333333333333333,
              "#9c179e"
             ],
             [
              0.4444444444444444,
              "#bd3786"
             ],
             [
              0.5555555555555556,
              "#d8576b"
             ],
             [
              0.6666666666666666,
              "#ed7953"
             ],
             [
              0.7777777777777778,
              "#fb9f3a"
             ],
             [
              0.8888888888888888,
              "#fdca26"
             ],
             [
              1,
              "#f0f921"
             ]
            ],
            "type": "surface"
           }
          ],
          "table": [
           {
            "cells": {
             "fill": {
              "color": "#EBF0F8"
             },
             "line": {
              "color": "white"
             }
            },
            "header": {
             "fill": {
              "color": "#C8D4E3"
             },
             "line": {
              "color": "white"
             }
            },
            "type": "table"
           }
          ]
         },
         "layout": {
          "annotationdefaults": {
           "arrowcolor": "#2a3f5f",
           "arrowhead": 0,
           "arrowwidth": 1
          },
          "autotypenumbers": "strict",
          "coloraxis": {
           "colorbar": {
            "outlinewidth": 0,
            "ticks": ""
           }
          },
          "colorscale": {
           "diverging": [
            [
             0,
             "#8e0152"
            ],
            [
             0.1,
             "#c51b7d"
            ],
            [
             0.2,
             "#de77ae"
            ],
            [
             0.3,
             "#f1b6da"
            ],
            [
             0.4,
             "#fde0ef"
            ],
            [
             0.5,
             "#f7f7f7"
            ],
            [
             0.6,
             "#e6f5d0"
            ],
            [
             0.7,
             "#b8e186"
            ],
            [
             0.8,
             "#7fbc41"
            ],
            [
             0.9,
             "#4d9221"
            ],
            [
             1,
             "#276419"
            ]
           ],
           "sequential": [
            [
             0,
             "#0d0887"
            ],
            [
             0.1111111111111111,
             "#46039f"
            ],
            [
             0.2222222222222222,
             "#7201a8"
            ],
            [
             0.3333333333333333,
             "#9c179e"
            ],
            [
             0.4444444444444444,
             "#bd3786"
            ],
            [
             0.5555555555555556,
             "#d8576b"
            ],
            [
             0.6666666666666666,
             "#ed7953"
            ],
            [
             0.7777777777777778,
             "#fb9f3a"
            ],
            [
             0.8888888888888888,
             "#fdca26"
            ],
            [
             1,
             "#f0f921"
            ]
           ],
           "sequentialminus": [
            [
             0,
             "#0d0887"
            ],
            [
             0.1111111111111111,
             "#46039f"
            ],
            [
             0.2222222222222222,
             "#7201a8"
            ],
            [
             0.3333333333333333,
             "#9c179e"
            ],
            [
             0.4444444444444444,
             "#bd3786"
            ],
            [
             0.5555555555555556,
             "#d8576b"
            ],
            [
             0.6666666666666666,
             "#ed7953"
            ],
            [
             0.7777777777777778,
             "#fb9f3a"
            ],
            [
             0.8888888888888888,
             "#fdca26"
            ],
            [
             1,
             "#f0f921"
            ]
           ]
          },
          "colorway": [
           "#636efa",
           "#EF553B",
           "#00cc96",
           "#ab63fa",
           "#FFA15A",
           "#19d3f3",
           "#FF6692",
           "#B6E880",
           "#FF97FF",
           "#FECB52"
          ],
          "font": {
           "color": "#2a3f5f"
          },
          "geo": {
           "bgcolor": "white",
           "lakecolor": "white",
           "landcolor": "#E5ECF6",
           "showlakes": true,
           "showland": true,
           "subunitcolor": "white"
          },
          "hoverlabel": {
           "align": "left"
          },
          "hovermode": "closest",
          "mapbox": {
           "style": "light"
          },
          "paper_bgcolor": "white",
          "plot_bgcolor": "#E5ECF6",
          "polar": {
           "angularaxis": {
            "gridcolor": "white",
            "linecolor": "white",
            "ticks": ""
           },
           "bgcolor": "#E5ECF6",
           "radialaxis": {
            "gridcolor": "white",
            "linecolor": "white",
            "ticks": ""
           }
          },
          "scene": {
           "xaxis": {
            "backgroundcolor": "#E5ECF6",
            "gridcolor": "white",
            "gridwidth": 2,
            "linecolor": "white",
            "showbackground": true,
            "ticks": "",
            "zerolinecolor": "white"
           },
           "yaxis": {
            "backgroundcolor": "#E5ECF6",
            "gridcolor": "white",
            "gridwidth": 2,
            "linecolor": "white",
            "showbackground": true,
            "ticks": "",
            "zerolinecolor": "white"
           },
           "zaxis": {
            "backgroundcolor": "#E5ECF6",
            "gridcolor": "white",
            "gridwidth": 2,
            "linecolor": "white",
            "showbackground": true,
            "ticks": "",
            "zerolinecolor": "white"
           }
          },
          "shapedefaults": {
           "line": {
            "color": "#2a3f5f"
           }
          },
          "ternary": {
           "aaxis": {
            "gridcolor": "white",
            "linecolor": "white",
            "ticks": ""
           },
           "baxis": {
            "gridcolor": "white",
            "linecolor": "white",
            "ticks": ""
           },
           "bgcolor": "#E5ECF6",
           "caxis": {
            "gridcolor": "white",
            "linecolor": "white",
            "ticks": ""
           }
          },
          "title": {
           "x": 0.05
          },
          "xaxis": {
           "automargin": true,
           "gridcolor": "white",
           "linecolor": "white",
           "ticks": "",
           "title": {
            "standoff": 15
           },
           "zerolinecolor": "white",
           "zerolinewidth": 2
          },
          "yaxis": {
           "automargin": true,
           "gridcolor": "white",
           "linecolor": "white",
           "ticks": "",
           "title": {
            "standoff": 15
           },
           "zerolinecolor": "white",
           "zerolinewidth": 2
          }
         }
        },
        "title": {
         "text": "TV Shows seasons",
         "x": 0.5
        },
        "xaxis": {
         "anchor": "y",
         "domain": [
          0,
          1
         ],
         "title": {
          "text": "Seasons"
         }
        },
        "yaxis": {
         "anchor": "x",
         "domain": [
          0,
          1
         ],
         "title": {
          "text": "TV Shows"
         }
        }
       }
      }
     },
     "metadata": {},
     "output_type": "display_data"
    }
   ],
   "source": [
    "df_9 = df.query(\"type == 'TV Show'\")\n",
    "df_9 = df_9[[ \"title\", \"duration\"]]\n",
    "df_9 = df_9.groupby(['duration'])[\"title\"].count().reset_index().sort_values('title', ascending = False)\n",
    "#df_9 = df_9['duration'].replace(\"seasons\", \"\")\n",
    "df_9 = df_9.rename(columns = {\"title\": \"TV Shows\", \"duration\" : \"Seasons\"})\n",
    "\n",
    "fig_show = px.bar(df_9, x='Seasons', y='TV Shows', color_discrete_sequence=['#FFBC80'])\n",
    "fig_show.update_layout( title='TV Shows seasons',title_x=0.5,font={'size':13})\n",
    "fig_show.show()"
   ]
  },
  {
   "cell_type": "markdown",
   "metadata": {},
   "source": [
    "### Kesimpulan:\n",
    "- Banyak seasons \"TV Show\" terdapat pada season 1"
   ]
  },
  {
   "cell_type": "markdown",
   "metadata": {},
   "source": [
    "### Grafik 5 : Banyaknya jumlah tayangan per tahun (Line Plot)"
   ]
  },
  {
   "cell_type": "code",
   "execution_count": 19,
   "metadata": {},
   "outputs": [
    {
     "data": {
      "application/vnd.plotly.v1+json": {
       "config": {
        "plotlyServerURL": "https://plot.ly"
       },
       "data": [
        {
         "marker": {
          "color": "#F76E11"
         },
         "mode": "lines+markers",
         "name": "Movie",
         "type": "scatter",
         "x": [
          2008,
          2009,
          2010,
          2011,
          2012,
          2013,
          2014,
          2015,
          2016,
          2017,
          2018,
          2019,
          2020,
          2021
         ],
         "y": [
          1,
          2,
          1,
          13,
          3,
          6,
          19,
          54,
          242,
          812,
          1192,
          1349,
          1223,
          770
         ]
        },
        {
         "marker": {
          "color": "#FFBC80"
         },
         "mode": "lines+markers",
         "name": "TV Show",
         "type": "scatter",
         "x": [
          2008,
          2013,
          2014,
          2015,
          2016,
          2017,
          2018,
          2019,
          2020,
          2021
         ],
         "y": [
          1,
          5,
          5,
          25,
          165,
          309,
          337,
          509,
          548,
          370
         ]
        }
       ],
       "layout": {
        "font": {
         "size": 16
        },
        "template": {
         "data": {
          "bar": [
           {
            "error_x": {
             "color": "#2a3f5f"
            },
            "error_y": {
             "color": "#2a3f5f"
            },
            "marker": {
             "line": {
              "color": "#E5ECF6",
              "width": 0.5
             },
             "pattern": {
              "fillmode": "overlay",
              "size": 10,
              "solidity": 0.2
             }
            },
            "type": "bar"
           }
          ],
          "barpolar": [
           {
            "marker": {
             "line": {
              "color": "#E5ECF6",
              "width": 0.5
             },
             "pattern": {
              "fillmode": "overlay",
              "size": 10,
              "solidity": 0.2
             }
            },
            "type": "barpolar"
           }
          ],
          "carpet": [
           {
            "aaxis": {
             "endlinecolor": "#2a3f5f",
             "gridcolor": "white",
             "linecolor": "white",
             "minorgridcolor": "white",
             "startlinecolor": "#2a3f5f"
            },
            "baxis": {
             "endlinecolor": "#2a3f5f",
             "gridcolor": "white",
             "linecolor": "white",
             "minorgridcolor": "white",
             "startlinecolor": "#2a3f5f"
            },
            "type": "carpet"
           }
          ],
          "choropleth": [
           {
            "colorbar": {
             "outlinewidth": 0,
             "ticks": ""
            },
            "type": "choropleth"
           }
          ],
          "contour": [
           {
            "colorbar": {
             "outlinewidth": 0,
             "ticks": ""
            },
            "colorscale": [
             [
              0,
              "#0d0887"
             ],
             [
              0.1111111111111111,
              "#46039f"
             ],
             [
              0.2222222222222222,
              "#7201a8"
             ],
             [
              0.3333333333333333,
              "#9c179e"
             ],
             [
              0.4444444444444444,
              "#bd3786"
             ],
             [
              0.5555555555555556,
              "#d8576b"
             ],
             [
              0.6666666666666666,
              "#ed7953"
             ],
             [
              0.7777777777777778,
              "#fb9f3a"
             ],
             [
              0.8888888888888888,
              "#fdca26"
             ],
             [
              1,
              "#f0f921"
             ]
            ],
            "type": "contour"
           }
          ],
          "contourcarpet": [
           {
            "colorbar": {
             "outlinewidth": 0,
             "ticks": ""
            },
            "type": "contourcarpet"
           }
          ],
          "heatmap": [
           {
            "colorbar": {
             "outlinewidth": 0,
             "ticks": ""
            },
            "colorscale": [
             [
              0,
              "#0d0887"
             ],
             [
              0.1111111111111111,
              "#46039f"
             ],
             [
              0.2222222222222222,
              "#7201a8"
             ],
             [
              0.3333333333333333,
              "#9c179e"
             ],
             [
              0.4444444444444444,
              "#bd3786"
             ],
             [
              0.5555555555555556,
              "#d8576b"
             ],
             [
              0.6666666666666666,
              "#ed7953"
             ],
             [
              0.7777777777777778,
              "#fb9f3a"
             ],
             [
              0.8888888888888888,
              "#fdca26"
             ],
             [
              1,
              "#f0f921"
             ]
            ],
            "type": "heatmap"
           }
          ],
          "heatmapgl": [
           {
            "colorbar": {
             "outlinewidth": 0,
             "ticks": ""
            },
            "colorscale": [
             [
              0,
              "#0d0887"
             ],
             [
              0.1111111111111111,
              "#46039f"
             ],
             [
              0.2222222222222222,
              "#7201a8"
             ],
             [
              0.3333333333333333,
              "#9c179e"
             ],
             [
              0.4444444444444444,
              "#bd3786"
             ],
             [
              0.5555555555555556,
              "#d8576b"
             ],
             [
              0.6666666666666666,
              "#ed7953"
             ],
             [
              0.7777777777777778,
              "#fb9f3a"
             ],
             [
              0.8888888888888888,
              "#fdca26"
             ],
             [
              1,
              "#f0f921"
             ]
            ],
            "type": "heatmapgl"
           }
          ],
          "histogram": [
           {
            "marker": {
             "pattern": {
              "fillmode": "overlay",
              "size": 10,
              "solidity": 0.2
             }
            },
            "type": "histogram"
           }
          ],
          "histogram2d": [
           {
            "colorbar": {
             "outlinewidth": 0,
             "ticks": ""
            },
            "colorscale": [
             [
              0,
              "#0d0887"
             ],
             [
              0.1111111111111111,
              "#46039f"
             ],
             [
              0.2222222222222222,
              "#7201a8"
             ],
             [
              0.3333333333333333,
              "#9c179e"
             ],
             [
              0.4444444444444444,
              "#bd3786"
             ],
             [
              0.5555555555555556,
              "#d8576b"
             ],
             [
              0.6666666666666666,
              "#ed7953"
             ],
             [
              0.7777777777777778,
              "#fb9f3a"
             ],
             [
              0.8888888888888888,
              "#fdca26"
             ],
             [
              1,
              "#f0f921"
             ]
            ],
            "type": "histogram2d"
           }
          ],
          "histogram2dcontour": [
           {
            "colorbar": {
             "outlinewidth": 0,
             "ticks": ""
            },
            "colorscale": [
             [
              0,
              "#0d0887"
             ],
             [
              0.1111111111111111,
              "#46039f"
             ],
             [
              0.2222222222222222,
              "#7201a8"
             ],
             [
              0.3333333333333333,
              "#9c179e"
             ],
             [
              0.4444444444444444,
              "#bd3786"
             ],
             [
              0.5555555555555556,
              "#d8576b"
             ],
             [
              0.6666666666666666,
              "#ed7953"
             ],
             [
              0.7777777777777778,
              "#fb9f3a"
             ],
             [
              0.8888888888888888,
              "#fdca26"
             ],
             [
              1,
              "#f0f921"
             ]
            ],
            "type": "histogram2dcontour"
           }
          ],
          "mesh3d": [
           {
            "colorbar": {
             "outlinewidth": 0,
             "ticks": ""
            },
            "type": "mesh3d"
           }
          ],
          "parcoords": [
           {
            "line": {
             "colorbar": {
              "outlinewidth": 0,
              "ticks": ""
             }
            },
            "type": "parcoords"
           }
          ],
          "pie": [
           {
            "automargin": true,
            "type": "pie"
           }
          ],
          "scatter": [
           {
            "fillpattern": {
             "fillmode": "overlay",
             "size": 10,
             "solidity": 0.2
            },
            "type": "scatter"
           }
          ],
          "scatter3d": [
           {
            "line": {
             "colorbar": {
              "outlinewidth": 0,
              "ticks": ""
             }
            },
            "marker": {
             "colorbar": {
              "outlinewidth": 0,
              "ticks": ""
             }
            },
            "type": "scatter3d"
           }
          ],
          "scattercarpet": [
           {
            "marker": {
             "colorbar": {
              "outlinewidth": 0,
              "ticks": ""
             }
            },
            "type": "scattercarpet"
           }
          ],
          "scattergeo": [
           {
            "marker": {
             "colorbar": {
              "outlinewidth": 0,
              "ticks": ""
             }
            },
            "type": "scattergeo"
           }
          ],
          "scattergl": [
           {
            "marker": {
             "colorbar": {
              "outlinewidth": 0,
              "ticks": ""
             }
            },
            "type": "scattergl"
           }
          ],
          "scattermapbox": [
           {
            "marker": {
             "colorbar": {
              "outlinewidth": 0,
              "ticks": ""
             }
            },
            "type": "scattermapbox"
           }
          ],
          "scatterpolar": [
           {
            "marker": {
             "colorbar": {
              "outlinewidth": 0,
              "ticks": ""
             }
            },
            "type": "scatterpolar"
           }
          ],
          "scatterpolargl": [
           {
            "marker": {
             "colorbar": {
              "outlinewidth": 0,
              "ticks": ""
             }
            },
            "type": "scatterpolargl"
           }
          ],
          "scatterternary": [
           {
            "marker": {
             "colorbar": {
              "outlinewidth": 0,
              "ticks": ""
             }
            },
            "type": "scatterternary"
           }
          ],
          "surface": [
           {
            "colorbar": {
             "outlinewidth": 0,
             "ticks": ""
            },
            "colorscale": [
             [
              0,
              "#0d0887"
             ],
             [
              0.1111111111111111,
              "#46039f"
             ],
             [
              0.2222222222222222,
              "#7201a8"
             ],
             [
              0.3333333333333333,
              "#9c179e"
             ],
             [
              0.4444444444444444,
              "#bd3786"
             ],
             [
              0.5555555555555556,
              "#d8576b"
             ],
             [
              0.6666666666666666,
              "#ed7953"
             ],
             [
              0.7777777777777778,
              "#fb9f3a"
             ],
             [
              0.8888888888888888,
              "#fdca26"
             ],
             [
              1,
              "#f0f921"
             ]
            ],
            "type": "surface"
           }
          ],
          "table": [
           {
            "cells": {
             "fill": {
              "color": "#EBF0F8"
             },
             "line": {
              "color": "white"
             }
            },
            "header": {
             "fill": {
              "color": "#C8D4E3"
             },
             "line": {
              "color": "white"
             }
            },
            "type": "table"
           }
          ]
         },
         "layout": {
          "annotationdefaults": {
           "arrowcolor": "#2a3f5f",
           "arrowhead": 0,
           "arrowwidth": 1
          },
          "autotypenumbers": "strict",
          "coloraxis": {
           "colorbar": {
            "outlinewidth": 0,
            "ticks": ""
           }
          },
          "colorscale": {
           "diverging": [
            [
             0,
             "#8e0152"
            ],
            [
             0.1,
             "#c51b7d"
            ],
            [
             0.2,
             "#de77ae"
            ],
            [
             0.3,
             "#f1b6da"
            ],
            [
             0.4,
             "#fde0ef"
            ],
            [
             0.5,
             "#f7f7f7"
            ],
            [
             0.6,
             "#e6f5d0"
            ],
            [
             0.7,
             "#b8e186"
            ],
            [
             0.8,
             "#7fbc41"
            ],
            [
             0.9,
             "#4d9221"
            ],
            [
             1,
             "#276419"
            ]
           ],
           "sequential": [
            [
             0,
             "#0d0887"
            ],
            [
             0.1111111111111111,
             "#46039f"
            ],
            [
             0.2222222222222222,
             "#7201a8"
            ],
            [
             0.3333333333333333,
             "#9c179e"
            ],
            [
             0.4444444444444444,
             "#bd3786"
            ],
            [
             0.5555555555555556,
             "#d8576b"
            ],
            [
             0.6666666666666666,
             "#ed7953"
            ],
            [
             0.7777777777777778,
             "#fb9f3a"
            ],
            [
             0.8888888888888888,
             "#fdca26"
            ],
            [
             1,
             "#f0f921"
            ]
           ],
           "sequentialminus": [
            [
             0,
             "#0d0887"
            ],
            [
             0.1111111111111111,
             "#46039f"
            ],
            [
             0.2222222222222222,
             "#7201a8"
            ],
            [
             0.3333333333333333,
             "#9c179e"
            ],
            [
             0.4444444444444444,
             "#bd3786"
            ],
            [
             0.5555555555555556,
             "#d8576b"
            ],
            [
             0.6666666666666666,
             "#ed7953"
            ],
            [
             0.7777777777777778,
             "#fb9f3a"
            ],
            [
             0.8888888888888888,
             "#fdca26"
            ],
            [
             1,
             "#f0f921"
            ]
           ]
          },
          "colorway": [
           "#636efa",
           "#EF553B",
           "#00cc96",
           "#ab63fa",
           "#FFA15A",
           "#19d3f3",
           "#FF6692",
           "#B6E880",
           "#FF97FF",
           "#FECB52"
          ],
          "font": {
           "color": "#2a3f5f"
          },
          "geo": {
           "bgcolor": "white",
           "lakecolor": "white",
           "landcolor": "#E5ECF6",
           "showlakes": true,
           "showland": true,
           "subunitcolor": "white"
          },
          "hoverlabel": {
           "align": "left"
          },
          "hovermode": "closest",
          "mapbox": {
           "style": "light"
          },
          "paper_bgcolor": "white",
          "plot_bgcolor": "#E5ECF6",
          "polar": {
           "angularaxis": {
            "gridcolor": "white",
            "linecolor": "white",
            "ticks": ""
           },
           "bgcolor": "#E5ECF6",
           "radialaxis": {
            "gridcolor": "white",
            "linecolor": "white",
            "ticks": ""
           }
          },
          "scene": {
           "xaxis": {
            "backgroundcolor": "#E5ECF6",
            "gridcolor": "white",
            "gridwidth": 2,
            "linecolor": "white",
            "showbackground": true,
            "ticks": "",
            "zerolinecolor": "white"
           },
           "yaxis": {
            "backgroundcolor": "#E5ECF6",
            "gridcolor": "white",
            "gridwidth": 2,
            "linecolor": "white",
            "showbackground": true,
            "ticks": "",
            "zerolinecolor": "white"
           },
           "zaxis": {
            "backgroundcolor": "#E5ECF6",
            "gridcolor": "white",
            "gridwidth": 2,
            "linecolor": "white",
            "showbackground": true,
            "ticks": "",
            "zerolinecolor": "white"
           }
          },
          "shapedefaults": {
           "line": {
            "color": "#2a3f5f"
           }
          },
          "ternary": {
           "aaxis": {
            "gridcolor": "white",
            "linecolor": "white",
            "ticks": ""
           },
           "baxis": {
            "gridcolor": "white",
            "linecolor": "white",
            "ticks": ""
           },
           "bgcolor": "#E5ECF6",
           "caxis": {
            "gridcolor": "white",
            "linecolor": "white",
            "ticks": ""
           }
          },
          "title": {
           "x": 0.05
          },
          "xaxis": {
           "automargin": true,
           "gridcolor": "white",
           "linecolor": "white",
           "ticks": "",
           "title": {
            "standoff": 15
           },
           "zerolinecolor": "white",
           "zerolinewidth": 2
          },
          "yaxis": {
           "automargin": true,
           "gridcolor": "white",
           "linecolor": "white",
           "ticks": "",
           "title": {
            "standoff": 15
           },
           "zerolinecolor": "white",
           "zerolinewidth": 2
          }
         }
        },
        "title": {
         "text": "Tahun Tayangan Ditambahkan",
         "x": 0.5
        },
        "xaxis": {
         "title": {
          "text": "Tahun"
         }
        },
        "yaxis": {
         "title": {
          "text": "Jumlah"
         }
        }
       }
      }
     },
     "metadata": {},
     "output_type": "display_data"
    }
   ],
   "source": [
    "fig = go.Figure()\n",
    "\n",
    "dfYearAdd = df.groupby(['year_added','type']).count().reset_index()\n",
    "\n",
    "fig.add_trace(go.Scatter( \n",
    "    x=dfYearAdd.loc[dfYearAdd['type'] == 'Movie']['year_added'], \n",
    "    y=dfYearAdd.loc[dfYearAdd['type'] == 'Movie']['show_id'],\n",
    "    mode='lines+markers',\n",
    "    name='Movie',\n",
    "    marker_color='#F76E11',\n",
    "))\n",
    "\n",
    "fig.add_trace(go.Scatter( \n",
    "    x=dfYearAdd.loc[dfYearAdd['type'] == 'TV Show']['year_added'], \n",
    "    y=dfYearAdd.loc[dfYearAdd['type'] == 'TV Show']['show_id'],\n",
    "    mode='lines+markers',\n",
    "    name='TV Show',\n",
    "    marker_color='#FFBC80',\n",
    "))\n",
    "\n",
    "fig.update_layout(title_text='Tahun Tayangan Ditambahkan',title_x = 0.5,yaxis_title=\"Jumlah\",xaxis_title=\"Tahun\",font = {'size':16})\n"
   ]
  },
  {
   "cell_type": "markdown",
   "metadata": {},
   "source": [
    "### Kesimpulan:\n",
    "- Jumlah konten mulai bertambah pada tahun 2016 dan sampai puncaknya pada tahun 2019 - 2020\n",
    "- Hal ini mungkin dikarenakan adanya pandemi pada tahun 2020 yang membuat banyak orang tetap di rumah"
   ]
  },
  {
   "cell_type": "code",
   "execution_count": 20,
   "metadata": {},
   "outputs": [
    {
     "data": {
      "application/vnd.plotly.v1+json": {
       "config": {
        "plotlyServerURL": "https://plot.ly"
       },
       "data": [
        {
         "alignmentgroup": "True",
         "cliponaxis": false,
         "hovertemplate": "principal_country=%{x}<br>country=%{y}<extra></extra>",
         "legendgroup": "",
         "marker": {
          "color": "#F76E11",
          "pattern": {
           "shape": ""
          }
         },
         "name": "",
         "offsetgroup": "",
         "orientation": "v",
         "showlegend": false,
         "textangle": 0,
         "textfont": {
          "size": 12
         },
         "textposition": "outside",
         "texttemplate": "%{y:.2s}",
         "type": "bar",
         "x": [
          "United States",
          "India",
          "United Kingdom",
          "Canada",
          "Japan",
          "France",
          "South Korea",
          "Spain",
          "Mexico",
          "Australia"
         ],
         "xaxis": "x",
         "y": [
          3202,
          1008,
          627,
          271,
          257,
          212,
          211,
          181,
          134,
          115
         ],
         "yaxis": "y"
        }
       ],
       "layout": {
        "barmode": "relative",
        "font": {
         "size": 14
        },
        "legend": {
         "tracegroupgap": 0
        },
        "margin": {
         "t": 60
        },
        "template": {
         "data": {
          "bar": [
           {
            "error_x": {
             "color": "#2a3f5f"
            },
            "error_y": {
             "color": "#2a3f5f"
            },
            "marker": {
             "line": {
              "color": "#E5ECF6",
              "width": 0.5
             },
             "pattern": {
              "fillmode": "overlay",
              "size": 10,
              "solidity": 0.2
             }
            },
            "type": "bar"
           }
          ],
          "barpolar": [
           {
            "marker": {
             "line": {
              "color": "#E5ECF6",
              "width": 0.5
             },
             "pattern": {
              "fillmode": "overlay",
              "size": 10,
              "solidity": 0.2
             }
            },
            "type": "barpolar"
           }
          ],
          "carpet": [
           {
            "aaxis": {
             "endlinecolor": "#2a3f5f",
             "gridcolor": "white",
             "linecolor": "white",
             "minorgridcolor": "white",
             "startlinecolor": "#2a3f5f"
            },
            "baxis": {
             "endlinecolor": "#2a3f5f",
             "gridcolor": "white",
             "linecolor": "white",
             "minorgridcolor": "white",
             "startlinecolor": "#2a3f5f"
            },
            "type": "carpet"
           }
          ],
          "choropleth": [
           {
            "colorbar": {
             "outlinewidth": 0,
             "ticks": ""
            },
            "type": "choropleth"
           }
          ],
          "contour": [
           {
            "colorbar": {
             "outlinewidth": 0,
             "ticks": ""
            },
            "colorscale": [
             [
              0,
              "#0d0887"
             ],
             [
              0.1111111111111111,
              "#46039f"
             ],
             [
              0.2222222222222222,
              "#7201a8"
             ],
             [
              0.3333333333333333,
              "#9c179e"
             ],
             [
              0.4444444444444444,
              "#bd3786"
             ],
             [
              0.5555555555555556,
              "#d8576b"
             ],
             [
              0.6666666666666666,
              "#ed7953"
             ],
             [
              0.7777777777777778,
              "#fb9f3a"
             ],
             [
              0.8888888888888888,
              "#fdca26"
             ],
             [
              1,
              "#f0f921"
             ]
            ],
            "type": "contour"
           }
          ],
          "contourcarpet": [
           {
            "colorbar": {
             "outlinewidth": 0,
             "ticks": ""
            },
            "type": "contourcarpet"
           }
          ],
          "heatmap": [
           {
            "colorbar": {
             "outlinewidth": 0,
             "ticks": ""
            },
            "colorscale": [
             [
              0,
              "#0d0887"
             ],
             [
              0.1111111111111111,
              "#46039f"
             ],
             [
              0.2222222222222222,
              "#7201a8"
             ],
             [
              0.3333333333333333,
              "#9c179e"
             ],
             [
              0.4444444444444444,
              "#bd3786"
             ],
             [
              0.5555555555555556,
              "#d8576b"
             ],
             [
              0.6666666666666666,
              "#ed7953"
             ],
             [
              0.7777777777777778,
              "#fb9f3a"
             ],
             [
              0.8888888888888888,
              "#fdca26"
             ],
             [
              1,
              "#f0f921"
             ]
            ],
            "type": "heatmap"
           }
          ],
          "heatmapgl": [
           {
            "colorbar": {
             "outlinewidth": 0,
             "ticks": ""
            },
            "colorscale": [
             [
              0,
              "#0d0887"
             ],
             [
              0.1111111111111111,
              "#46039f"
             ],
             [
              0.2222222222222222,
              "#7201a8"
             ],
             [
              0.3333333333333333,
              "#9c179e"
             ],
             [
              0.4444444444444444,
              "#bd3786"
             ],
             [
              0.5555555555555556,
              "#d8576b"
             ],
             [
              0.6666666666666666,
              "#ed7953"
             ],
             [
              0.7777777777777778,
              "#fb9f3a"
             ],
             [
              0.8888888888888888,
              "#fdca26"
             ],
             [
              1,
              "#f0f921"
             ]
            ],
            "type": "heatmapgl"
           }
          ],
          "histogram": [
           {
            "marker": {
             "pattern": {
              "fillmode": "overlay",
              "size": 10,
              "solidity": 0.2
             }
            },
            "type": "histogram"
           }
          ],
          "histogram2d": [
           {
            "colorbar": {
             "outlinewidth": 0,
             "ticks": ""
            },
            "colorscale": [
             [
              0,
              "#0d0887"
             ],
             [
              0.1111111111111111,
              "#46039f"
             ],
             [
              0.2222222222222222,
              "#7201a8"
             ],
             [
              0.3333333333333333,
              "#9c179e"
             ],
             [
              0.4444444444444444,
              "#bd3786"
             ],
             [
              0.5555555555555556,
              "#d8576b"
             ],
             [
              0.6666666666666666,
              "#ed7953"
             ],
             [
              0.7777777777777778,
              "#fb9f3a"
             ],
             [
              0.8888888888888888,
              "#fdca26"
             ],
             [
              1,
              "#f0f921"
             ]
            ],
            "type": "histogram2d"
           }
          ],
          "histogram2dcontour": [
           {
            "colorbar": {
             "outlinewidth": 0,
             "ticks": ""
            },
            "colorscale": [
             [
              0,
              "#0d0887"
             ],
             [
              0.1111111111111111,
              "#46039f"
             ],
             [
              0.2222222222222222,
              "#7201a8"
             ],
             [
              0.3333333333333333,
              "#9c179e"
             ],
             [
              0.4444444444444444,
              "#bd3786"
             ],
             [
              0.5555555555555556,
              "#d8576b"
             ],
             [
              0.6666666666666666,
              "#ed7953"
             ],
             [
              0.7777777777777778,
              "#fb9f3a"
             ],
             [
              0.8888888888888888,
              "#fdca26"
             ],
             [
              1,
              "#f0f921"
             ]
            ],
            "type": "histogram2dcontour"
           }
          ],
          "mesh3d": [
           {
            "colorbar": {
             "outlinewidth": 0,
             "ticks": ""
            },
            "type": "mesh3d"
           }
          ],
          "parcoords": [
           {
            "line": {
             "colorbar": {
              "outlinewidth": 0,
              "ticks": ""
             }
            },
            "type": "parcoords"
           }
          ],
          "pie": [
           {
            "automargin": true,
            "type": "pie"
           }
          ],
          "scatter": [
           {
            "fillpattern": {
             "fillmode": "overlay",
             "size": 10,
             "solidity": 0.2
            },
            "type": "scatter"
           }
          ],
          "scatter3d": [
           {
            "line": {
             "colorbar": {
              "outlinewidth": 0,
              "ticks": ""
             }
            },
            "marker": {
             "colorbar": {
              "outlinewidth": 0,
              "ticks": ""
             }
            },
            "type": "scatter3d"
           }
          ],
          "scattercarpet": [
           {
            "marker": {
             "colorbar": {
              "outlinewidth": 0,
              "ticks": ""
             }
            },
            "type": "scattercarpet"
           }
          ],
          "scattergeo": [
           {
            "marker": {
             "colorbar": {
              "outlinewidth": 0,
              "ticks": ""
             }
            },
            "type": "scattergeo"
           }
          ],
          "scattergl": [
           {
            "marker": {
             "colorbar": {
              "outlinewidth": 0,
              "ticks": ""
             }
            },
            "type": "scattergl"
           }
          ],
          "scattermapbox": [
           {
            "marker": {
             "colorbar": {
              "outlinewidth": 0,
              "ticks": ""
             }
            },
            "type": "scattermapbox"
           }
          ],
          "scatterpolar": [
           {
            "marker": {
             "colorbar": {
              "outlinewidth": 0,
              "ticks": ""
             }
            },
            "type": "scatterpolar"
           }
          ],
          "scatterpolargl": [
           {
            "marker": {
             "colorbar": {
              "outlinewidth": 0,
              "ticks": ""
             }
            },
            "type": "scatterpolargl"
           }
          ],
          "scatterternary": [
           {
            "marker": {
             "colorbar": {
              "outlinewidth": 0,
              "ticks": ""
             }
            },
            "type": "scatterternary"
           }
          ],
          "surface": [
           {
            "colorbar": {
             "outlinewidth": 0,
             "ticks": ""
            },
            "colorscale": [
             [
              0,
              "#0d0887"
             ],
             [
              0.1111111111111111,
              "#46039f"
             ],
             [
              0.2222222222222222,
              "#7201a8"
             ],
             [
              0.3333333333333333,
              "#9c179e"
             ],
             [
              0.4444444444444444,
              "#bd3786"
             ],
             [
              0.5555555555555556,
              "#d8576b"
             ],
             [
              0.6666666666666666,
              "#ed7953"
             ],
             [
              0.7777777777777778,
              "#fb9f3a"
             ],
             [
              0.8888888888888888,
              "#fdca26"
             ],
             [
              1,
              "#f0f921"
             ]
            ],
            "type": "surface"
           }
          ],
          "table": [
           {
            "cells": {
             "fill": {
              "color": "#EBF0F8"
             },
             "line": {
              "color": "white"
             }
            },
            "header": {
             "fill": {
              "color": "#C8D4E3"
             },
             "line": {
              "color": "white"
             }
            },
            "type": "table"
           }
          ]
         },
         "layout": {
          "annotationdefaults": {
           "arrowcolor": "#2a3f5f",
           "arrowhead": 0,
           "arrowwidth": 1
          },
          "autotypenumbers": "strict",
          "coloraxis": {
           "colorbar": {
            "outlinewidth": 0,
            "ticks": ""
           }
          },
          "colorscale": {
           "diverging": [
            [
             0,
             "#8e0152"
            ],
            [
             0.1,
             "#c51b7d"
            ],
            [
             0.2,
             "#de77ae"
            ],
            [
             0.3,
             "#f1b6da"
            ],
            [
             0.4,
             "#fde0ef"
            ],
            [
             0.5,
             "#f7f7f7"
            ],
            [
             0.6,
             "#e6f5d0"
            ],
            [
             0.7,
             "#b8e186"
            ],
            [
             0.8,
             "#7fbc41"
            ],
            [
             0.9,
             "#4d9221"
            ],
            [
             1,
             "#276419"
            ]
           ],
           "sequential": [
            [
             0,
             "#0d0887"
            ],
            [
             0.1111111111111111,
             "#46039f"
            ],
            [
             0.2222222222222222,
             "#7201a8"
            ],
            [
             0.3333333333333333,
             "#9c179e"
            ],
            [
             0.4444444444444444,
             "#bd3786"
            ],
            [
             0.5555555555555556,
             "#d8576b"
            ],
            [
             0.6666666666666666,
             "#ed7953"
            ],
            [
             0.7777777777777778,
             "#fb9f3a"
            ],
            [
             0.8888888888888888,
             "#fdca26"
            ],
            [
             1,
             "#f0f921"
            ]
           ],
           "sequentialminus": [
            [
             0,
             "#0d0887"
            ],
            [
             0.1111111111111111,
             "#46039f"
            ],
            [
             0.2222222222222222,
             "#7201a8"
            ],
            [
             0.3333333333333333,
             "#9c179e"
            ],
            [
             0.4444444444444444,
             "#bd3786"
            ],
            [
             0.5555555555555556,
             "#d8576b"
            ],
            [
             0.6666666666666666,
             "#ed7953"
            ],
            [
             0.7777777777777778,
             "#fb9f3a"
            ],
            [
             0.8888888888888888,
             "#fdca26"
            ],
            [
             1,
             "#f0f921"
            ]
           ]
          },
          "colorway": [
           "#636efa",
           "#EF553B",
           "#00cc96",
           "#ab63fa",
           "#FFA15A",
           "#19d3f3",
           "#FF6692",
           "#B6E880",
           "#FF97FF",
           "#FECB52"
          ],
          "font": {
           "color": "#2a3f5f"
          },
          "geo": {
           "bgcolor": "white",
           "lakecolor": "white",
           "landcolor": "#E5ECF6",
           "showlakes": true,
           "showland": true,
           "subunitcolor": "white"
          },
          "hoverlabel": {
           "align": "left"
          },
          "hovermode": "closest",
          "mapbox": {
           "style": "light"
          },
          "paper_bgcolor": "white",
          "plot_bgcolor": "#E5ECF6",
          "polar": {
           "angularaxis": {
            "gridcolor": "white",
            "linecolor": "white",
            "ticks": ""
           },
           "bgcolor": "#E5ECF6",
           "radialaxis": {
            "gridcolor": "white",
            "linecolor": "white",
            "ticks": ""
           }
          },
          "scene": {
           "xaxis": {
            "backgroundcolor": "#E5ECF6",
            "gridcolor": "white",
            "gridwidth": 2,
            "linecolor": "white",
            "showbackground": true,
            "ticks": "",
            "zerolinecolor": "white"
           },
           "yaxis": {
            "backgroundcolor": "#E5ECF6",
            "gridcolor": "white",
            "gridwidth": 2,
            "linecolor": "white",
            "showbackground": true,
            "ticks": "",
            "zerolinecolor": "white"
           },
           "zaxis": {
            "backgroundcolor": "#E5ECF6",
            "gridcolor": "white",
            "gridwidth": 2,
            "linecolor": "white",
            "showbackground": true,
            "ticks": "",
            "zerolinecolor": "white"
           }
          },
          "shapedefaults": {
           "line": {
            "color": "#2a3f5f"
           }
          },
          "ternary": {
           "aaxis": {
            "gridcolor": "white",
            "linecolor": "white",
            "ticks": ""
           },
           "baxis": {
            "gridcolor": "white",
            "linecolor": "white",
            "ticks": ""
           },
           "bgcolor": "#E5ECF6",
           "caxis": {
            "gridcolor": "white",
            "linecolor": "white",
            "ticks": ""
           }
          },
          "title": {
           "x": 0.05
          },
          "xaxis": {
           "automargin": true,
           "gridcolor": "white",
           "linecolor": "white",
           "ticks": "",
           "title": {
            "standoff": 15
           },
           "zerolinecolor": "white",
           "zerolinewidth": 2
          },
          "yaxis": {
           "automargin": true,
           "gridcolor": "white",
           "linecolor": "white",
           "ticks": "",
           "title": {
            "standoff": 15
           },
           "zerolinecolor": "white",
           "zerolinewidth": 2
          }
         }
        },
        "title": {
         "text": "Top 10 Negara Dengan Konten Netflix",
         "x": 0.5
        },
        "xaxis": {
         "anchor": "y",
         "domain": [
          0,
          1
         ],
         "title": {
          "text": "Negara"
         }
        },
        "yaxis": {
         "anchor": "x",
         "domain": [
          0,
          1
         ],
         "title": {
          "text": "Jumlah"
         }
        }
       }
      }
     },
     "metadata": {},
     "output_type": "display_data"
    }
   ],
   "source": [
    "dfCountry = df.groupby('principal_country').count().nlargest(10,'country').reset_index()\n",
    "\n",
    "fig = px.bar(dfCountry,y='country',x='principal_country',text_auto='.2s',color_continuous_scale='Inferno')\n",
    "fig.update_traces(textfont_size=12, textangle=0, textposition=\"outside\", cliponaxis=False,marker_color='#F76E11')\n",
    "fig.update_layout(title_text='Top 10 Negara Dengan Konten Netflix',title_x = 0.5,yaxis_title=\"Jumlah\",xaxis_title=\"Negara\",font = {'size':14})\n",
    "fig.show()"
   ]
  },
  {
   "cell_type": "code",
   "execution_count": 21,
   "metadata": {},
   "outputs": [
    {
     "data": {
      "application/vnd.plotly.v1+json": {
       "config": {
        "plotlyServerURL": "https://plot.ly"
       },
       "data": [
        {
         "marker": {
          "color": "Maroon"
         },
         "text": [
          3680,
          1046,
          803,
          445,
          393,
          316,
          232,
          231,
          226,
          169
         ],
         "textposition": "auto",
         "type": "bar",
         "x": [
          "United States",
          "India",
          "United Kingdom",
          "Canada",
          "France",
          "Japan",
          "Spain",
          "South Korea",
          "Germany",
          "Mexico"
         ],
         "y": [
          3680,
          1046,
          803,
          445,
          393,
          316,
          232,
          231,
          226,
          169
         ]
        }
       ],
       "layout": {
        "template": {
         "data": {
          "bar": [
           {
            "error_x": {
             "color": "#2a3f5f"
            },
            "error_y": {
             "color": "#2a3f5f"
            },
            "marker": {
             "line": {
              "color": "#E5ECF6",
              "width": 0.5
             },
             "pattern": {
              "fillmode": "overlay",
              "size": 10,
              "solidity": 0.2
             }
            },
            "type": "bar"
           }
          ],
          "barpolar": [
           {
            "marker": {
             "line": {
              "color": "#E5ECF6",
              "width": 0.5
             },
             "pattern": {
              "fillmode": "overlay",
              "size": 10,
              "solidity": 0.2
             }
            },
            "type": "barpolar"
           }
          ],
          "carpet": [
           {
            "aaxis": {
             "endlinecolor": "#2a3f5f",
             "gridcolor": "white",
             "linecolor": "white",
             "minorgridcolor": "white",
             "startlinecolor": "#2a3f5f"
            },
            "baxis": {
             "endlinecolor": "#2a3f5f",
             "gridcolor": "white",
             "linecolor": "white",
             "minorgridcolor": "white",
             "startlinecolor": "#2a3f5f"
            },
            "type": "carpet"
           }
          ],
          "choropleth": [
           {
            "colorbar": {
             "outlinewidth": 0,
             "ticks": ""
            },
            "type": "choropleth"
           }
          ],
          "contour": [
           {
            "colorbar": {
             "outlinewidth": 0,
             "ticks": ""
            },
            "colorscale": [
             [
              0,
              "#0d0887"
             ],
             [
              0.1111111111111111,
              "#46039f"
             ],
             [
              0.2222222222222222,
              "#7201a8"
             ],
             [
              0.3333333333333333,
              "#9c179e"
             ],
             [
              0.4444444444444444,
              "#bd3786"
             ],
             [
              0.5555555555555556,
              "#d8576b"
             ],
             [
              0.6666666666666666,
              "#ed7953"
             ],
             [
              0.7777777777777778,
              "#fb9f3a"
             ],
             [
              0.8888888888888888,
              "#fdca26"
             ],
             [
              1,
              "#f0f921"
             ]
            ],
            "type": "contour"
           }
          ],
          "contourcarpet": [
           {
            "colorbar": {
             "outlinewidth": 0,
             "ticks": ""
            },
            "type": "contourcarpet"
           }
          ],
          "heatmap": [
           {
            "colorbar": {
             "outlinewidth": 0,
             "ticks": ""
            },
            "colorscale": [
             [
              0,
              "#0d0887"
             ],
             [
              0.1111111111111111,
              "#46039f"
             ],
             [
              0.2222222222222222,
              "#7201a8"
             ],
             [
              0.3333333333333333,
              "#9c179e"
             ],
             [
              0.4444444444444444,
              "#bd3786"
             ],
             [
              0.5555555555555556,
              "#d8576b"
             ],
             [
              0.6666666666666666,
              "#ed7953"
             ],
             [
              0.7777777777777778,
              "#fb9f3a"
             ],
             [
              0.8888888888888888,
              "#fdca26"
             ],
             [
              1,
              "#f0f921"
             ]
            ],
            "type": "heatmap"
           }
          ],
          "heatmapgl": [
           {
            "colorbar": {
             "outlinewidth": 0,
             "ticks": ""
            },
            "colorscale": [
             [
              0,
              "#0d0887"
             ],
             [
              0.1111111111111111,
              "#46039f"
             ],
             [
              0.2222222222222222,
              "#7201a8"
             ],
             [
              0.3333333333333333,
              "#9c179e"
             ],
             [
              0.4444444444444444,
              "#bd3786"
             ],
             [
              0.5555555555555556,
              "#d8576b"
             ],
             [
              0.6666666666666666,
              "#ed7953"
             ],
             [
              0.7777777777777778,
              "#fb9f3a"
             ],
             [
              0.8888888888888888,
              "#fdca26"
             ],
             [
              1,
              "#f0f921"
             ]
            ],
            "type": "heatmapgl"
           }
          ],
          "histogram": [
           {
            "marker": {
             "pattern": {
              "fillmode": "overlay",
              "size": 10,
              "solidity": 0.2
             }
            },
            "type": "histogram"
           }
          ],
          "histogram2d": [
           {
            "colorbar": {
             "outlinewidth": 0,
             "ticks": ""
            },
            "colorscale": [
             [
              0,
              "#0d0887"
             ],
             [
              0.1111111111111111,
              "#46039f"
             ],
             [
              0.2222222222222222,
              "#7201a8"
             ],
             [
              0.3333333333333333,
              "#9c179e"
             ],
             [
              0.4444444444444444,
              "#bd3786"
             ],
             [
              0.5555555555555556,
              "#d8576b"
             ],
             [
              0.6666666666666666,
              "#ed7953"
             ],
             [
              0.7777777777777778,
              "#fb9f3a"
             ],
             [
              0.8888888888888888,
              "#fdca26"
             ],
             [
              1,
              "#f0f921"
             ]
            ],
            "type": "histogram2d"
           }
          ],
          "histogram2dcontour": [
           {
            "colorbar": {
             "outlinewidth": 0,
             "ticks": ""
            },
            "colorscale": [
             [
              0,
              "#0d0887"
             ],
             [
              0.1111111111111111,
              "#46039f"
             ],
             [
              0.2222222222222222,
              "#7201a8"
             ],
             [
              0.3333333333333333,
              "#9c179e"
             ],
             [
              0.4444444444444444,
              "#bd3786"
             ],
             [
              0.5555555555555556,
              "#d8576b"
             ],
             [
              0.6666666666666666,
              "#ed7953"
             ],
             [
              0.7777777777777778,
              "#fb9f3a"
             ],
             [
              0.8888888888888888,
              "#fdca26"
             ],
             [
              1,
              "#f0f921"
             ]
            ],
            "type": "histogram2dcontour"
           }
          ],
          "mesh3d": [
           {
            "colorbar": {
             "outlinewidth": 0,
             "ticks": ""
            },
            "type": "mesh3d"
           }
          ],
          "parcoords": [
           {
            "line": {
             "colorbar": {
              "outlinewidth": 0,
              "ticks": ""
             }
            },
            "type": "parcoords"
           }
          ],
          "pie": [
           {
            "automargin": true,
            "type": "pie"
           }
          ],
          "scatter": [
           {
            "fillpattern": {
             "fillmode": "overlay",
             "size": 10,
             "solidity": 0.2
            },
            "type": "scatter"
           }
          ],
          "scatter3d": [
           {
            "line": {
             "colorbar": {
              "outlinewidth": 0,
              "ticks": ""
             }
            },
            "marker": {
             "colorbar": {
              "outlinewidth": 0,
              "ticks": ""
             }
            },
            "type": "scatter3d"
           }
          ],
          "scattercarpet": [
           {
            "marker": {
             "colorbar": {
              "outlinewidth": 0,
              "ticks": ""
             }
            },
            "type": "scattercarpet"
           }
          ],
          "scattergeo": [
           {
            "marker": {
             "colorbar": {
              "outlinewidth": 0,
              "ticks": ""
             }
            },
            "type": "scattergeo"
           }
          ],
          "scattergl": [
           {
            "marker": {
             "colorbar": {
              "outlinewidth": 0,
              "ticks": ""
             }
            },
            "type": "scattergl"
           }
          ],
          "scattermapbox": [
           {
            "marker": {
             "colorbar": {
              "outlinewidth": 0,
              "ticks": ""
             }
            },
            "type": "scattermapbox"
           }
          ],
          "scatterpolar": [
           {
            "marker": {
             "colorbar": {
              "outlinewidth": 0,
              "ticks": ""
             }
            },
            "type": "scatterpolar"
           }
          ],
          "scatterpolargl": [
           {
            "marker": {
             "colorbar": {
              "outlinewidth": 0,
              "ticks": ""
             }
            },
            "type": "scatterpolargl"
           }
          ],
          "scatterternary": [
           {
            "marker": {
             "colorbar": {
              "outlinewidth": 0,
              "ticks": ""
             }
            },
            "type": "scatterternary"
           }
          ],
          "surface": [
           {
            "colorbar": {
             "outlinewidth": 0,
             "ticks": ""
            },
            "colorscale": [
             [
              0,
              "#0d0887"
             ],
             [
              0.1111111111111111,
              "#46039f"
             ],
             [
              0.2222222222222222,
              "#7201a8"
             ],
             [
              0.3333333333333333,
              "#9c179e"
             ],
             [
              0.4444444444444444,
              "#bd3786"
             ],
             [
              0.5555555555555556,
              "#d8576b"
             ],
             [
              0.6666666666666666,
              "#ed7953"
             ],
             [
              0.7777777777777778,
              "#fb9f3a"
             ],
             [
              0.8888888888888888,
              "#fdca26"
             ],
             [
              1,
              "#f0f921"
             ]
            ],
            "type": "surface"
           }
          ],
          "table": [
           {
            "cells": {
             "fill": {
              "color": "#EBF0F8"
             },
             "line": {
              "color": "white"
             }
            },
            "header": {
             "fill": {
              "color": "#C8D4E3"
             },
             "line": {
              "color": "white"
             }
            },
            "type": "table"
           }
          ]
         },
         "layout": {
          "annotationdefaults": {
           "arrowcolor": "#2a3f5f",
           "arrowhead": 0,
           "arrowwidth": 1
          },
          "autotypenumbers": "strict",
          "coloraxis": {
           "colorbar": {
            "outlinewidth": 0,
            "ticks": ""
           }
          },
          "colorscale": {
           "diverging": [
            [
             0,
             "#8e0152"
            ],
            [
             0.1,
             "#c51b7d"
            ],
            [
             0.2,
             "#de77ae"
            ],
            [
             0.3,
             "#f1b6da"
            ],
            [
             0.4,
             "#fde0ef"
            ],
            [
             0.5,
             "#f7f7f7"
            ],
            [
             0.6,
             "#e6f5d0"
            ],
            [
             0.7,
             "#b8e186"
            ],
            [
             0.8,
             "#7fbc41"
            ],
            [
             0.9,
             "#4d9221"
            ],
            [
             1,
             "#276419"
            ]
           ],
           "sequential": [
            [
             0,
             "#0d0887"
            ],
            [
             0.1111111111111111,
             "#46039f"
            ],
            [
             0.2222222222222222,
             "#7201a8"
            ],
            [
             0.3333333333333333,
             "#9c179e"
            ],
            [
             0.4444444444444444,
             "#bd3786"
            ],
            [
             0.5555555555555556,
             "#d8576b"
            ],
            [
             0.6666666666666666,
             "#ed7953"
            ],
            [
             0.7777777777777778,
             "#fb9f3a"
            ],
            [
             0.8888888888888888,
             "#fdca26"
            ],
            [
             1,
             "#f0f921"
            ]
           ],
           "sequentialminus": [
            [
             0,
             "#0d0887"
            ],
            [
             0.1111111111111111,
             "#46039f"
            ],
            [
             0.2222222222222222,
             "#7201a8"
            ],
            [
             0.3333333333333333,
             "#9c179e"
            ],
            [
             0.4444444444444444,
             "#bd3786"
            ],
            [
             0.5555555555555556,
             "#d8576b"
            ],
            [
             0.6666666666666666,
             "#ed7953"
            ],
            [
             0.7777777777777778,
             "#fb9f3a"
            ],
            [
             0.8888888888888888,
             "#fdca26"
            ],
            [
             1,
             "#f0f921"
            ]
           ]
          },
          "colorway": [
           "#636efa",
           "#EF553B",
           "#00cc96",
           "#ab63fa",
           "#FFA15A",
           "#19d3f3",
           "#FF6692",
           "#B6E880",
           "#FF97FF",
           "#FECB52"
          ],
          "font": {
           "color": "#2a3f5f"
          },
          "geo": {
           "bgcolor": "white",
           "lakecolor": "white",
           "landcolor": "#E5ECF6",
           "showlakes": true,
           "showland": true,
           "subunitcolor": "white"
          },
          "hoverlabel": {
           "align": "left"
          },
          "hovermode": "closest",
          "mapbox": {
           "style": "light"
          },
          "paper_bgcolor": "white",
          "plot_bgcolor": "#E5ECF6",
          "polar": {
           "angularaxis": {
            "gridcolor": "white",
            "linecolor": "white",
            "ticks": ""
           },
           "bgcolor": "#E5ECF6",
           "radialaxis": {
            "gridcolor": "white",
            "linecolor": "white",
            "ticks": ""
           }
          },
          "scene": {
           "xaxis": {
            "backgroundcolor": "#E5ECF6",
            "gridcolor": "white",
            "gridwidth": 2,
            "linecolor": "white",
            "showbackground": true,
            "ticks": "",
            "zerolinecolor": "white"
           },
           "yaxis": {
            "backgroundcolor": "#E5ECF6",
            "gridcolor": "white",
            "gridwidth": 2,
            "linecolor": "white",
            "showbackground": true,
            "ticks": "",
            "zerolinecolor": "white"
           },
           "zaxis": {
            "backgroundcolor": "#E5ECF6",
            "gridcolor": "white",
            "gridwidth": 2,
            "linecolor": "white",
            "showbackground": true,
            "ticks": "",
            "zerolinecolor": "white"
           }
          },
          "shapedefaults": {
           "line": {
            "color": "#2a3f5f"
           }
          },
          "ternary": {
           "aaxis": {
            "gridcolor": "white",
            "linecolor": "white",
            "ticks": ""
           },
           "baxis": {
            "gridcolor": "white",
            "linecolor": "white",
            "ticks": ""
           },
           "bgcolor": "#E5ECF6",
           "caxis": {
            "gridcolor": "white",
            "linecolor": "white",
            "ticks": ""
           }
          },
          "title": {
           "x": 0.05
          },
          "xaxis": {
           "automargin": true,
           "gridcolor": "white",
           "linecolor": "white",
           "ticks": "",
           "title": {
            "standoff": 15
           },
           "zerolinecolor": "white",
           "zerolinewidth": 2
          },
          "yaxis": {
           "automargin": true,
           "gridcolor": "white",
           "linecolor": "white",
           "ticks": "",
           "title": {
            "standoff": 15
           },
           "zerolinecolor": "white",
           "zerolinewidth": 2
          }
         }
        },
        "title": {
         "text": "Top 10 countries with Netflix Content"
        },
        "yaxis": {
         "title": {
          "text": "Movies/TV Shows Count"
         }
        }
       }
      }
     },
     "metadata": {},
     "output_type": "display_data"
    },
    {
     "data": {
      "application/vnd.plotly.v1+json": {
       "config": {
        "plotlyServerURL": "https://plot.ly"
       },
       "data": [
        {
         "marker": {
          "color": "#F76E11"
         },
         "name": "Movie",
         "showlegend": true,
         "text": [
          "74.7%",
          "92.0%",
          "66.3%",
          "71.7%",
          "77.1%",
          "37.7%",
          "73.7%",
          "26.4%",
          "80.5%",
          "65.7%"
         ],
         "textposition": "auto",
         "type": "bar",
         "x": [
          "United States",
          "India",
          "United Kingdom",
          "Canada",
          "France",
          "Japan",
          "Spain",
          "South Korea",
          "Germany",
          "Mexico"
         ],
         "y": [
          74.7,
          92,
          66.3,
          71.7,
          77.1,
          37.7,
          73.7,
          26.4,
          80.5,
          65.7
         ]
        },
        {
         "marker": {
          "color": "#FFBC80"
         },
         "name": "TV Show",
         "showlegend": true,
         "text": [
          "25.3%",
          "8.0%",
          "33.7%",
          "28.3%",
          "22.9%",
          "62.3%",
          "26.3%",
          "73.6%",
          "19.5%",
          "34.3%"
         ],
         "textposition": "auto",
         "type": "bar",
         "x": [
          "United States",
          "India",
          "United Kingdom",
          "Canada",
          "France",
          "Japan",
          "Spain",
          "South Korea",
          "Germany",
          "Mexico"
         ],
         "y": [
          25.3,
          8,
          33.7,
          28.3,
          22.9,
          62.3,
          26.3,
          73.6,
          19.5,
          34.3
         ]
        }
       ],
       "layout": {
        "barmode": "stack",
        "template": {
         "data": {
          "bar": [
           {
            "error_x": {
             "color": "#2a3f5f"
            },
            "error_y": {
             "color": "#2a3f5f"
            },
            "marker": {
             "line": {
              "color": "#E5ECF6",
              "width": 0.5
             },
             "pattern": {
              "fillmode": "overlay",
              "size": 10,
              "solidity": 0.2
             }
            },
            "type": "bar"
           }
          ],
          "barpolar": [
           {
            "marker": {
             "line": {
              "color": "#E5ECF6",
              "width": 0.5
             },
             "pattern": {
              "fillmode": "overlay",
              "size": 10,
              "solidity": 0.2
             }
            },
            "type": "barpolar"
           }
          ],
          "carpet": [
           {
            "aaxis": {
             "endlinecolor": "#2a3f5f",
             "gridcolor": "white",
             "linecolor": "white",
             "minorgridcolor": "white",
             "startlinecolor": "#2a3f5f"
            },
            "baxis": {
             "endlinecolor": "#2a3f5f",
             "gridcolor": "white",
             "linecolor": "white",
             "minorgridcolor": "white",
             "startlinecolor": "#2a3f5f"
            },
            "type": "carpet"
           }
          ],
          "choropleth": [
           {
            "colorbar": {
             "outlinewidth": 0,
             "ticks": ""
            },
            "type": "choropleth"
           }
          ],
          "contour": [
           {
            "colorbar": {
             "outlinewidth": 0,
             "ticks": ""
            },
            "colorscale": [
             [
              0,
              "#0d0887"
             ],
             [
              0.1111111111111111,
              "#46039f"
             ],
             [
              0.2222222222222222,
              "#7201a8"
             ],
             [
              0.3333333333333333,
              "#9c179e"
             ],
             [
              0.4444444444444444,
              "#bd3786"
             ],
             [
              0.5555555555555556,
              "#d8576b"
             ],
             [
              0.6666666666666666,
              "#ed7953"
             ],
             [
              0.7777777777777778,
              "#fb9f3a"
             ],
             [
              0.8888888888888888,
              "#fdca26"
             ],
             [
              1,
              "#f0f921"
             ]
            ],
            "type": "contour"
           }
          ],
          "contourcarpet": [
           {
            "colorbar": {
             "outlinewidth": 0,
             "ticks": ""
            },
            "type": "contourcarpet"
           }
          ],
          "heatmap": [
           {
            "colorbar": {
             "outlinewidth": 0,
             "ticks": ""
            },
            "colorscale": [
             [
              0,
              "#0d0887"
             ],
             [
              0.1111111111111111,
              "#46039f"
             ],
             [
              0.2222222222222222,
              "#7201a8"
             ],
             [
              0.3333333333333333,
              "#9c179e"
             ],
             [
              0.4444444444444444,
              "#bd3786"
             ],
             [
              0.5555555555555556,
              "#d8576b"
             ],
             [
              0.6666666666666666,
              "#ed7953"
             ],
             [
              0.7777777777777778,
              "#fb9f3a"
             ],
             [
              0.8888888888888888,
              "#fdca26"
             ],
             [
              1,
              "#f0f921"
             ]
            ],
            "type": "heatmap"
           }
          ],
          "heatmapgl": [
           {
            "colorbar": {
             "outlinewidth": 0,
             "ticks": ""
            },
            "colorscale": [
             [
              0,
              "#0d0887"
             ],
             [
              0.1111111111111111,
              "#46039f"
             ],
             [
              0.2222222222222222,
              "#7201a8"
             ],
             [
              0.3333333333333333,
              "#9c179e"
             ],
             [
              0.4444444444444444,
              "#bd3786"
             ],
             [
              0.5555555555555556,
              "#d8576b"
             ],
             [
              0.6666666666666666,
              "#ed7953"
             ],
             [
              0.7777777777777778,
              "#fb9f3a"
             ],
             [
              0.8888888888888888,
              "#fdca26"
             ],
             [
              1,
              "#f0f921"
             ]
            ],
            "type": "heatmapgl"
           }
          ],
          "histogram": [
           {
            "marker": {
             "pattern": {
              "fillmode": "overlay",
              "size": 10,
              "solidity": 0.2
             }
            },
            "type": "histogram"
           }
          ],
          "histogram2d": [
           {
            "colorbar": {
             "outlinewidth": 0,
             "ticks": ""
            },
            "colorscale": [
             [
              0,
              "#0d0887"
             ],
             [
              0.1111111111111111,
              "#46039f"
             ],
             [
              0.2222222222222222,
              "#7201a8"
             ],
             [
              0.3333333333333333,
              "#9c179e"
             ],
             [
              0.4444444444444444,
              "#bd3786"
             ],
             [
              0.5555555555555556,
              "#d8576b"
             ],
             [
              0.6666666666666666,
              "#ed7953"
             ],
             [
              0.7777777777777778,
              "#fb9f3a"
             ],
             [
              0.8888888888888888,
              "#fdca26"
             ],
             [
              1,
              "#f0f921"
             ]
            ],
            "type": "histogram2d"
           }
          ],
          "histogram2dcontour": [
           {
            "colorbar": {
             "outlinewidth": 0,
             "ticks": ""
            },
            "colorscale": [
             [
              0,
              "#0d0887"
             ],
             [
              0.1111111111111111,
              "#46039f"
             ],
             [
              0.2222222222222222,
              "#7201a8"
             ],
             [
              0.3333333333333333,
              "#9c179e"
             ],
             [
              0.4444444444444444,
              "#bd3786"
             ],
             [
              0.5555555555555556,
              "#d8576b"
             ],
             [
              0.6666666666666666,
              "#ed7953"
             ],
             [
              0.7777777777777778,
              "#fb9f3a"
             ],
             [
              0.8888888888888888,
              "#fdca26"
             ],
             [
              1,
              "#f0f921"
             ]
            ],
            "type": "histogram2dcontour"
           }
          ],
          "mesh3d": [
           {
            "colorbar": {
             "outlinewidth": 0,
             "ticks": ""
            },
            "type": "mesh3d"
           }
          ],
          "parcoords": [
           {
            "line": {
             "colorbar": {
              "outlinewidth": 0,
              "ticks": ""
             }
            },
            "type": "parcoords"
           }
          ],
          "pie": [
           {
            "automargin": true,
            "type": "pie"
           }
          ],
          "scatter": [
           {
            "fillpattern": {
             "fillmode": "overlay",
             "size": 10,
             "solidity": 0.2
            },
            "type": "scatter"
           }
          ],
          "scatter3d": [
           {
            "line": {
             "colorbar": {
              "outlinewidth": 0,
              "ticks": ""
             }
            },
            "marker": {
             "colorbar": {
              "outlinewidth": 0,
              "ticks": ""
             }
            },
            "type": "scatter3d"
           }
          ],
          "scattercarpet": [
           {
            "marker": {
             "colorbar": {
              "outlinewidth": 0,
              "ticks": ""
             }
            },
            "type": "scattercarpet"
           }
          ],
          "scattergeo": [
           {
            "marker": {
             "colorbar": {
              "outlinewidth": 0,
              "ticks": ""
             }
            },
            "type": "scattergeo"
           }
          ],
          "scattergl": [
           {
            "marker": {
             "colorbar": {
              "outlinewidth": 0,
              "ticks": ""
             }
            },
            "type": "scattergl"
           }
          ],
          "scattermapbox": [
           {
            "marker": {
             "colorbar": {
              "outlinewidth": 0,
              "ticks": ""
             }
            },
            "type": "scattermapbox"
           }
          ],
          "scatterpolar": [
           {
            "marker": {
             "colorbar": {
              "outlinewidth": 0,
              "ticks": ""
             }
            },
            "type": "scatterpolar"
           }
          ],
          "scatterpolargl": [
           {
            "marker": {
             "colorbar": {
              "outlinewidth": 0,
              "ticks": ""
             }
            },
            "type": "scatterpolargl"
           }
          ],
          "scatterternary": [
           {
            "marker": {
             "colorbar": {
              "outlinewidth": 0,
              "ticks": ""
             }
            },
            "type": "scatterternary"
           }
          ],
          "surface": [
           {
            "colorbar": {
             "outlinewidth": 0,
             "ticks": ""
            },
            "colorscale": [
             [
              0,
              "#0d0887"
             ],
             [
              0.1111111111111111,
              "#46039f"
             ],
             [
              0.2222222222222222,
              "#7201a8"
             ],
             [
              0.3333333333333333,
              "#9c179e"
             ],
             [
              0.4444444444444444,
              "#bd3786"
             ],
             [
              0.5555555555555556,
              "#d8576b"
             ],
             [
              0.6666666666666666,
              "#ed7953"
             ],
             [
              0.7777777777777778,
              "#fb9f3a"
             ],
             [
              0.8888888888888888,
              "#fdca26"
             ],
             [
              1,
              "#f0f921"
             ]
            ],
            "type": "surface"
           }
          ],
          "table": [
           {
            "cells": {
             "fill": {
              "color": "#EBF0F8"
             },
             "line": {
              "color": "white"
             }
            },
            "header": {
             "fill": {
              "color": "#C8D4E3"
             },
             "line": {
              "color": "white"
             }
            },
            "type": "table"
           }
          ]
         },
         "layout": {
          "annotationdefaults": {
           "arrowcolor": "#2a3f5f",
           "arrowhead": 0,
           "arrowwidth": 1
          },
          "autotypenumbers": "strict",
          "coloraxis": {
           "colorbar": {
            "outlinewidth": 0,
            "ticks": ""
           }
          },
          "colorscale": {
           "diverging": [
            [
             0,
             "#8e0152"
            ],
            [
             0.1,
             "#c51b7d"
            ],
            [
             0.2,
             "#de77ae"
            ],
            [
             0.3,
             "#f1b6da"
            ],
            [
             0.4,
             "#fde0ef"
            ],
            [
             0.5,
             "#f7f7f7"
            ],
            [
             0.6,
             "#e6f5d0"
            ],
            [
             0.7,
             "#b8e186"
            ],
            [
             0.8,
             "#7fbc41"
            ],
            [
             0.9,
             "#4d9221"
            ],
            [
             1,
             "#276419"
            ]
           ],
           "sequential": [
            [
             0,
             "#0d0887"
            ],
            [
             0.1111111111111111,
             "#46039f"
            ],
            [
             0.2222222222222222,
             "#7201a8"
            ],
            [
             0.3333333333333333,
             "#9c179e"
            ],
            [
             0.4444444444444444,
             "#bd3786"
            ],
            [
             0.5555555555555556,
             "#d8576b"
            ],
            [
             0.6666666666666666,
             "#ed7953"
            ],
            [
             0.7777777777777778,
             "#fb9f3a"
            ],
            [
             0.8888888888888888,
             "#fdca26"
            ],
            [
             1,
             "#f0f921"
            ]
           ],
           "sequentialminus": [
            [
             0,
             "#0d0887"
            ],
            [
             0.1111111111111111,
             "#46039f"
            ],
            [
             0.2222222222222222,
             "#7201a8"
            ],
            [
             0.3333333333333333,
             "#9c179e"
            ],
            [
             0.4444444444444444,
             "#bd3786"
            ],
            [
             0.5555555555555556,
             "#d8576b"
            ],
            [
             0.6666666666666666,
             "#ed7953"
            ],
            [
             0.7777777777777778,
             "#fb9f3a"
            ],
            [
             0.8888888888888888,
             "#fdca26"
            ],
            [
             1,
             "#f0f921"
            ]
           ]
          },
          "colorway": [
           "#636efa",
           "#EF553B",
           "#00cc96",
           "#ab63fa",
           "#FFA15A",
           "#19d3f3",
           "#FF6692",
           "#B6E880",
           "#FF97FF",
           "#FECB52"
          ],
          "font": {
           "color": "#2a3f5f"
          },
          "geo": {
           "bgcolor": "white",
           "lakecolor": "white",
           "landcolor": "#E5ECF6",
           "showlakes": true,
           "showland": true,
           "subunitcolor": "white"
          },
          "hoverlabel": {
           "align": "left"
          },
          "hovermode": "closest",
          "mapbox": {
           "style": "light"
          },
          "paper_bgcolor": "white",
          "plot_bgcolor": "#E5ECF6",
          "polar": {
           "angularaxis": {
            "gridcolor": "white",
            "linecolor": "white",
            "ticks": ""
           },
           "bgcolor": "#E5ECF6",
           "radialaxis": {
            "gridcolor": "white",
            "linecolor": "white",
            "ticks": ""
           }
          },
          "scene": {
           "xaxis": {
            "backgroundcolor": "#E5ECF6",
            "gridcolor": "white",
            "gridwidth": 2,
            "linecolor": "white",
            "showbackground": true,
            "ticks": "",
            "zerolinecolor": "white"
           },
           "yaxis": {
            "backgroundcolor": "#E5ECF6",
            "gridcolor": "white",
            "gridwidth": 2,
            "linecolor": "white",
            "showbackground": true,
            "ticks": "",
            "zerolinecolor": "white"
           },
           "zaxis": {
            "backgroundcolor": "#E5ECF6",
            "gridcolor": "white",
            "gridwidth": 2,
            "linecolor": "white",
            "showbackground": true,
            "ticks": "",
            "zerolinecolor": "white"
           }
          },
          "shapedefaults": {
           "line": {
            "color": "#2a3f5f"
           }
          },
          "ternary": {
           "aaxis": {
            "gridcolor": "white",
            "linecolor": "white",
            "ticks": ""
           },
           "baxis": {
            "gridcolor": "white",
            "linecolor": "white",
            "ticks": ""
           },
           "bgcolor": "#E5ECF6",
           "caxis": {
            "gridcolor": "white",
            "linecolor": "white",
            "ticks": ""
           }
          },
          "title": {
           "x": 0.05
          },
          "xaxis": {
           "automargin": true,
           "gridcolor": "white",
           "linecolor": "white",
           "ticks": "",
           "title": {
            "standoff": 15
           },
           "zerolinecolor": "white",
           "zerolinewidth": 2
          },
          "yaxis": {
           "automargin": true,
           "gridcolor": "white",
           "linecolor": "white",
           "ticks": "",
           "title": {
            "standoff": 15
           },
           "zerolinecolor": "white",
           "zerolinewidth": 2
          }
         }
        },
        "title": {
         "text": "Top 10 Negara dengan Penayangan TV Show/Movie ",
         "x": 0.5
        },
        "xaxis": {
         "title": {
          "text": "Negara"
         }
        },
        "yaxis": {
         "title": {
          "text": "Jumlah (%)"
         }
        }
       }
      }
     },
     "metadata": {},
     "output_type": "display_data"
    }
   ],
   "source": [
    "df_country = df[['show_id', 'title','type', 'country' ]]\n",
    "df_country = (df_country.drop('country', axis=1)\n",
    "             .join\n",
    "             (\n",
    "             df_country.country\n",
    "             .str\n",
    "             .split(', ',expand=True)\n",
    "             .stack()\n",
    "             .reset_index(drop=True, level=1)\n",
    "             .rename('country')           \n",
    "             ))\n",
    "\n",
    "df_country_viz_total = df_country[[\"title\", \"country\"]]\n",
    "df_country_viz_total = df_country_viz_total.groupby(['country'])[\"title\"].count().reset_index().sort_values('title', ascending= False).head(10)\n",
    "df_country_viz_total = df_country_viz_total.rename(columns = {\"title\": \"movies_count\",})\n",
    "\n",
    " \n",
    "fig1 = px.bar(df_country_viz_total, x='country', y='movies_count', color_discrete_sequence=px.colors.sequential.RdBu,\n",
    "       title='Top 10 countries with Netflix Content ')\n",
    "\n",
    "\n",
    "df_country_viz = df_country[[\"title\", \"country\"]]\n",
    "df_country_viz = df_country_viz.groupby(['country'])[\"title\"].count().reset_index().sort_values('title', ascending= False).head(10)\n",
    "\n",
    "df_country_viz1 = df_country[[\"title\", \"type\", \"country\"]]\n",
    "df_country_viz1 = df_country_viz1.groupby(['country', 'type'])[\"title\"].count().reset_index().sort_values('title', ascending= False)\n",
    "df_country_viz1 = df_country_viz1.rename(columns = {\"title\": \"movies_count\",})\n",
    "\n",
    "final1 = df_country_viz.merge(df_country_viz1, how = 'left', left_on = 'country', right_on = 'country')\n",
    "final1['percentage'] = (final1['movies_count']/final1['title'])*100\n",
    "final1['percentage'] = final1['percentage'].round(1)\n",
    "final1['percent_string'] = final1['percentage'].astype(str)+ '%'\n",
    "\n",
    "\n",
    "fig2 = px.bar(final1, x='country', y='percentage', color = 'type',\n",
    "       title='Top 10 countries with Movie/TV show split ')\n",
    "\n",
    "fig = go.Figure()\n",
    "fig.add_trace(\n",
    "    \n",
    "go.Bar(x= df_country_viz_total['country'], y= df_country_viz_total['movies_count'], marker_color = 'Maroon',\n",
    "           text = df_country_viz_total['movies_count'], textposition='auto'))\n",
    "\n",
    "fig.update_layout(title_text = \"Top 10 countries with Netflix Content\"\n",
    "                  , yaxis=dict(title='Movies/TV Shows Count'))\n",
    "fig.show()\n",
    "\n",
    "final_movie = final1.query(\"type == 'Movie'\")\n",
    "final_show = final1.query(\"type == 'TV Show'\")\n",
    "\n",
    "fig = go.Figure()\n",
    "fig.add_trace(go.Bar(\n",
    "    x=  final_movie['country'],\n",
    "    y= final_movie['percentage'],\n",
    "    showlegend=True,\n",
    "    text = final_movie['percent_string'], \n",
    "    textposition='auto',\n",
    "    name='Movie',\n",
    "    marker_color='#F76E11'    \n",
    "    \n",
    "))\n",
    "fig.add_trace(go.Bar(\n",
    "    x= final_show['country'],\n",
    "    y= final_show['percentage'],\n",
    "    showlegend=True,\n",
    "    text = final_show['percent_string'], \n",
    "    textposition='auto',\n",
    "    name='TV Show',\n",
    "    marker_color='#FFBC80' \n",
    "))\n",
    "\n",
    "\n",
    "\n",
    "# Here we modify the tickangle of the xaxis, resulting in rotated labels.\n",
    "fig.update_layout(barmode='stack', title_text = 'Top 10 Negara dengan Penayangan TV Show/Movie '\n",
    "                  , yaxis=dict(title='Jumlah (%)'),xaxis=dict(title='Negara'),title_x = 0.5)\n",
    "fig.show()\n",
    "\n",
    "\n",
    "\n"
   ]
  },
  {
   "cell_type": "code",
   "execution_count": 30,
   "metadata": {},
   "outputs": [],
   "source": [
    "df.to_csv(\"Posttset3.csv\")"
   ]
  },
  {
   "cell_type": "code",
   "execution_count": null,
   "metadata": {},
   "outputs": [],
   "source": []
  }
 ],
 "metadata": {
  "kernelspec": {
   "display_name": "Python 3.10.7 64-bit",
   "language": "python",
   "name": "python3"
  },
  "language_info": {
   "codemirror_mode": {
    "name": "ipython",
    "version": 3
   },
   "file_extension": ".py",
   "mimetype": "text/x-python",
   "name": "python",
   "nbconvert_exporter": "python",
   "pygments_lexer": "ipython3",
   "version": "3.10.7"
  },
  "orig_nbformat": 4,
  "vscode": {
   "interpreter": {
    "hash": "27f6fea6f47ae512550f0b8facdbd035a93e1dd89633f7bf2dd00a2502c71d0d"
   }
  }
 },
 "nbformat": 4,
 "nbformat_minor": 2
}
