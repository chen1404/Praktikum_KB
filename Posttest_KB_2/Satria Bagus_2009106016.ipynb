{
  "cells": [
    {
      "cell_type": "markdown",
      "id": "65e0cb23",
      "metadata": {
        "id": "65e0cb23"
      },
      "source": [
        "## Satria Bagus Eka Candra\n",
        "## 2009106016\n",
        "## Informatika A 2020"
      ]
    },
    {
      "cell_type": "markdown",
      "id": "198d85c9",
      "metadata": {
        "id": "198d85c9"
      },
      "source": [
        "## Import"
      ]
    },
    {
      "cell_type": "code",
      "execution_count": 2,
      "id": "92f1c6d9",
      "metadata": {
        "id": "92f1c6d9"
      },
      "outputs": [],
      "source": [
        "import pandas as pd\n",
        "from tabulate import tabulate\n",
        "df = pd.read_csv(\"all_stocks_5yr.csv\")\n",
        "df = df.iloc[:2500]"
      ]
    },
    {
      "cell_type": "markdown",
      "source": [
        "## Informasi yang didapatkan adalah jumlah record, nama attribute, jumlah attribute dengan tipe objek, jumlah attribute dengan tipe\n",
        "## angka, jumlah attribute yang memiliki nilai null.\n"
      ],
      "metadata": {
        "id": "WXcB5KHZyauh"
      },
      "id": "WXcB5KHZyauh"
    },
    {
      "cell_type": "code",
      "execution_count": 8,
      "id": "402e8844",
      "metadata": {
        "colab": {
          "base_uri": "https://localhost:8080/"
        },
        "id": "402e8844",
        "outputId": "7446c8b7-8fd4-4191-87db-d7efa4582acb"
      },
      "outputs": [
        {
          "output_type": "stream",
          "name": "stdout",
          "text": [
            "2500\n",
            "['date', 'open', 'high', 'low', 'close', 'volume', 'Name']\n",
            "2\n",
            "5\n"
          ]
        },
        {
          "output_type": "execute_result",
          "data": {
            "text/plain": [
              "0"
            ]
          },
          "metadata": {},
          "execution_count": 8
        }
      ],
      "source": [
        "\n",
        "\n",
        "# Jmlah record\n",
        "Jumlah = len(df)\n",
        "print(Jumlah)\n",
        "\n",
        "# nama atribut\n",
        "nama = list(df.columns)\n",
        "print(nama)\n",
        "\n",
        "# jumlah atribut tipe objek\n",
        "jumlahObjek = len(df.dtypes[df.dtypes == 'object'])\n",
        "print(jumlahObjek)\n",
        "\n",
        "# jumlah atribut tipe angka\n",
        "jumlahInteger =len(df.dtypes[df.dtypes == 'int64'])\n",
        "jumlahFloat =len(df.dtypes[df.dtypes == 'float64'])\n",
        "jumlahAngka = jumlahInteger + jumlahFloat\n",
        "print(jumlahAngka)\n",
        "\n",
        "#jumlah atribut nilai null\n",
        "df.isna().any().sum()"
      ]
    },
    {
      "cell_type": "markdown",
      "source": [
        "## Masukkan informasi di atas dalam dictionary dengan key sesuai nama informasinya. Tampilkan isi dari dictionary tersebut sebagus mungkin.\n",
        "\n",
        "#Jumlah record"
      ],
      "metadata": {
        "id": "wLvN5-MFyuBf"
      },
      "id": "wLvN5-MFyuBf"
    },
    {
      "cell_type": "code",
      "execution_count": 9,
      "id": "14769ebb",
      "metadata": {
        "colab": {
          "base_uri": "https://localhost:8080/"
        },
        "id": "14769ebb",
        "outputId": "22bc5710-90b3-40b2-e214-f075787d0eb3"
      },
      "outputs": [
        {
          "output_type": "stream",
          "name": "stdout",
          "text": [
            "+-----------------+----------------+-----------------------------+-----------------------------+-----------------------------+\n",
            "|   Jumlah Record | Nama Atribut   |   Jumlah atribut tipe objek |   Jumlah atribut tipe angka |   Jumlah atribut nilai null |\n",
            "|-----------------+----------------+-----------------------------+-----------------------------+-----------------------------|\n",
            "|            2500 | date,          |                           2 |                           0 |                           0 |\n",
            "|                 | open,          |                             |                             |                             |\n",
            "|                 | high,          |                             |                             |                             |\n",
            "|                 | low,           |                             |                             |                             |\n",
            "|                 | close,         |                             |                             |                             |\n",
            "|                 | volume,        |                             |                             |                             |\n",
            "|                 | Name           |                             |                             |                             |\n",
            "+-----------------+----------------+-----------------------------+-----------------------------+-----------------------------+\n"
          ]
        }
      ],
      "source": [
        "## Masukkan informasi di atas dalam dictionary dengan key sesuai nama informasinya. Tampilkan isi dari dictionary tersebut sebagus mungkin.\n",
        "\n",
        "#Jumlah record\n",
        "Jumlah = len(df)\n",
        "\n",
        "#Nama Atribut\n",
        "nama = list(df.columns)\n",
        "nama = \",\\n\".join(nama)\n",
        "\n",
        "# jumlah atribut tipe objek\n",
        "jumlahObjek = len(df.dtypes[df.dtypes == 'object'])\n",
        "\n",
        "\n",
        "# jumlah atribut tipe angka\n",
        "jumlahAngka = len(df.dtypes[df.dtypes == 'int64'])\n",
        "\n",
        "# jumlah atribut nilai null\n",
        "jumlahNull = df.isna().any().sum()\n",
        "\n",
        "\n",
        "kamus = {\n",
        "    \"Jumlah Record\":[Jumlah],\n",
        "    \"Nama Atribut\" : [nama],\n",
        "    \"Jumlah atribut tipe objek\" : [jumlahObjek],\n",
        "    \"Jumlah atribut tipe angka\" : [jumlahAngka],\n",
        "    \"Jumlah atribut nilai null\"  : [jumlahNull],\n",
        "    \n",
        "}\n",
        "\n",
        "tab = pd.DataFrame(kamus)\n",
        "print(tabulate(tab, headers='keys', tablefmt='psql',showindex=False))"
      ]
    },
    {
      "cell_type": "markdown",
      "source": [
        "\n",
        "# Tampilkan rata-rata, standar deviasi, nilai minimum, nilai maksimum, Q1, Q2, dan Q3 dari attribute bertipe angka.\n"
      ],
      "metadata": {
        "id": "lgKYovHNzPLg"
      },
      "id": "lgKYovHNzPLg"
    },
    {
      "cell_type": "code",
      "execution_count": 10,
      "id": "c9a02f54",
      "metadata": {
        "colab": {
          "base_uri": "https://localhost:8080/",
          "height": 300
        },
        "id": "c9a02f54",
        "outputId": "ed260b6c-00d5-4153-ac3a-bc78438eb58c"
      },
      "outputs": [
        {
          "output_type": "execute_result",
          "data": {
            "text/plain": [
              "              open         high          low        close        volume\n",
              "count  2500.000000  2500.000000  2500.000000  2500.000000  2.500000e+03\n",
              "mean     73.022048    73.745583    72.291507    73.032559  3.162743e+07\n",
              "std      41.462105    41.654087    41.251971    41.475648  3.297061e+07\n",
              "min      13.140000    13.420000    12.700000    13.020000  1.352400e+06\n",
              "25%      40.770000    41.375000    40.132500    40.723750  8.083765e+06\n",
              "50%      55.412100    56.125000    54.765000    55.725000  1.935793e+07\n",
              "75%     108.592500   109.385000   107.397500   108.555000  4.561809e+07\n",
              "max     175.110000   177.200000   174.860000   176.420000  2.668336e+08"
            ],
            "text/html": [
              "\n",
              "  <div id=\"df-d9f2ba77-7dca-424b-a216-9d19f57ed670\">\n",
              "    <div class=\"colab-df-container\">\n",
              "      <div>\n",
              "<style scoped>\n",
              "    .dataframe tbody tr th:only-of-type {\n",
              "        vertical-align: middle;\n",
              "    }\n",
              "\n",
              "    .dataframe tbody tr th {\n",
              "        vertical-align: top;\n",
              "    }\n",
              "\n",
              "    .dataframe thead th {\n",
              "        text-align: right;\n",
              "    }\n",
              "</style>\n",
              "<table border=\"1\" class=\"dataframe\">\n",
              "  <thead>\n",
              "    <tr style=\"text-align: right;\">\n",
              "      <th></th>\n",
              "      <th>open</th>\n",
              "      <th>high</th>\n",
              "      <th>low</th>\n",
              "      <th>close</th>\n",
              "      <th>volume</th>\n",
              "    </tr>\n",
              "  </thead>\n",
              "  <tbody>\n",
              "    <tr>\n",
              "      <th>count</th>\n",
              "      <td>2500.000000</td>\n",
              "      <td>2500.000000</td>\n",
              "      <td>2500.000000</td>\n",
              "      <td>2500.000000</td>\n",
              "      <td>2.500000e+03</td>\n",
              "    </tr>\n",
              "    <tr>\n",
              "      <th>mean</th>\n",
              "      <td>73.022048</td>\n",
              "      <td>73.745583</td>\n",
              "      <td>72.291507</td>\n",
              "      <td>73.032559</td>\n",
              "      <td>3.162743e+07</td>\n",
              "    </tr>\n",
              "    <tr>\n",
              "      <th>std</th>\n",
              "      <td>41.462105</td>\n",
              "      <td>41.654087</td>\n",
              "      <td>41.251971</td>\n",
              "      <td>41.475648</td>\n",
              "      <td>3.297061e+07</td>\n",
              "    </tr>\n",
              "    <tr>\n",
              "      <th>min</th>\n",
              "      <td>13.140000</td>\n",
              "      <td>13.420000</td>\n",
              "      <td>12.700000</td>\n",
              "      <td>13.020000</td>\n",
              "      <td>1.352400e+06</td>\n",
              "    </tr>\n",
              "    <tr>\n",
              "      <th>25%</th>\n",
              "      <td>40.770000</td>\n",
              "      <td>41.375000</td>\n",
              "      <td>40.132500</td>\n",
              "      <td>40.723750</td>\n",
              "      <td>8.083765e+06</td>\n",
              "    </tr>\n",
              "    <tr>\n",
              "      <th>50%</th>\n",
              "      <td>55.412100</td>\n",
              "      <td>56.125000</td>\n",
              "      <td>54.765000</td>\n",
              "      <td>55.725000</td>\n",
              "      <td>1.935793e+07</td>\n",
              "    </tr>\n",
              "    <tr>\n",
              "      <th>75%</th>\n",
              "      <td>108.592500</td>\n",
              "      <td>109.385000</td>\n",
              "      <td>107.397500</td>\n",
              "      <td>108.555000</td>\n",
              "      <td>4.561809e+07</td>\n",
              "    </tr>\n",
              "    <tr>\n",
              "      <th>max</th>\n",
              "      <td>175.110000</td>\n",
              "      <td>177.200000</td>\n",
              "      <td>174.860000</td>\n",
              "      <td>176.420000</td>\n",
              "      <td>2.668336e+08</td>\n",
              "    </tr>\n",
              "  </tbody>\n",
              "</table>\n",
              "</div>\n",
              "      <button class=\"colab-df-convert\" onclick=\"convertToInteractive('df-d9f2ba77-7dca-424b-a216-9d19f57ed670')\"\n",
              "              title=\"Convert this dataframe to an interactive table.\"\n",
              "              style=\"display:none;\">\n",
              "        \n",
              "  <svg xmlns=\"http://www.w3.org/2000/svg\" height=\"24px\"viewBox=\"0 0 24 24\"\n",
              "       width=\"24px\">\n",
              "    <path d=\"M0 0h24v24H0V0z\" fill=\"none\"/>\n",
              "    <path d=\"M18.56 5.44l.94 2.06.94-2.06 2.06-.94-2.06-.94-.94-2.06-.94 2.06-2.06.94zm-11 1L8.5 8.5l.94-2.06 2.06-.94-2.06-.94L8.5 2.5l-.94 2.06-2.06.94zm10 10l.94 2.06.94-2.06 2.06-.94-2.06-.94-.94-2.06-.94 2.06-2.06.94z\"/><path d=\"M17.41 7.96l-1.37-1.37c-.4-.4-.92-.59-1.43-.59-.52 0-1.04.2-1.43.59L10.3 9.45l-7.72 7.72c-.78.78-.78 2.05 0 2.83L4 21.41c.39.39.9.59 1.41.59.51 0 1.02-.2 1.41-.59l7.78-7.78 2.81-2.81c.8-.78.8-2.07 0-2.86zM5.41 20L4 18.59l7.72-7.72 1.47 1.35L5.41 20z\"/>\n",
              "  </svg>\n",
              "      </button>\n",
              "      \n",
              "  <style>\n",
              "    .colab-df-container {\n",
              "      display:flex;\n",
              "      flex-wrap:wrap;\n",
              "      gap: 12px;\n",
              "    }\n",
              "\n",
              "    .colab-df-convert {\n",
              "      background-color: #E8F0FE;\n",
              "      border: none;\n",
              "      border-radius: 50%;\n",
              "      cursor: pointer;\n",
              "      display: none;\n",
              "      fill: #1967D2;\n",
              "      height: 32px;\n",
              "      padding: 0 0 0 0;\n",
              "      width: 32px;\n",
              "    }\n",
              "\n",
              "    .colab-df-convert:hover {\n",
              "      background-color: #E2EBFA;\n",
              "      box-shadow: 0px 1px 2px rgba(60, 64, 67, 0.3), 0px 1px 3px 1px rgba(60, 64, 67, 0.15);\n",
              "      fill: #174EA6;\n",
              "    }\n",
              "\n",
              "    [theme=dark] .colab-df-convert {\n",
              "      background-color: #3B4455;\n",
              "      fill: #D2E3FC;\n",
              "    }\n",
              "\n",
              "    [theme=dark] .colab-df-convert:hover {\n",
              "      background-color: #434B5C;\n",
              "      box-shadow: 0px 1px 3px 1px rgba(0, 0, 0, 0.15);\n",
              "      filter: drop-shadow(0px 1px 2px rgba(0, 0, 0, 0.3));\n",
              "      fill: #FFFFFF;\n",
              "    }\n",
              "  </style>\n",
              "\n",
              "      <script>\n",
              "        const buttonEl =\n",
              "          document.querySelector('#df-d9f2ba77-7dca-424b-a216-9d19f57ed670 button.colab-df-convert');\n",
              "        buttonEl.style.display =\n",
              "          google.colab.kernel.accessAllowed ? 'block' : 'none';\n",
              "\n",
              "        async function convertToInteractive(key) {\n",
              "          const element = document.querySelector('#df-d9f2ba77-7dca-424b-a216-9d19f57ed670');\n",
              "          const dataTable =\n",
              "            await google.colab.kernel.invokeFunction('convertToInteractive',\n",
              "                                                     [key], {});\n",
              "          if (!dataTable) return;\n",
              "\n",
              "          const docLinkHtml = 'Like what you see? Visit the ' +\n",
              "            '<a target=\"_blank\" href=https://colab.research.google.com/notebooks/data_table.ipynb>data table notebook</a>'\n",
              "            + ' to learn more about interactive tables.';\n",
              "          element.innerHTML = '';\n",
              "          dataTable['output_type'] = 'display_data';\n",
              "          await google.colab.output.renderOutput(dataTable, element);\n",
              "          const docLink = document.createElement('div');\n",
              "          docLink.innerHTML = docLinkHtml;\n",
              "          element.appendChild(docLink);\n",
              "        }\n",
              "      </script>\n",
              "    </div>\n",
              "  </div>\n",
              "  "
            ]
          },
          "metadata": {},
          "execution_count": 10
        }
      ],
      "source": [
        "df.describe()"
      ]
    },
    {
      "cell_type": "markdown",
      "source": [
        "# Tampilkan nilai korelasi attribute bertipe angka."
      ],
      "metadata": {
        "id": "WPmKyI2szg4b"
      },
      "id": "WPmKyI2szg4b"
    },
    {
      "cell_type": "code",
      "execution_count": 11,
      "id": "13240693",
      "metadata": {
        "colab": {
          "base_uri": "https://localhost:8080/",
          "height": 206
        },
        "id": "13240693",
        "outputId": "d8f0c34a-7d92-4b83-d89c-6a7f61c75c43"
      },
      "outputs": [
        {
          "output_type": "execute_result",
          "data": {
            "text/plain": [
              "            open      high       low     close    volume\n",
              "open    1.000000  0.999862  0.999831  0.999696  0.342700\n",
              "high    0.999862  1.000000  0.999798  0.999860  0.344916\n",
              "low     0.999831  0.999798  1.000000  0.999866  0.339588\n",
              "close   0.999696  0.999860  0.999866  1.000000  0.341693\n",
              "volume  0.342700  0.344916  0.339588  0.341693  1.000000"
            ],
            "text/html": [
              "\n",
              "  <div id=\"df-51db8a66-60ff-44b4-a7a0-6303904ef49e\">\n",
              "    <div class=\"colab-df-container\">\n",
              "      <div>\n",
              "<style scoped>\n",
              "    .dataframe tbody tr th:only-of-type {\n",
              "        vertical-align: middle;\n",
              "    }\n",
              "\n",
              "    .dataframe tbody tr th {\n",
              "        vertical-align: top;\n",
              "    }\n",
              "\n",
              "    .dataframe thead th {\n",
              "        text-align: right;\n",
              "    }\n",
              "</style>\n",
              "<table border=\"1\" class=\"dataframe\">\n",
              "  <thead>\n",
              "    <tr style=\"text-align: right;\">\n",
              "      <th></th>\n",
              "      <th>open</th>\n",
              "      <th>high</th>\n",
              "      <th>low</th>\n",
              "      <th>close</th>\n",
              "      <th>volume</th>\n",
              "    </tr>\n",
              "  </thead>\n",
              "  <tbody>\n",
              "    <tr>\n",
              "      <th>open</th>\n",
              "      <td>1.000000</td>\n",
              "      <td>0.999862</td>\n",
              "      <td>0.999831</td>\n",
              "      <td>0.999696</td>\n",
              "      <td>0.342700</td>\n",
              "    </tr>\n",
              "    <tr>\n",
              "      <th>high</th>\n",
              "      <td>0.999862</td>\n",
              "      <td>1.000000</td>\n",
              "      <td>0.999798</td>\n",
              "      <td>0.999860</td>\n",
              "      <td>0.344916</td>\n",
              "    </tr>\n",
              "    <tr>\n",
              "      <th>low</th>\n",
              "      <td>0.999831</td>\n",
              "      <td>0.999798</td>\n",
              "      <td>1.000000</td>\n",
              "      <td>0.999866</td>\n",
              "      <td>0.339588</td>\n",
              "    </tr>\n",
              "    <tr>\n",
              "      <th>close</th>\n",
              "      <td>0.999696</td>\n",
              "      <td>0.999860</td>\n",
              "      <td>0.999866</td>\n",
              "      <td>1.000000</td>\n",
              "      <td>0.341693</td>\n",
              "    </tr>\n",
              "    <tr>\n",
              "      <th>volume</th>\n",
              "      <td>0.342700</td>\n",
              "      <td>0.344916</td>\n",
              "      <td>0.339588</td>\n",
              "      <td>0.341693</td>\n",
              "      <td>1.000000</td>\n",
              "    </tr>\n",
              "  </tbody>\n",
              "</table>\n",
              "</div>\n",
              "      <button class=\"colab-df-convert\" onclick=\"convertToInteractive('df-51db8a66-60ff-44b4-a7a0-6303904ef49e')\"\n",
              "              title=\"Convert this dataframe to an interactive table.\"\n",
              "              style=\"display:none;\">\n",
              "        \n",
              "  <svg xmlns=\"http://www.w3.org/2000/svg\" height=\"24px\"viewBox=\"0 0 24 24\"\n",
              "       width=\"24px\">\n",
              "    <path d=\"M0 0h24v24H0V0z\" fill=\"none\"/>\n",
              "    <path d=\"M18.56 5.44l.94 2.06.94-2.06 2.06-.94-2.06-.94-.94-2.06-.94 2.06-2.06.94zm-11 1L8.5 8.5l.94-2.06 2.06-.94-2.06-.94L8.5 2.5l-.94 2.06-2.06.94zm10 10l.94 2.06.94-2.06 2.06-.94-2.06-.94-.94-2.06-.94 2.06-2.06.94z\"/><path d=\"M17.41 7.96l-1.37-1.37c-.4-.4-.92-.59-1.43-.59-.52 0-1.04.2-1.43.59L10.3 9.45l-7.72 7.72c-.78.78-.78 2.05 0 2.83L4 21.41c.39.39.9.59 1.41.59.51 0 1.02-.2 1.41-.59l7.78-7.78 2.81-2.81c.8-.78.8-2.07 0-2.86zM5.41 20L4 18.59l7.72-7.72 1.47 1.35L5.41 20z\"/>\n",
              "  </svg>\n",
              "      </button>\n",
              "      \n",
              "  <style>\n",
              "    .colab-df-container {\n",
              "      display:flex;\n",
              "      flex-wrap:wrap;\n",
              "      gap: 12px;\n",
              "    }\n",
              "\n",
              "    .colab-df-convert {\n",
              "      background-color: #E8F0FE;\n",
              "      border: none;\n",
              "      border-radius: 50%;\n",
              "      cursor: pointer;\n",
              "      display: none;\n",
              "      fill: #1967D2;\n",
              "      height: 32px;\n",
              "      padding: 0 0 0 0;\n",
              "      width: 32px;\n",
              "    }\n",
              "\n",
              "    .colab-df-convert:hover {\n",
              "      background-color: #E2EBFA;\n",
              "      box-shadow: 0px 1px 2px rgba(60, 64, 67, 0.3), 0px 1px 3px 1px rgba(60, 64, 67, 0.15);\n",
              "      fill: #174EA6;\n",
              "    }\n",
              "\n",
              "    [theme=dark] .colab-df-convert {\n",
              "      background-color: #3B4455;\n",
              "      fill: #D2E3FC;\n",
              "    }\n",
              "\n",
              "    [theme=dark] .colab-df-convert:hover {\n",
              "      background-color: #434B5C;\n",
              "      box-shadow: 0px 1px 3px 1px rgba(0, 0, 0, 0.15);\n",
              "      filter: drop-shadow(0px 1px 2px rgba(0, 0, 0, 0.3));\n",
              "      fill: #FFFFFF;\n",
              "    }\n",
              "  </style>\n",
              "\n",
              "      <script>\n",
              "        const buttonEl =\n",
              "          document.querySelector('#df-51db8a66-60ff-44b4-a7a0-6303904ef49e button.colab-df-convert');\n",
              "        buttonEl.style.display =\n",
              "          google.colab.kernel.accessAllowed ? 'block' : 'none';\n",
              "\n",
              "        async function convertToInteractive(key) {\n",
              "          const element = document.querySelector('#df-51db8a66-60ff-44b4-a7a0-6303904ef49e');\n",
              "          const dataTable =\n",
              "            await google.colab.kernel.invokeFunction('convertToInteractive',\n",
              "                                                     [key], {});\n",
              "          if (!dataTable) return;\n",
              "\n",
              "          const docLinkHtml = 'Like what you see? Visit the ' +\n",
              "            '<a target=\"_blank\" href=https://colab.research.google.com/notebooks/data_table.ipynb>data table notebook</a>'\n",
              "            + ' to learn more about interactive tables.';\n",
              "          element.innerHTML = '';\n",
              "          dataTable['output_type'] = 'display_data';\n",
              "          await google.colab.output.renderOutput(dataTable, element);\n",
              "          const docLink = document.createElement('div');\n",
              "          docLink.innerHTML = docLinkHtml;\n",
              "          element.appendChild(docLink);\n",
              "        }\n",
              "      </script>\n",
              "    </div>\n",
              "  </div>\n",
              "  "
            ]
          },
          "metadata": {},
          "execution_count": 11
        }
      ],
      "source": [
        "# Tampilkan nilai korelasi attribute bertipe angka.\n",
        "\n",
        "df.corr()"
      ]
    },
    {
      "cell_type": "code",
      "execution_count": null,
      "id": "9969a37e",
      "metadata": {
        "id": "9969a37e"
      },
      "outputs": [],
      "source": []
    },
    {
      "cell_type": "markdown",
      "source": [
        "# Rubah nilai salah satu attribute bertipe angka menjadi desimal 3 angka dibelakang koma jika tidak ada, lakukan sebaliknya (dari desimal menjadi bilangan bulat)."
      ],
      "metadata": {
        "id": "Ha2pVy-tzr-w"
      },
      "id": "Ha2pVy-tzr-w"
    },
    {
      "cell_type": "code",
      "execution_count": 15,
      "id": "04c7b93b",
      "metadata": {
        "colab": {
          "base_uri": "https://localhost:8080/"
        },
        "id": "04c7b93b",
        "outputId": "f768261a-3082-4edb-8c11-0ece3587b29f"
      },
      "outputs": [
        {
          "output_type": "stream",
          "name": "stdout",
          "text": [
            "float64\n",
            "int64\n"
          ]
        }
      ],
      "source": [
        "# Rubah nilai salah satu attribute bertipe angka menjadi desimal 3 angka dibelakang koma jika tidak ada, lakukan sebaliknya (dari desimal menjadi bilangan bulat).\n",
        "\n",
        "df[\"high\"].dtypes\n",
        "print(df[\"high\"].dtypes)\n",
        "\n",
        "df[\"high\"] = df[\"high\"].astype(\"int64\")\n",
        "print(df[\"high\"].dtypes)\n"
      ]
    },
    {
      "cell_type": "markdown",
      "source": [
        "## Tampilkan 10 record pertama dari attribute bertipe angka."
      ],
      "metadata": {
        "id": "RImqNtPG090P"
      },
      "id": "RImqNtPG090P"
    },
    {
      "cell_type": "code",
      "execution_count": 16,
      "id": "c4e89bf0",
      "metadata": {
        "colab": {
          "base_uri": "https://localhost:8080/",
          "height": 363
        },
        "id": "c4e89bf0",
        "outputId": "4088f770-efd9-4ce5-875c-202345d24f59"
      },
      "outputs": [
        {
          "output_type": "execute_result",
          "data": {
            "text/plain": [
              "    open  high    low  close      volume\n",
              "0  15.07    15  14.63  14.75   8407500.0\n",
              "1  14.89    15  14.26  14.46   8882000.0\n",
              "2  14.45    14  14.10  14.27   8126000.0\n",
              "3  14.30    14  14.25  14.66  10259500.0\n",
              "4  14.94    14  13.16  13.99  31879900.0\n",
              "5  13.93    14  13.93  14.50  15628000.0\n",
              "6  14.33    14  14.08  14.26  11354400.0\n",
              "7  14.17    14  13.15  13.33  14725200.0\n",
              "8  13.62    13  12.90  13.37  11922100.0\n",
              "9  13.57    13  13.21  13.57   6071400.0"
            ],
            "text/html": [
              "\n",
              "  <div id=\"df-bb6335a6-6f95-41c9-863f-2bb7df51a211\">\n",
              "    <div class=\"colab-df-container\">\n",
              "      <div>\n",
              "<style scoped>\n",
              "    .dataframe tbody tr th:only-of-type {\n",
              "        vertical-align: middle;\n",
              "    }\n",
              "\n",
              "    .dataframe tbody tr th {\n",
              "        vertical-align: top;\n",
              "    }\n",
              "\n",
              "    .dataframe thead th {\n",
              "        text-align: right;\n",
              "    }\n",
              "</style>\n",
              "<table border=\"1\" class=\"dataframe\">\n",
              "  <thead>\n",
              "    <tr style=\"text-align: right;\">\n",
              "      <th></th>\n",
              "      <th>open</th>\n",
              "      <th>high</th>\n",
              "      <th>low</th>\n",
              "      <th>close</th>\n",
              "      <th>volume</th>\n",
              "    </tr>\n",
              "  </thead>\n",
              "  <tbody>\n",
              "    <tr>\n",
              "      <th>0</th>\n",
              "      <td>15.07</td>\n",
              "      <td>15</td>\n",
              "      <td>14.63</td>\n",
              "      <td>14.75</td>\n",
              "      <td>8407500.0</td>\n",
              "    </tr>\n",
              "    <tr>\n",
              "      <th>1</th>\n",
              "      <td>14.89</td>\n",
              "      <td>15</td>\n",
              "      <td>14.26</td>\n",
              "      <td>14.46</td>\n",
              "      <td>8882000.0</td>\n",
              "    </tr>\n",
              "    <tr>\n",
              "      <th>2</th>\n",
              "      <td>14.45</td>\n",
              "      <td>14</td>\n",
              "      <td>14.10</td>\n",
              "      <td>14.27</td>\n",
              "      <td>8126000.0</td>\n",
              "    </tr>\n",
              "    <tr>\n",
              "      <th>3</th>\n",
              "      <td>14.30</td>\n",
              "      <td>14</td>\n",
              "      <td>14.25</td>\n",
              "      <td>14.66</td>\n",
              "      <td>10259500.0</td>\n",
              "    </tr>\n",
              "    <tr>\n",
              "      <th>4</th>\n",
              "      <td>14.94</td>\n",
              "      <td>14</td>\n",
              "      <td>13.16</td>\n",
              "      <td>13.99</td>\n",
              "      <td>31879900.0</td>\n",
              "    </tr>\n",
              "    <tr>\n",
              "      <th>5</th>\n",
              "      <td>13.93</td>\n",
              "      <td>14</td>\n",
              "      <td>13.93</td>\n",
              "      <td>14.50</td>\n",
              "      <td>15628000.0</td>\n",
              "    </tr>\n",
              "    <tr>\n",
              "      <th>6</th>\n",
              "      <td>14.33</td>\n",
              "      <td>14</td>\n",
              "      <td>14.08</td>\n",
              "      <td>14.26</td>\n",
              "      <td>11354400.0</td>\n",
              "    </tr>\n",
              "    <tr>\n",
              "      <th>7</th>\n",
              "      <td>14.17</td>\n",
              "      <td>14</td>\n",
              "      <td>13.15</td>\n",
              "      <td>13.33</td>\n",
              "      <td>14725200.0</td>\n",
              "    </tr>\n",
              "    <tr>\n",
              "      <th>8</th>\n",
              "      <td>13.62</td>\n",
              "      <td>13</td>\n",
              "      <td>12.90</td>\n",
              "      <td>13.37</td>\n",
              "      <td>11922100.0</td>\n",
              "    </tr>\n",
              "    <tr>\n",
              "      <th>9</th>\n",
              "      <td>13.57</td>\n",
              "      <td>13</td>\n",
              "      <td>13.21</td>\n",
              "      <td>13.57</td>\n",
              "      <td>6071400.0</td>\n",
              "    </tr>\n",
              "  </tbody>\n",
              "</table>\n",
              "</div>\n",
              "      <button class=\"colab-df-convert\" onclick=\"convertToInteractive('df-bb6335a6-6f95-41c9-863f-2bb7df51a211')\"\n",
              "              title=\"Convert this dataframe to an interactive table.\"\n",
              "              style=\"display:none;\">\n",
              "        \n",
              "  <svg xmlns=\"http://www.w3.org/2000/svg\" height=\"24px\"viewBox=\"0 0 24 24\"\n",
              "       width=\"24px\">\n",
              "    <path d=\"M0 0h24v24H0V0z\" fill=\"none\"/>\n",
              "    <path d=\"M18.56 5.44l.94 2.06.94-2.06 2.06-.94-2.06-.94-.94-2.06-.94 2.06-2.06.94zm-11 1L8.5 8.5l.94-2.06 2.06-.94-2.06-.94L8.5 2.5l-.94 2.06-2.06.94zm10 10l.94 2.06.94-2.06 2.06-.94-2.06-.94-.94-2.06-.94 2.06-2.06.94z\"/><path d=\"M17.41 7.96l-1.37-1.37c-.4-.4-.92-.59-1.43-.59-.52 0-1.04.2-1.43.59L10.3 9.45l-7.72 7.72c-.78.78-.78 2.05 0 2.83L4 21.41c.39.39.9.59 1.41.59.51 0 1.02-.2 1.41-.59l7.78-7.78 2.81-2.81c.8-.78.8-2.07 0-2.86zM5.41 20L4 18.59l7.72-7.72 1.47 1.35L5.41 20z\"/>\n",
              "  </svg>\n",
              "      </button>\n",
              "      \n",
              "  <style>\n",
              "    .colab-df-container {\n",
              "      display:flex;\n",
              "      flex-wrap:wrap;\n",
              "      gap: 12px;\n",
              "    }\n",
              "\n",
              "    .colab-df-convert {\n",
              "      background-color: #E8F0FE;\n",
              "      border: none;\n",
              "      border-radius: 50%;\n",
              "      cursor: pointer;\n",
              "      display: none;\n",
              "      fill: #1967D2;\n",
              "      height: 32px;\n",
              "      padding: 0 0 0 0;\n",
              "      width: 32px;\n",
              "    }\n",
              "\n",
              "    .colab-df-convert:hover {\n",
              "      background-color: #E2EBFA;\n",
              "      box-shadow: 0px 1px 2px rgba(60, 64, 67, 0.3), 0px 1px 3px 1px rgba(60, 64, 67, 0.15);\n",
              "      fill: #174EA6;\n",
              "    }\n",
              "\n",
              "    [theme=dark] .colab-df-convert {\n",
              "      background-color: #3B4455;\n",
              "      fill: #D2E3FC;\n",
              "    }\n",
              "\n",
              "    [theme=dark] .colab-df-convert:hover {\n",
              "      background-color: #434B5C;\n",
              "      box-shadow: 0px 1px 3px 1px rgba(0, 0, 0, 0.15);\n",
              "      filter: drop-shadow(0px 1px 2px rgba(0, 0, 0, 0.3));\n",
              "      fill: #FFFFFF;\n",
              "    }\n",
              "  </style>\n",
              "\n",
              "      <script>\n",
              "        const buttonEl =\n",
              "          document.querySelector('#df-bb6335a6-6f95-41c9-863f-2bb7df51a211 button.colab-df-convert');\n",
              "        buttonEl.style.display =\n",
              "          google.colab.kernel.accessAllowed ? 'block' : 'none';\n",
              "\n",
              "        async function convertToInteractive(key) {\n",
              "          const element = document.querySelector('#df-bb6335a6-6f95-41c9-863f-2bb7df51a211');\n",
              "          const dataTable =\n",
              "            await google.colab.kernel.invokeFunction('convertToInteractive',\n",
              "                                                     [key], {});\n",
              "          if (!dataTable) return;\n",
              "\n",
              "          const docLinkHtml = 'Like what you see? Visit the ' +\n",
              "            '<a target=\"_blank\" href=https://colab.research.google.com/notebooks/data_table.ipynb>data table notebook</a>'\n",
              "            + ' to learn more about interactive tables.';\n",
              "          element.innerHTML = '';\n",
              "          dataTable['output_type'] = 'display_data';\n",
              "          await google.colab.output.renderOutput(dataTable, element);\n",
              "          const docLink = document.createElement('div');\n",
              "          docLink.innerHTML = docLinkHtml;\n",
              "          element.appendChild(docLink);\n",
              "        }\n",
              "      </script>\n",
              "    </div>\n",
              "  </div>\n",
              "  "
            ]
          },
          "metadata": {},
          "execution_count": 16
        }
      ],
      "source": [
        "dfAngka= df.select_dtypes(include=['float64','int64'])\n",
        "\n",
        "dfAngka.head(10)"
      ]
    },
    {
      "cell_type": "code",
      "execution_count": null,
      "id": "cc064f7a",
      "metadata": {
        "id": "cc064f7a"
      },
      "outputs": [],
      "source": []
    },
    {
      "cell_type": "markdown",
      "source": [
        "## Simpan dataset dengan attribute bertipe angka ke dalam file CSV."
      ],
      "metadata": {
        "id": "TDIirvE31Pe2"
      },
      "id": "TDIirvE31Pe2"
    },
    {
      "cell_type": "code",
      "execution_count": 17,
      "id": "34501f6c",
      "metadata": {
        "id": "34501f6c"
      },
      "outputs": [],
      "source": [
        "dfAngka.to_csv(\"Kecerdasan Buatan Posttest2.csv\", index=False)"
      ]
    },
    {
      "cell_type": "code",
      "execution_count": null,
      "id": "04851319",
      "metadata": {
        "id": "04851319"
      },
      "outputs": [],
      "source": []
    },
    {
      "cell_type": "code",
      "execution_count": null,
      "id": "fc23c5a8",
      "metadata": {
        "id": "fc23c5a8"
      },
      "outputs": [],
      "source": []
    },
    {
      "cell_type": "code",
      "execution_count": null,
      "id": "7c5cfcf7",
      "metadata": {
        "id": "7c5cfcf7"
      },
      "outputs": [],
      "source": []
    },
    {
      "cell_type": "code",
      "execution_count": null,
      "id": "1cf7d27f",
      "metadata": {
        "id": "1cf7d27f"
      },
      "outputs": [],
      "source": []
    },
    {
      "cell_type": "code",
      "execution_count": null,
      "id": "16e7fd5f",
      "metadata": {
        "id": "16e7fd5f"
      },
      "outputs": [],
      "source": []
    }
  ],
  "metadata": {
    "kernelspec": {
      "display_name": "Python 3 (ipykernel)",
      "language": "python",
      "name": "python3"
    },
    "language_info": {
      "codemirror_mode": {
        "name": "ipython",
        "version": 3
      },
      "file_extension": ".py",
      "mimetype": "text/x-python",
      "name": "python",
      "nbconvert_exporter": "python",
      "pygments_lexer": "ipython3",
      "version": "3.10.7"
    },
    "colab": {
      "provenance": [],
      "collapsed_sections": [
        "65e0cb23"
      ]
    }
  },
  "nbformat": 4,
  "nbformat_minor": 5
}