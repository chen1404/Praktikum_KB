{
  "cells": [
    {
      "cell_type": "markdown",
      "id": "98b61823",
      "metadata": {
        "id": "98b61823"
      },
      "source": [
        "## Post Test KB 7"
      ]
    },
    {
      "cell_type": "markdown",
      "id": "0002cd6c",
      "metadata": {
        "id": "0002cd6c"
      },
      "source": [
        "Nama    : Satria Bagus Eka Candra\n",
        "\n",
        "NIM     : 2009106016\n",
        "\n",
        "Kelas   : Informatika A 2020"
      ]
    },
    {
      "cell_type": "markdown",
      "id": "e123b7ac",
      "metadata": {
        "id": "e123b7ac"
      },
      "source": [
        "1. Buatlah sebuah tensor dengan shape(5,5) dengan nilai random yang disimpan dalam variable random_tensor"
      ]
    },
    {
      "cell_type": "code",
      "execution_count": null,
      "id": "5061abec",
      "metadata": {
        "id": "5061abec"
      },
      "outputs": [],
      "source": [
        "import tensorflow as tf"
      ]
    },
    {
      "cell_type": "code",
      "execution_count": null,
      "id": "42c990a8",
      "metadata": {
        "id": "42c990a8",
        "outputId": "c31b65bc-9ef6-4fdd-e264-4f63455f0c0d"
      },
      "outputs": [
        {
          "data": {
            "text/plain": [
              "array([[4.613833 , 5.084854 , 2.2378907, 4.858652 , 5.7292266],\n",
              "       [4.025921 , 4.714781 , 5.1130815, 5.4879904, 5.9685326],\n",
              "       [5.573825 , 3.2475438, 4.462555 , 4.476487 , 4.070874 ],\n",
              "       [4.894192 , 4.009323 , 4.6798654, 4.883642 , 4.827503 ],\n",
              "       [5.1000853, 5.704425 , 5.6030755, 4.4744415, 5.4573894]],\n",
              "      dtype=float32)"
            ]
          },
          "execution_count": 2,
          "metadata": {},
          "output_type": "execute_result"
        }
      ],
      "source": [
        "# Tensor (5,5) nilai Random\n",
        "random_tensor = tf.Variable(tf.random.normal([5,5], mean=4, stddev=1, dtype=tf.float32))\n",
        "random_tensor.read_value().numpy()"
      ]
    },
    {
      "cell_type": "markdown",
      "id": "c550ad14",
      "metadata": {
        "id": "c550ad14"
      },
      "source": [
        "2. Buatlah sebuah tensor dengan shape(5,5) dari sebuah list dengan nilai bilangan prima dalam variable prime_tensor"
      ]
    },
    {
      "cell_type": "code",
      "execution_count": null,
      "id": "98a5f7fd",
      "metadata": {
        "id": "98a5f7fd"
      },
      "outputs": [],
      "source": [
        "# Tensor (5,5) nilai bilangan Prima\n",
        "list = [[2,3,5,7,11],[13,17,19,23,29],[31,37,41,43,47],[53,59,61,67,71],[73,79,83,89,97]]"
      ]
    },
    {
      "cell_type": "code",
      "execution_count": null,
      "id": "93c6442a",
      "metadata": {
        "id": "93c6442a",
        "outputId": "59ca3b39-ad65-4ff6-d490-a5c02a0c7ead"
      },
      "outputs": [
        {
          "data": {
            "text/plain": [
              "array([[ 2.,  3.,  5.,  7., 11.],\n",
              "       [13., 17., 19., 23., 29.],\n",
              "       [31., 37., 41., 43., 47.],\n",
              "       [53., 59., 61., 67., 71.],\n",
              "       [73., 79., 83., 89., 97.]], dtype=float32)"
            ]
          },
          "execution_count": 4,
          "metadata": {},
          "output_type": "execute_result"
        }
      ],
      "source": [
        "prime_tensor = tf.Variable((tf.convert_to_tensor(list, dtype=tf.float32)))\n",
        "prime_tensor.read_value().numpy()"
      ]
    },
    {
      "cell_type": "markdown",
      "id": "0f23e0f7",
      "metadata": {
        "id": "0f23e0f7"
      },
      "source": [
        "## "
      ]
    },
    {
      "cell_type": "markdown",
      "id": "112a0124",
      "metadata": {
        "id": "112a0124"
      },
      "source": [
        "3. Tampilkan dimensi dari kedua variable tersebut"
      ]
    },
    {
      "cell_type": "code",
      "execution_count": null,
      "id": "1c745e42",
      "metadata": {
        "id": "1c745e42",
        "outputId": "4fe0bba6-4ea0-40d0-e59d-54d60acf3009"
      },
      "outputs": [
        {
          "name": "stdout",
          "output_type": "stream",
          "text": [
            "(5, 5)\n",
            "(5, 5)\n"
          ]
        }
      ],
      "source": [
        "# Dimensi kedua Variabel\n",
        "print(random_tensor.shape)\n",
        "print(prime_tensor.shape)"
      ]
    },
    {
      "cell_type": "markdown",
      "id": "9b1ef26b",
      "metadata": {
        "id": "9b1ef26b"
      },
      "source": [
        "## "
      ]
    },
    {
      "cell_type": "markdown",
      "id": "de053f96",
      "metadata": {
        "id": "de053f96"
      },
      "source": [
        "4. Tampilkan hasil dari perhitungan aritmetika 2 variable tersebut (Gunakan minimal 5 operator)"
      ]
    },
    {
      "cell_type": "code",
      "execution_count": null,
      "id": "76f104a9",
      "metadata": {
        "id": "76f104a9",
        "outputId": "25a62713-6e8a-4f66-eb01-1e573fc568c1"
      },
      "outputs": [
        {
          "data": {
            "text/plain": [
              "array([[  6.613833 ,   8.084854 ,   7.2378907,  11.858652 ,  16.729227 ],\n",
              "       [ 17.02592  ,  21.71478  ,  24.113081 ,  28.487991 ,  34.968533 ],\n",
              "       [ 36.573826 ,  40.247543 ,  45.462555 ,  47.476486 ,  51.070873 ],\n",
              "       [ 57.89419  ,  63.009323 ,  65.67986  ,  71.883644 ,  75.8275   ],\n",
              "       [ 78.10008  ,  84.70442  ,  88.60307  ,  93.47444  , 102.45739  ]],\n",
              "      dtype=float32)"
            ]
          },
          "execution_count": 6,
          "metadata": {},
          "output_type": "execute_result"
        }
      ],
      "source": [
        "# Fungsi Pertambahan\n",
        "tf.add(random_tensor,prime_tensor).numpy()"
      ]
    },
    {
      "cell_type": "code",
      "execution_count": null,
      "id": "38e046b7",
      "metadata": {
        "id": "38e046b7",
        "outputId": "f3245f4c-de29-4336-8f49-c391423f1f80"
      },
      "outputs": [
        {
          "data": {
            "text/plain": [
              "array([[  2.613833 ,   2.0848541,  -2.7621093,  -2.141348 ,  -5.2707734],\n",
              "       [ -8.974079 , -12.285219 , -13.886919 , -17.512009 , -23.031467 ],\n",
              "       [-25.426174 , -33.752457 , -36.537445 , -38.523514 , -42.929127 ],\n",
              "       [-48.10581  , -54.990677 , -56.320133 , -62.116356 , -66.1725   ],\n",
              "       [-67.89992  , -73.29558  , -77.39693  , -84.52556  , -91.54261  ]],\n",
              "      dtype=float32)"
            ]
          },
          "execution_count": 7,
          "metadata": {},
          "output_type": "execute_result"
        }
      ],
      "source": [
        "# Fungsi Pengurangan\n",
        "tf.subtract(random_tensor,prime_tensor).numpy()"
      ]
    },
    {
      "cell_type": "code",
      "execution_count": null,
      "id": "68f5cdf6",
      "metadata": {
        "id": "68f5cdf6",
        "outputId": "0d1ba8e2-2c7e-4645-eeb1-d3bbe1364a66"
      },
      "outputs": [
        {
          "data": {
            "text/plain": [
              "array([[  9.227666,  15.254562,  11.189453,  34.010567,  63.021492],\n",
              "       [ 52.33697 ,  80.151276,  97.148544, 126.22378 , 173.08745 ],\n",
              "       [172.78857 , 120.15912 , 182.96475 , 192.48895 , 191.33109 ],\n",
              "       [259.39218 , 236.55006 , 285.4718  , 327.20404 , 342.75272 ],\n",
              "       [372.3062  , 450.64957 , 465.05527 , 398.22528 , 529.36676 ]],\n",
              "      dtype=float32)"
            ]
          },
          "execution_count": 8,
          "metadata": {},
          "output_type": "execute_result"
        }
      ],
      "source": [
        "# Fungsi Perkalian\n",
        "tf.multiply(random_tensor,prime_tensor).numpy()"
      ]
    },
    {
      "cell_type": "code",
      "execution_count": null,
      "id": "e0771768",
      "metadata": {
        "id": "e0771768",
        "outputId": "f0d4c47b-e8d3-4644-d2ab-772309d370a9"
      },
      "outputs": [
        {
          "data": {
            "text/plain": [
              "array([[2.3069165 , 1.6949514 , 0.44757813, 0.69409317, 0.5208388 ],\n",
              "       [0.3096862 , 0.27734005, 0.26910955, 0.23860827, 0.20581147],\n",
              "       [0.17980081, 0.08777145, 0.10884281, 0.10410435, 0.08661435],\n",
              "       [0.09234325, 0.06795463, 0.07671911, 0.07289018, 0.067993  ],\n",
              "       [0.06986418, 0.07220791, 0.06750693, 0.05027463, 0.05626174]],\n",
              "      dtype=float32)"
            ]
          },
          "execution_count": 9,
          "metadata": {},
          "output_type": "execute_result"
        }
      ],
      "source": [
        "# Fungsi Pembagian\n",
        "tf.divide(random_tensor,prime_tensor).numpy()"
      ]
    },
    {
      "cell_type": "code",
      "execution_count": null,
      "id": "0f5b78ae",
      "metadata": {
        "id": "0f5b78ae",
        "outputId": "b8a2d52a-d9d3-43ed-b7dd-8ee251a2c389"
      },
      "outputs": [
        {
          "data": {
            "text/plain": [
              "array([[2.1287455e+01, 1.3147267e+02, 5.6129913e+01, 6.3916152e+04,\n",
              "        2.1830114e+08],\n",
              "       [7.2987424e+07, 2.8109013e+11, 2.9172357e+13, 1.0150954e+17,\n",
              "        3.1634389e+22],\n",
              "       [1.3513035e+23, 8.4632214e+18, 4.2946381e+26, 9.7792548e+27,\n",
              "        4.5219016e+28],\n",
              "       [3.5735032e+36, 3.8123471e+35,           inf,           inf,\n",
              "                  inf],\n",
              "       [          inf,           inf,           inf,           inf,\n",
              "                  inf]], dtype=float32)"
            ]
          },
          "execution_count": 10,
          "metadata": {},
          "output_type": "execute_result"
        }
      ],
      "source": [
        "# Fungsi Pemangkatan\n",
        "tf.pow(random_tensor,prime_tensor).numpy()"
      ]
    },
    {
      "cell_type": "markdown",
      "id": "e288655d",
      "metadata": {
        "id": "e288655d"
      },
      "source": [
        "## "
      ]
    },
    {
      "cell_type": "markdown",
      "id": "77236aa5",
      "metadata": {
        "id": "77236aa5"
      },
      "source": [
        "5. Tampilkan nilai maksimal dan minimal dari variable random_tensor"
      ]
    },
    {
      "cell_type": "code",
      "execution_count": null,
      "id": "8b889981",
      "metadata": {
        "id": "8b889981",
        "outputId": "f842cbdd-a4bb-4e2a-bd0d-c61a9a9db091"
      },
      "outputs": [
        {
          "data": {
            "text/plain": [
              "array([2, 4, 4, 1, 1], dtype=int64)"
            ]
          },
          "execution_count": 11,
          "metadata": {},
          "output_type": "execute_result"
        }
      ],
      "source": [
        "tf.argmax(random_tensor, axis=0).numpy()"
      ]
    },
    {
      "cell_type": "code",
      "execution_count": null,
      "id": "60f1528b",
      "metadata": {
        "id": "60f1528b",
        "outputId": "a1857575-a06c-436c-fd0b-d5b67807458a"
      },
      "outputs": [
        {
          "data": {
            "text/plain": [
              "array([1, 2, 0, 4, 2], dtype=int64)"
            ]
          },
          "execution_count": 12,
          "metadata": {},
          "output_type": "execute_result"
        }
      ],
      "source": [
        "tf.argmin(random_tensor, axis=0).numpy()"
      ]
    },
    {
      "cell_type": "markdown",
      "id": "0f5a9f1b",
      "metadata": {
        "id": "0f5a9f1b"
      },
      "source": [
        "## "
      ]
    },
    {
      "cell_type": "markdown",
      "id": "e2ddb83f",
      "metadata": {
        "id": "e2ddb83f"
      },
      "source": [
        "6. Tampilkan hasil dari penggabungan variable random_tensor dengan prime_tensor (concatenation)"
      ]
    },
    {
      "cell_type": "code",
      "execution_count": null,
      "id": "b2799d13",
      "metadata": {
        "id": "b2799d13",
        "outputId": "3bc486e2-e414-43f0-e4da-2c38263acce2"
      },
      "outputs": [
        {
          "name": "stdout",
          "output_type": "stream",
          "text": [
            "Size Awal : (5, 5) (5, 5)\n"
          ]
        }
      ],
      "source": [
        "print(f\"Size Awal : {random_tensor.shape} {prime_tensor.shape}\" )"
      ]
    },
    {
      "cell_type": "code",
      "execution_count": null,
      "id": "bceebe60",
      "metadata": {
        "id": "bceebe60",
        "outputId": "3dcd41e3-5a40-4476-aef7-9b6a21409135"
      },
      "outputs": [
        {
          "name": "stdout",
          "output_type": "stream",
          "text": [
            "Size yang sudah di concat (axis = 0) : (10, 5)\n",
            "Size yang sudah di concat (axis = 1) : (5, 10)\n"
          ]
        }
      ],
      "source": [
        "concat_tensor_1 = tf.concat([random_tensor, prime_tensor], axis=0)\n",
        "concat_tensor_2 = tf.concat([random_tensor, prime_tensor], axis=1)\n",
        "print(f\"Size yang sudah di concat (axis = 0) : {concat_tensor_1.shape}\")\n",
        "print(f\"Size yang sudah di concat (axis = 1) : {concat_tensor_2.shape}\")"
      ]
    },
    {
      "cell_type": "markdown",
      "id": "0211bb42",
      "metadata": {
        "id": "0211bb42"
      },
      "source": [
        "## "
      ]
    },
    {
      "cell_type": "markdown",
      "id": "26b281ad",
      "metadata": {
        "id": "26b281ad"
      },
      "source": [
        "7. Tampilkan hasil sorting dari kedua variable di atas. (descending)"
      ]
    },
    {
      "cell_type": "code",
      "execution_count": null,
      "id": "3eea332a",
      "metadata": {
        "id": "3eea332a",
        "outputId": "027033ad-12a1-4816-e8ff-2ed4159a4c7c"
      },
      "outputs": [
        {
          "data": {
            "text/plain": [
              "array([[5.7292266, 5.084854 , 4.858652 , 4.613833 , 2.2378907],\n",
              "       [5.9685326, 5.4879904, 5.1130815, 4.714781 , 4.025921 ],\n",
              "       [5.573825 , 4.476487 , 4.462555 , 4.070874 , 3.2475438],\n",
              "       [4.894192 , 4.883642 , 4.827503 , 4.6798654, 4.009323 ],\n",
              "       [5.704425 , 5.6030755, 5.4573894, 5.1000853, 4.4744415]],\n",
              "      dtype=float32)"
            ]
          },
          "execution_count": 20,
          "metadata": {},
          "output_type": "execute_result"
        }
      ],
      "source": [
        "# Sorting random_tensor secara descending\n",
        "tf.sort(random_tensor, direction=\"DESCENDING\").numpy()"
      ]
    },
    {
      "cell_type": "code",
      "execution_count": null,
      "id": "fc2d587a",
      "metadata": {
        "id": "fc2d587a",
        "outputId": "66a75966-c422-40e7-eae9-a308b1b1b284"
      },
      "outputs": [
        {
          "data": {
            "text/plain": [
              "array([[11.,  7.,  5.,  3.,  2.],\n",
              "       [29., 23., 19., 17., 13.],\n",
              "       [47., 43., 41., 37., 31.],\n",
              "       [71., 67., 61., 59., 53.],\n",
              "       [97., 89., 83., 79., 73.]], dtype=float32)"
            ]
          },
          "execution_count": 21,
          "metadata": {},
          "output_type": "execute_result"
        }
      ],
      "source": [
        "# Sorting prime_tensor secara descending\n",
        "tf.sort(prime_tensor, direction=\"DESCENDING\").numpy()"
      ]
    }
  ],
  "metadata": {
    "kernelspec": {
      "display_name": "Python 3 (ipykernel)",
      "language": "python",
      "name": "python3"
    },
    "language_info": {
      "codemirror_mode": {
        "name": "ipython",
        "version": 3
      },
      "file_extension": ".py",
      "mimetype": "text/x-python",
      "name": "python",
      "nbconvert_exporter": "python",
      "pygments_lexer": "ipython3",
      "version": "3.10.7"
    },
    "vscode": {
      "interpreter": {
        "hash": "afb734500600fd355917ca529030176ea0ca205570884b88f2f6f7d791fd3fbe"
      }
    },
    "colab": {
      "provenance": []
    }
  },
  "nbformat": 4,
  "nbformat_minor": 5
}