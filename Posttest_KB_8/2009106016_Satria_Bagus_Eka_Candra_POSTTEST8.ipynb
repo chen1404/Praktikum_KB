{
  "nbformat": 4,
  "nbformat_minor": 0,
  "metadata": {
    "colab": {
      "provenance": []
    },
    "kernelspec": {
      "name": "python3",
      "display_name": "Python 3"
    },
    "language_info": {
      "name": "python"
    }
  },
  "cells": [
    {
      "cell_type": "markdown",
      "source": [
        "## IMPORT LIBRARY"
      ],
      "metadata": {
        "id": "XE6U78u6MGqN"
      }
    },
    {
      "cell_type": "code",
      "execution_count": 49,
      "metadata": {
        "id": "WxePmZKaLw9p"
      },
      "outputs": [],
      "source": [
        "import pandas as pd\n",
        "import tensorflow as tf\n",
        "from tensorflow.keras import optimizers,datasets,Sequential\n",
        "import matplotlib.pyplot as plt\n",
        "from tensorflow.keras.layers import Dense\n",
        "from tensorflow.keras.utils import to_categorical\n",
        "from tensorflow import keras\n",
        "import numpy as np"
      ]
    },
    {
      "cell_type": "markdown",
      "source": [
        "## PREVIEW DATA"
      ],
      "metadata": {
        "id": "k_sKUMivMJ6v"
      }
    },
    {
      "cell_type": "code",
      "source": [
        "(x_train_raw,y_train_raw) , (x_test_raw,y_test_raw) = datasets.fashion_mnist.load_data()"
      ],
      "metadata": {
        "id": "rSrf1qdzMCdI"
      },
      "execution_count": 37,
      "outputs": []
    },
    {
      "cell_type": "code",
      "source": [
        "print('Train: X=%s, y=%s' % (x_train_raw.shape, y_train_raw.shape))\n",
        "print('Test: X=%s, y=%s' % (x_test_raw.shape, y_test_raw.shape))"
      ],
      "metadata": {
        "colab": {
          "base_uri": "https://localhost:8080/"
        },
        "id": "yS3F4zh5R3IQ",
        "outputId": "27cb6bd7-714d-4bce-abb4-fe81af4d93a3"
      },
      "execution_count": 38,
      "outputs": [
        {
          "output_type": "stream",
          "name": "stdout",
          "text": [
            "Train: X=(60000, 28, 28), y=(60000,)\n",
            "Test: X=(10000, 28, 28), y=(10000,)\n"
          ]
        }
      ]
    },
    {
      "cell_type": "markdown",
      "source": [
        "#### Encoding Data"
      ],
      "metadata": {
        "id": "WbDC-sd-RlUp"
      }
    },
    {
      "cell_type": "code",
      "source": [
        "num_class = 10\n",
        "class_names = [\"T-shirt/top\",\"Trouser\",\"Pullover\",\"Dress\",\"Coat\",\"Sandal\",\"Shirt\",\"Sneaker\",\"Bag\",\"Ankle boot\"]\n",
        "#One Hot Encoding\n",
        "y_train = to_categorical(y_train_raw,num_class)\n",
        "y_test = to_categorical(y_test_raw,num_class)"
      ],
      "metadata": {
        "id": "EUTT8reVPjdP"
      },
      "execution_count": 39,
      "outputs": []
    },
    {
      "cell_type": "markdown",
      "source": [
        "#### Preview Gambar"
      ],
      "metadata": {
        "id": "PpeVPjx3R9mw"
      }
    },
    {
      "cell_type": "code",
      "source": [
        "plt.figure(figsize=(7,7))\n",
        "for i in range(9):\n",
        "  plt.subplot(3,3,i+1)\n",
        "  plt.imshow(x_train_raw[i],cmap='gray')\n",
        "  plt.axis('off')\n",
        "\n",
        "plt.show()"
      ],
      "metadata": {
        "colab": {
          "base_uri": "https://localhost:8080/",
          "height": 411
        },
        "id": "3W3_V9I3R0yW",
        "outputId": "1134d349-8f4e-4965-b252-078e2a89c6de"
      },
      "execution_count": 40,
      "outputs": [
        {
          "output_type": "display_data",
          "data": {
            "text/plain": [
              "<Figure size 504x504 with 9 Axes>"
            ],
            "image/png": "[encoded data removed]"
          },
          "metadata": {
            "needs_background": "light"
          }
        }
      ]
    },
    {
      "cell_type": "markdown",
      "source": [
        "#### Reshape Gambar"
      ],
      "metadata": {
        "id": "IdCXJ4ggSQqv"
      }
    },
    {
      "cell_type": "code",
      "source": [
        "x_train = x_train_raw.reshape(60000,784)\n",
        "x_test = x_test_raw.reshape(10000,784)"
      ],
      "metadata": {
        "id": "bXwb6oJ8SFXK"
      },
      "execution_count": 41,
      "outputs": []
    },
    {
      "cell_type": "markdown",
      "source": [
        "#### Scaling Gambar"
      ],
      "metadata": {
        "id": "w901A49eSTi3"
      }
    },
    {
      "cell_type": "code",
      "source": [
        "#Normalize image pixel values.\n",
        "x_train = x_train.astype('float32')/255\n",
        "x_test = x_test.astype('float32')/255"
      ],
      "metadata": {
        "id": "D1UpVvYTSTDF"
      },
      "execution_count": 42,
      "outputs": []
    },
    {
      "cell_type": "markdown",
      "source": [
        "#### Buat Model"
      ],
      "metadata": {
        "id": "M9-wXTHhScCi"
      }
    },
    {
      "cell_type": "code",
      "source": [
        "model_mnist = Sequential()\n",
        "\n",
        "#Input Layer\n",
        "model_mnist.add(Dense(512,activation='relu',input_dim=784))\n",
        "\n",
        "#Hidden Layer\n",
        "model_mnist.add(Dense(256,activation='relu'))\n",
        "model_mnist.add(Dense(128,activation='relu'))\n",
        "\n",
        "#Output Layer\n",
        "model_mnist.add(Dense(10,activation='softmax'))"
      ],
      "metadata": {
        "id": "5w8f4DiNSYce"
      },
      "execution_count": 43,
      "outputs": []
    },
    {
      "cell_type": "markdown",
      "source": [
        "#### Compile Model"
      ],
      "metadata": {
        "id": "xZo0-aOQSkPh"
      }
    },
    {
      "cell_type": "code",
      "source": [
        "Optimizer = optimizers.Adam(learning_rate=0.0001)\n",
        "\n",
        "model_mnist.compile(loss=keras.losses.categorical_crossentropy,optimizer=Optimizer,\n",
        "                    metrics=['accuracy'])"
      ],
      "metadata": {
        "id": "Ms_AGYHRSg21"
      },
      "execution_count": 44,
      "outputs": []
    },
    {
      "cell_type": "markdown",
      "source": [
        "#### Training Model"
      ],
      "metadata": {
        "id": "7JeZk-GTSnzs"
      }
    },
    {
      "cell_type": "code",
      "source": [
        "history = model_mnist.fit(x_train,y_train,epochs=10,batch_size=128,verbose=1,validation_data=(x_test,y_test))"
      ],
      "metadata": {
        "colab": {
          "base_uri": "https://localhost:8080/"
        },
        "id": "_Z4tjUeqSl0o",
        "outputId": "effc1069-0d27-42a4-a3d7-874304a3dfc5"
      },
      "execution_count": 45,
      "outputs": [
        {
          "output_type": "stream",
          "name": "stdout",
          "text": [
            "Epoch 1/10\n",
            "469/469 [==============================] - 8s 14ms/step - loss: 0.6629 - accuracy: 0.7831 - val_loss: 0.4741 - val_accuracy: 0.8358\n",
            "Epoch 2/10\n",
            "469/469 [==============================] - 6s 14ms/step - loss: 0.4182 - accuracy: 0.8540 - val_loss: 0.4207 - val_accuracy: 0.8510\n",
            "Epoch 3/10\n",
            "469/469 [==============================] - 6s 13ms/step - loss: 0.3770 - accuracy: 0.8672 - val_loss: 0.3970 - val_accuracy: 0.8581\n",
            "Epoch 4/10\n",
            "469/469 [==============================] - 7s 14ms/step - loss: 0.3491 - accuracy: 0.8757 - val_loss: 0.3797 - val_accuracy: 0.8656\n",
            "Epoch 5/10\n",
            "469/469 [==============================] - 6s 13ms/step - loss: 0.3300 - accuracy: 0.8820 - val_loss: 0.3816 - val_accuracy: 0.8643\n",
            "Epoch 6/10\n",
            "469/469 [==============================] - 6s 13ms/step - loss: 0.3142 - accuracy: 0.8878 - val_loss: 0.3717 - val_accuracy: 0.8671\n",
            "Epoch 7/10\n",
            "469/469 [==============================] - 6s 14ms/step - loss: 0.2988 - accuracy: 0.8917 - val_loss: 0.3459 - val_accuracy: 0.8768\n",
            "Epoch 8/10\n",
            "469/469 [==============================] - 6s 13ms/step - loss: 0.2857 - accuracy: 0.8974 - val_loss: 0.3408 - val_accuracy: 0.8774\n",
            "Epoch 9/10\n",
            "469/469 [==============================] - 7s 14ms/step - loss: 0.2775 - accuracy: 0.8996 - val_loss: 0.3342 - val_accuracy: 0.8791\n",
            "Epoch 10/10\n",
            "469/469 [==============================] - 7s 15ms/step - loss: 0.2652 - accuracy: 0.9044 - val_loss: 0.3318 - val_accuracy: 0.8798\n"
          ]
        }
      ]
    },
    {
      "cell_type": "markdown",
      "source": [
        "#### Evaluate Model"
      ],
      "metadata": {
        "id": "qoYQ-B8cYdxT"
      }
    },
    {
      "cell_type": "code",
      "source": [
        "score = model_mnist.evaluate(x_test,y_test,verbose=1)\n",
        "print(f'Test Loss    : {score[0]}')\n",
        "print(f'Test Akurasi : {round(score[1] * 100,2)} %')"
      ],
      "metadata": {
        "colab": {
          "base_uri": "https://localhost:8080/"
        },
        "id": "XYHLRcYDSqYz",
        "outputId": "108c6d19-6100-4f44-9221-80073dacc6ed"
      },
      "execution_count": 46,
      "outputs": [
        {
          "output_type": "stream",
          "name": "stdout",
          "text": [
            "313/313 [==============================] - 1s 4ms/step - loss: 0.3318 - accuracy: 0.8798\n",
            "Test Loss    : 0.3317761719226837\n",
            "Test Akurasi : 87.98 %\n"
          ]
        }
      ]
    },
    {
      "cell_type": "markdown",
      "source": [
        "#### Predict Model"
      ],
      "metadata": {
        "id": "q2LaOgkGZ83r"
      }
    },
    {
      "cell_type": "code",
      "source": [
        "predictions = model_mnist.predict(x_test)"
      ],
      "metadata": {
        "colab": {
          "base_uri": "https://localhost:8080/"
        },
        "id": "-qfN_qteYgBi",
        "outputId": "1b00c9e0-488b-4e05-e694-889b2cfcf01d"
      },
      "execution_count": 47,
      "outputs": [
        {
          "output_type": "stream",
          "name": "stdout",
          "text": [
            "313/313 [==============================] - 2s 6ms/step\n"
          ]
        }
      ]
    },
    {
      "cell_type": "code",
      "source": [
        "label = np.argmax(predictions,axis=1)\n",
        "ActualLabel = np.argmax(y_test[4])\n",
        "\n",
        "img = x_test[4].reshape(28, 28)\n",
        "\n",
        "plt.title(f\"Aktual Label : {ActualLabel}, Predicted Label : {label[4]}\")\n",
        "\n",
        "plt.imshow(img)\n",
        "plt.show()"
      ],
      "metadata": {
        "colab": {
          "base_uri": "https://localhost:8080/",
          "height": 281
        },
        "id": "O-mdap0-Z_SC",
        "outputId": "92356d17-1af1-4af8-b806-48ac92aa20bf"
      },
      "execution_count": 82,
      "outputs": [
        {
          "output_type": "display_data",
          "data": {
            "text/plain": [
              "<Figure size 432x288 with 1 Axes>"
            ],
            "image/png": "[encoded data removed]"
          },
          "metadata": {
            "needs_background": "light"
          }
        }
      ]
    },
    {
      "cell_type": "code",
      "source": [
        "plt.figure(figsize=(15,15))\n",
        "for i in range(9):\n",
        "  plt.subplot(3,3,i+1)\n",
        "\n",
        "\n",
        "  actual = class_names[np.argmax(y_test[i])]\n",
        "\n",
        "  plt.title(f\"Aktual Label : {actual}\\nPredicted Label : {class_names[label[i]]}\")\n",
        "  plt.imshow(x_test[i].reshape(28, 28),cmap='gray')\n",
        "  plt.axis('off')\n",
        "\n",
        "plt.show()"
      ],
      "metadata": {
        "colab": {
          "base_uri": "https://localhost:8080/",
          "height": 877
        },
        "id": "YJpnIF5kaBwe",
        "outputId": "f7f74a5d-107b-4a41-eb13-f35ec330867a"
      },
      "execution_count": 83,
      "outputs": [
        {
          "output_type": "display_data",
          "data": {
            "text/plain": [
              "<Figure size 1080x1080 with 9 Axes>"
            ],
            "image/png": "[encoded data removed]"
          },
          "metadata": {
            "needs_background": "light"
          }
        }
      ]
    },
    {
      "cell_type": "code",
      "source": [
        "y_test"
      ],
      "metadata": {
        "id": "efAbwkTEaf7Q"
      },
      "execution_count": null,
      "outputs": []
    }
  ]
}